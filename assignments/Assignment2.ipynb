{
 "cells": [
  {
   "cell_type": "markdown",
   "metadata": {},
   "source": [
    "# Assignment 2\n",
    "\n",
    "## Formalia:\n",
    "\n",
    "Please read the [assignment overview page](https://github.com/suneman/socialdata2022/wiki/Assignment-1-and-2) carefully before proceeding. This page contains information about formatting (including formats etc.), group sizes, and many other aspects of handing in the assignment. \n",
    "\n",
    "_If you fail to follow these simple instructions, it will negatively impact your grade!_\n",
    "\n",
    "**Due date and time**: The assignment is due on Monday, March the 28th, 2022 at 23:59. Hand in your files via [http://peergrade.io](http://peergrade.io/).\n",
    "\n",
    "**Peergrading date and time**: _Remember that after handing in you have 1 week to evaluate a few assignments written by other members of the class_. Thus, the peer evaluations are due on Monday, April the 4th, 2022 at 23:59.\n",
    "\n",
    "**Contributions**: In class I told you we will use DTU Learn. But Sune came up with a nicer idea!! **I'll send you a secret id by email later today** so you can add the contributions directly at the end of the notebook. They should look somewhat like this:\n",
    "\n",
    "* id1: did this, this, and this\n",
    "* id2: did that, that, and that\n",
    "* id3: ...\n",
    "\n",
    "**N.B.** It is NOT OK to say that each member contributed equally!"
   ]
  },
  {
   "cell_type": "markdown",
   "metadata": {},
   "source": [
    "This Assignment is based on the last three weeks of the course (Week 6-8). Before going on please load the data with the following line. In this way, you won't need to submit anything else than the .ipynb file and we will be able to run your notebook!"
   ]
  },
  {
   "cell_type": "markdown",
   "metadata": {},
   "source": [
    "## Part 1: Predicting criminal recidivism"
   ]
  },
  {
   "cell_type": "markdown",
   "metadata": {},
   "source": [
    "The following exercises are a subset of the ones we did during Week 6. If you have doubts or need more help, go back to the Week 6 notebook. There, you will find additional hints to complete the assignment."
   ]
  },
  {
   "cell_type": "markdown",
   "metadata": {},
   "source": [
    "> *Exercise 1:* Build a Decision Tree or a Random Forest. \n",
    ">   * Preprocess the data by only keeping records that have between $-30$ and $30$ days between the arrest and screening, then drop the `days_b_screening_arrest` column for the upcoming analysis.\n",
    ">   * Some features we are working with are categorical, so we need to deal with them by using encoders. There are many different types, but we will focus on the `OneHotEncoder` and the `LabelEncoder`:\n",
    ">      * Which encoder did you choose? Describe what it does and why you chose it.\n",
    ">   * Split the data in Train/Test sets by using a 70/30 split and `random_state=42`.\n",
    ">   * Fit a model to your Train set. Choose between a `DecisionTreeClassifier` or a `RandomForestClassifier`. \n",
    ">      * Describe how the model you chose works and why you chose it.\n",
    ">   * Evaluate the performance of model on the test set, i.e compute Accuracy, Precision, and Recall. \n",
    ">      * What are your thoughts on these metrics? Is accuracy a good measure?\n",
    ">   * Are your results tied to the specific hyperparameter set you used? Perform a `RandomizedSearchCV` and recompute the performance metric above with the hyperparameters found. What do you observe?\n",
    ">   * Visualize the tree. There are different options to do so. You can have a look at Week 6 for hints on how to do it. What do you observe?"
   ]
  },
  {
   "cell_type": "code",
   "execution_count": 2,
   "metadata": {},
   "outputs": [
    {
     "data": {
      "text/html": [
       "<div>\n",
       "<style scoped>\n",
       "    .dataframe tbody tr th:only-of-type {\n",
       "        vertical-align: middle;\n",
       "    }\n",
       "\n",
       "    .dataframe tbody tr th {\n",
       "        vertical-align: top;\n",
       "    }\n",
       "\n",
       "    .dataframe thead th {\n",
       "        text-align: right;\n",
       "    }\n",
       "</style>\n",
       "<table border=\"1\" class=\"dataframe\">\n",
       "  <thead>\n",
       "    <tr style=\"text-align: right;\">\n",
       "      <th></th>\n",
       "      <th>age</th>\n",
       "      <th>sex</th>\n",
       "      <th>race</th>\n",
       "      <th>juv_fel_count</th>\n",
       "      <th>juv_misd_count</th>\n",
       "      <th>juv_other_count</th>\n",
       "      <th>priors_count</th>\n",
       "      <th>two_year_recid</th>\n",
       "    </tr>\n",
       "  </thead>\n",
       "  <tbody>\n",
       "    <tr>\n",
       "      <th>0</th>\n",
       "      <td>69</td>\n",
       "      <td>Male</td>\n",
       "      <td>Other</td>\n",
       "      <td>0</td>\n",
       "      <td>0</td>\n",
       "      <td>0</td>\n",
       "      <td>0</td>\n",
       "      <td>0</td>\n",
       "    </tr>\n",
       "    <tr>\n",
       "      <th>1</th>\n",
       "      <td>34</td>\n",
       "      <td>Male</td>\n",
       "      <td>African-American</td>\n",
       "      <td>0</td>\n",
       "      <td>0</td>\n",
       "      <td>0</td>\n",
       "      <td>0</td>\n",
       "      <td>1</td>\n",
       "    </tr>\n",
       "    <tr>\n",
       "      <th>2</th>\n",
       "      <td>24</td>\n",
       "      <td>Male</td>\n",
       "      <td>African-American</td>\n",
       "      <td>0</td>\n",
       "      <td>0</td>\n",
       "      <td>1</td>\n",
       "      <td>4</td>\n",
       "      <td>1</td>\n",
       "    </tr>\n",
       "    <tr>\n",
       "      <th>5</th>\n",
       "      <td>44</td>\n",
       "      <td>Male</td>\n",
       "      <td>Other</td>\n",
       "      <td>0</td>\n",
       "      <td>0</td>\n",
       "      <td>0</td>\n",
       "      <td>0</td>\n",
       "      <td>0</td>\n",
       "    </tr>\n",
       "    <tr>\n",
       "      <th>6</th>\n",
       "      <td>41</td>\n",
       "      <td>Male</td>\n",
       "      <td>Caucasian</td>\n",
       "      <td>0</td>\n",
       "      <td>0</td>\n",
       "      <td>0</td>\n",
       "      <td>14</td>\n",
       "      <td>1</td>\n",
       "    </tr>\n",
       "  </tbody>\n",
       "</table>\n",
       "</div>"
      ],
      "text/plain": [
       "   age   sex              race  juv_fel_count  juv_misd_count  \\\n",
       "0   69  Male             Other              0               0   \n",
       "1   34  Male  African-American              0               0   \n",
       "2   24  Male  African-American              0               0   \n",
       "5   44  Male             Other              0               0   \n",
       "6   41  Male         Caucasian              0               0   \n",
       "\n",
       "   juv_other_count  priors_count  two_year_recid  \n",
       "0                0             0               0  \n",
       "1                0             0               1  \n",
       "2                1             4               1  \n",
       "5                0             0               0  \n",
       "6                0            14               1  "
      ]
     },
     "execution_count": 2,
     "metadata": {},
     "output_type": "execute_result"
    }
   ],
   "source": [
    "import pandas as pd\n",
    "import numpy as np\n",
    "import matplotlib.pyplot as plt\n",
    "\n",
    "column_list = [\"age\", \"sex\", \"race\", \"juv_fel_count\", \"juv_misd_count\", \"juv_other_count\",\n",
    "               \"priors_count\", \"two_year_recid\", \"days_b_screening_arrest\"]\n",
    "\n",
    "df = pd.read_csv(\"https://raw.githubusercontent.com/suneman/socialdata2022/main/files/recidivism_dataset_sub.csv\", usecols=column_list)\n",
    "features = df.filter(column_list)\n",
    "query_str = 'days_b_screening_arrest >= -30 & days_b_screening_arrest <= 30'\n",
    "preprocessed = features.copy().query(query_str)\n",
    "preprocessed.drop([\"days_b_screening_arrest\"], axis=1, inplace=True)\n",
    "preprocessed.head()"
   ]
  },
  {
   "cell_type": "code",
   "execution_count": 3,
   "metadata": {},
   "outputs": [
    {
     "data": {
      "text/html": [
       "<div>\n",
       "<style scoped>\n",
       "    .dataframe tbody tr th:only-of-type {\n",
       "        vertical-align: middle;\n",
       "    }\n",
       "\n",
       "    .dataframe tbody tr th {\n",
       "        vertical-align: top;\n",
       "    }\n",
       "\n",
       "    .dataframe thead th {\n",
       "        text-align: right;\n",
       "    }\n",
       "</style>\n",
       "<table border=\"1\" class=\"dataframe\">\n",
       "  <thead>\n",
       "    <tr style=\"text-align: right;\">\n",
       "      <th></th>\n",
       "      <th>age</th>\n",
       "      <th>sex</th>\n",
       "      <th>race</th>\n",
       "      <th>juv_fel_count</th>\n",
       "      <th>juv_misd_count</th>\n",
       "      <th>juv_other_count</th>\n",
       "      <th>priors_count</th>\n",
       "      <th>two_year_recid</th>\n",
       "    </tr>\n",
       "  </thead>\n",
       "  <tbody>\n",
       "    <tr>\n",
       "      <th>1</th>\n",
       "      <td>34</td>\n",
       "      <td>Male</td>\n",
       "      <td>African-American</td>\n",
       "      <td>0</td>\n",
       "      <td>0</td>\n",
       "      <td>0</td>\n",
       "      <td>0</td>\n",
       "      <td>1</td>\n",
       "    </tr>\n",
       "    <tr>\n",
       "      <th>2</th>\n",
       "      <td>24</td>\n",
       "      <td>Male</td>\n",
       "      <td>African-American</td>\n",
       "      <td>0</td>\n",
       "      <td>0</td>\n",
       "      <td>1</td>\n",
       "      <td>4</td>\n",
       "      <td>1</td>\n",
       "    </tr>\n",
       "    <tr>\n",
       "      <th>6</th>\n",
       "      <td>41</td>\n",
       "      <td>Male</td>\n",
       "      <td>Caucasian</td>\n",
       "      <td>0</td>\n",
       "      <td>0</td>\n",
       "      <td>0</td>\n",
       "      <td>14</td>\n",
       "      <td>1</td>\n",
       "    </tr>\n",
       "    <tr>\n",
       "      <th>11</th>\n",
       "      <td>23</td>\n",
       "      <td>Male</td>\n",
       "      <td>African-American</td>\n",
       "      <td>0</td>\n",
       "      <td>0</td>\n",
       "      <td>0</td>\n",
       "      <td>3</td>\n",
       "      <td>1</td>\n",
       "    </tr>\n",
       "    <tr>\n",
       "      <th>14</th>\n",
       "      <td>47</td>\n",
       "      <td>Female</td>\n",
       "      <td>Caucasian</td>\n",
       "      <td>0</td>\n",
       "      <td>0</td>\n",
       "      <td>0</td>\n",
       "      <td>1</td>\n",
       "      <td>1</td>\n",
       "    </tr>\n",
       "  </tbody>\n",
       "</table>\n",
       "</div>"
      ],
      "text/plain": [
       "    age     sex              race  juv_fel_count  juv_misd_count  \\\n",
       "1    34    Male  African-American              0               0   \n",
       "2    24    Male  African-American              0               0   \n",
       "6    41    Male         Caucasian              0               0   \n",
       "11   23    Male  African-American              0               0   \n",
       "14   47  Female         Caucasian              0               0   \n",
       "\n",
       "    juv_other_count  priors_count  two_year_recid  \n",
       "1                 0             0               1  \n",
       "2                 1             4               1  \n",
       "6                 0            14               1  \n",
       "11                0             3               1  \n",
       "14                0             1               1  "
      ]
     },
     "execution_count": 3,
     "metadata": {},
     "output_type": "execute_result"
    }
   ],
   "source": [
    "recommitted_values = preprocessed.two_year_recid.value_counts()\n",
    "target_category_size = recommitted_values.min()\n",
    "recommitted = preprocessed.query(f\"two_year_recid == 1\")[:target_category_size]\n",
    "no_recommitted = preprocessed.query(f\"two_year_recid == 0\")[:target_category_size]\n",
    "balanced = pd.concat([recommitted, no_recommitted], axis=0)\n",
    "balanced.head()"
   ]
  },
  {
   "cell_type": "code",
   "execution_count": 4,
   "metadata": {},
   "outputs": [],
   "source": [
    "from sklearn.preprocessing import OneHotEncoder\n",
    "\n",
    "sex = ['Female', 'Male']\n",
    "race = ['African-American', 'Caucasian', 'Hispanic', 'Asian', 'Native American', 'Other']\n",
    "feature_columns = [\"age\", \"juv_fel_count\", \"juv_misd_count\", \"juv_other_count\", \"priors_count\"]\n",
    "\n",
    "def prep_features_and_targets(dataset):\n",
    "    y = dataset[\"two_year_recid\"]\n",
    "    enc = OneHotEncoder(categories=[sex, race], handle_unknown='ignore')\n",
    "    X_1 = dataset[[\"sex\", \"race\"]]\n",
    "    X_2 = dataset.filter(feature_columns)\n",
    "    enc.fit(X_1)\n",
    "    category_data = enc.transform(X_1).toarray()\n",
    "    X = np.concatenate([category_data, X_2.to_numpy()], axis=1)\n",
    "    return (X, y)"
   ]
  },
  {
   "cell_type": "code",
   "execution_count": 5,
   "metadata": {},
   "outputs": [],
   "source": [
    "def compute_matrix(predictions, test_labels):\n",
    "    # only 1 & 1 = 1\n",
    "    true_positive = np.bitwise_and(predictions, test_labels).sum()\n",
    "    # only ~(0 | 0) = 1\n",
    "    true_negative = np.count_nonzero(np.bitwise_or(predictions, test_labels) == 0)\n",
    "\n",
    "    diff = (predictions - test_labels).value_counts()\n",
    "    # pred 0 - actual 1 is -1\n",
    "    false_negative = diff[-1] if -1 in diff.index else 0\n",
    "    \n",
    "    # pred 1 - actual 0 is 1\n",
    "    false_positive = diff[1] if 1 in diff.index else 0\n",
    "    return [[true_positive, false_positive], [true_negative, false_negative]]"
   ]
  },
  {
   "cell_type": "code",
   "execution_count": 6,
   "metadata": {},
   "outputs": [],
   "source": [
    "def performance_metrics(predictions, test_labels):\n",
    "    [true_positive, false_positive], [true_negative, false_negative] = compute_matrix(predictions, test_labels)\n",
    "    diff = (predictions - test_labels).value_counts()\n",
    "    accuracy = diff[0] / len(predictions)\n",
    "    precision = true_positive / (true_positive + false_positive)\n",
    "    recall = true_positive / (true_positive + false_negative)\n",
    "\n",
    "    return (accuracy, precision, recall)"
   ]
  },
  {
   "cell_type": "code",
   "execution_count": 7,
   "metadata": {},
   "outputs": [
    {
     "data": {
      "image/png": "[encoded data removed]",
      "text/plain": [
       "<Figure size 432x288 with 1 Axes>"
      ]
     },
     "metadata": {
      "needs_background": "light"
     },
     "output_type": "display_data"
    },
    {
     "name": "stdout",
     "output_type": "stream",
     "text": [
      "Accuracy: 0.64\n",
      "Precision: 0.67\n",
      "Recall: 0.61\n"
     ]
    }
   ],
   "source": [
    "from sklearn.model_selection import train_test_split\n",
    "from sklearn.ensemble import RandomForestRegressor\n",
    "\n",
    "X, y = prep_features_and_targets(balanced)\n",
    "train_features, test_features, train_labels, test_labels = train_test_split(X, y, train_size=0.7, test_size=0.3, shuffle=True, random_state=42)\n",
    "rf = RandomForestRegressor(n_estimators=100, random_state=0)\n",
    "rf.fit(train_features, train_labels)\n",
    "predictions = np.array(np.round(rf.predict(test_features)), dtype=np.int64)\n",
    "\n",
    "fig, ax = plt.subplots()\n",
    "ax.axis('off')\n",
    "tableDataAll = compute_matrix(predictions, test_labels)\n",
    "pred_labels = [\"Predicted Positive\", \"Predicted Negative\"]\n",
    "ac_labels = [\"Actual Positive\", \"Actual Negative\"]\n",
    "table = ax.table(cellText=tableDataAll, rowLabels=pred_labels, colLabels=ac_labels, loc=\"center\")\n",
    "table.scale(1, 5)\n",
    "\n",
    "plt.show()\n",
    "accuracy, precision, recall = performance_metrics(predictions, test_labels)\n",
    "print(f\"\"\"Accuracy: {accuracy:.2}\\nPrecision: {precision:.2}\\nRecall: {recall:.2}\"\"\")"
   ]
  },
  {
   "cell_type": "markdown",
   "metadata": {},
   "source": [
    "<mark>Evaluate the performance of model on the test set, i.e compute Accuracy, Precision, and Recall.\n",
    "What are your thoughts on these metrics? Is accuracy a good measure?<br>\n",
    "Are your results tied to the specific hyperparameter set you used? Perform a RandomizedSearchCV and recompute the performance metric above with the hyperparameters found. What do you observe?<br>\n",
    "Visualize the tree. There are different options to do so. You can have a look at Week 6 for hints on how to do it. What do you observe?</mark><br>\n",
    "<b>TODO<b>"
   ]
  },
  {
   "cell_type": "markdown",
   "metadata": {},
   "source": [
    "Before going on. Assign the predictions on the test set of your best model to the `y_hat` variable, and their related probabilities to the `y_prob` variable. Remember to use: `y_prob = model.predict_proba(X_test)`\n",
    "\n",
    "**N.B.** Set a specific `random_state` in your model too. Otherwise if we rerun your results we might not be able to reproduce them!"
   ]
  },
  {
   "cell_type": "code",
   "execution_count": 8,
   "metadata": {},
   "outputs": [],
   "source": [
    "y_hat = predictions"
   ]
  },
  {
   "cell_type": "markdown",
   "metadata": {},
   "source": [
    "## Part 2: Fairness and bias in Machine Learning"
   ]
  },
  {
   "cell_type": "markdown",
   "metadata": {},
   "source": [
    "We already know the model you've built is biased. In the next exercises we are going to apply a debiasing method. Please, refer to Week 7, Part 3 for more hints on how to solve these exercises. But first a couple of questions about bias."
   ]
  },
  {
   "cell_type": "markdown",
   "metadata": {},
   "source": [
    ">*Exercise 2.1:* A few questions about bias.\n",
    "> * What are the most common types of data bias? \n",
    "> * What are the potential bias sources/types in our case-study (i.e. recidivism)?"
   ]
  },
  {
   "cell_type": "markdown",
   "metadata": {},
   "source": [
    "<mark>What are the most common types of data bias?</mark><br>\n",
    ">The most common types of data bias are:\n",
    ">- Response / Activity Bias\n",
    ">- Selection bias due to feedback loops\n",
    ">- Bias due to system drift\n",
    ">- Omitted variable bias\n",
    ">- Societal bias\n",
    "\n",
    "<mark>What are the potential bias sources in our case-study (i.e. recidivism)?</mark>\n",
    "> Our data reflects the discrimination against African-Americans in the criminal justice system. This  is an example of societal bias.\n",
    ">\n",
    "> The dataset is also not representative of all demographic groups. This can be seen from the low number of records associated with Asians and Native-Americans, which skew statistics and predicitions computed on these groups. This is a case of activity bias."
   ]
  },
  {
   "cell_type": "markdown",
   "metadata": {},
   "source": [
    "> *Exercise 2.2:* Equal Odds. We are going to use `y_prob` to debias the ML model for African-Americans and Caucasians.\n",
    ">\n",
    ">    * Define the thresholds as `ths = np.linspace(1e-5,1-1e-5, 10)` and create a function that given a threshold `th` and `y_prob` returns `y_hat` as:\n",
    ">\n",
    ">$$\\begin{cases}\\hat{y}=1, \\mbox{ if } y_{prob} > th \\\\ \\hat{y}=0, \\mbox{ otherwhise}\\end{cases}    \\mbox(1)$$ \n",
    ">\n",
    ">\n",
    ">   * To find the two thresholds that correct for the bias for African-Americans and Caucasians, you can either compute the distance of the ROC curve points or visually find the thresholds (as described in Week 7 Ex. 3.3).\n",
    ">      * Describe the method you have used to find the thresholds (i.e. Visual or Computational) and how you used it to identify the thresholds. What thresholds did you find? \n",
    ">   * Debias the model output by re-computing $\\hat{y}$ with the thresholds you found. \n",
    ">      * **Hint 1** This means that you have to take `y_prob` of your model African-Americans and apply Eq. (1) with the threshold for African-Americans, and then repeat with the different threshold for Caucasians.\n",
    ">      * **Hint 2** You shouldn't rerun your model!\n",
    ">   * Now plot the confusion matrices for African-Americans and Caucasian after you debiased the method. What do you observe? What do you think the problem with this debiasing method is (Refer to Week 7 for more hints)?"
   ]
  },
  {
   "cell_type": "code",
   "execution_count": 9,
   "metadata": {},
   "outputs": [],
   "source": [
    "from sklearn.model_selection import train_test_split\n",
    "from sklearn.ensemble import RandomForestRegressor\n",
    "\n",
    "rf = RandomForestRegressor(n_estimators=100, random_state=42)\n",
    "def train_and_test_random_forest(dataset):\n",
    "    X, y = prep_features_and_targets(dataset)\n",
    "    train_features, test_features, train_labels, test_labels = train_test_split(X, y, train_size=0.7, test_size=0.3, shuffle=True, random_state=42, stratify=y)\n",
    "    rf.fit(train_features, train_labels)\n",
    "    probs = rf.predict(test_features)\n",
    "    return (probs, test_labels)\n"
   ]
  },
  {
   "cell_type": "code",
   "execution_count": 10,
   "metadata": {},
   "outputs": [],
   "source": [
    "# This function takes as input a recidivism probability and a threshold\n",
    "# and returns the prediction of the model\n",
    "# This is the implementation of Eq.(1) from Exercise 2.2 for a single element\n",
    "def predict_using_th_elementwise(probability, th):\n",
    "    if probability > th:\n",
    "        return 1\n",
    "    return 0\n",
    "# Given the probability vector and a threshold, the vectorized function returns y_hat\n",
    "predict_using_threshold = np.vectorize(predict_using_th_elementwise)\n",
    "\n",
    "# This function takes as input the target values and the predicted values of recidivism\n",
    "# and returns the true positive and false positive rates.\n",
    "def compute_rates(test_labels, probs):\n",
    "    # Compute the values of the confusion matrix by comparing predicted and actual values\n",
    "    [true_positive, false_positive], [true_negative, false_negative] = compute_matrix(probs, test_labels)\n",
    "    true_positive_rate = true_positive / (true_positive + false_negative)\n",
    "    false_positive_rate = false_positive / (false_positive + true_negative)\n",
    "    return (true_positive_rate, false_positive_rate)\n",
    "\n",
    "#This function takes as an input y, y_probs, thr \n",
    "#and returns the points to plot the ROC curve and their threshold\n",
    "def roc_curve(y, y_probs, ths):\n",
    "    #initialize roc as an empty np.array\n",
    "    roc = np.array([])\n",
    "    #loop over thresholds\n",
    "    for th in ths:\n",
    "        #convert y_prob in y_hat\n",
    "        y_hat = predict_using_threshold(y_probs, th)\n",
    "        #compute TPR and FPR\n",
    "        TPR, FPR = compute_rates(y, y_hat)\n",
    "        #add threshold and point to roc array\n",
    "        roc = np.append(roc, [th, FPR, TPR])\n",
    "    #return roc\n",
    "    return roc.reshape(-1, 3)"
   ]
  },
  {
   "cell_type": "code",
   "execution_count": 11,
   "metadata": {},
   "outputs": [],
   "source": [
    "pCA = balanced.loc[balanced.race == \"Caucasian\"]\n",
    "pAA = balanced.loc[balanced.race == \"African-American\"]\n",
    "\n",
    "\n",
    "ths = np.linspace(1e-5,1-1e-5, 10)\n",
    "y_prob_ca, test_labels_ca = train_and_test_random_forest(pCA)\n",
    "roc_ca = roc_curve(test_labels_ca, y_prob_ca, ths)\n",
    "\n",
    "y_prob_aa, test_labels_aa = train_and_test_random_forest(pAA)\n",
    "roc_aa = roc_curve(test_labels_aa, y_prob_aa, ths)"
   ]
  },
  {
   "cell_type": "code",
   "execution_count": 12,
   "metadata": {},
   "outputs": [
    {
     "data": {
      "text/html": [
       "\n",
       "    <div class=\"bk-root\">\n",
       "        <a href=\"https://bokeh.org\" target=\"_blank\" class=\"bk-logo bk-logo-small bk-logo-notebook\"></a>\n",
       "        <span id=\"1002\">Loading BokehJS ...</span>\n",
       "    </div>"
      ]
     },
     "metadata": {},
     "output_type": "display_data"
    },
    {
     "data": {
      "application/javascript": [
       "\n",
       "(function(root) {\n",
       "  function now() {\n",
       "    return new Date();\n",
       "  }\n",
       "\n",
       "  const force = true;\n",
       "\n",
       "  if (typeof root._bokeh_onload_callbacks === \"undefined\" || force === true) {\n",
       "    root._bokeh_onload_callbacks = [];\n",
       "    root._bokeh_is_loading = undefined;\n",
       "  }\n",
       "\n",
       "  const JS_MIME_TYPE = 'application/javascript';\n",
       "  const HTML_MIME_TYPE = 'text/html';\n",
       "  const EXEC_MIME_TYPE = 'application/vnd.bokehjs_exec.v0+json';\n",
       "  const CLASS_NAME = 'output_bokeh rendered_html';\n",
       "\n",
       "  /**\n",
       "   * Render data to the DOM node\n",
       "   */\n",
       "  function render(props, node) {\n",
       "    const script = document.createElement(\"script\");\n",
       "    node.appendChild(script);\n",
       "  }\n",
       "\n",
       "  /**\n",
       "   * Handle when an output is cleared or removed\n",
       "   */\n",
       "  function handleClearOutput(event, handle) {\n",
       "    const cell = handle.cell;\n",
       "\n",
       "    const id = cell.output_area._bokeh_element_id;\n",
       "    const server_id = cell.output_area._bokeh_server_id;\n",
       "    // Clean up Bokeh references\n",
       "    if (id != null && id in Bokeh.index) {\n",
       "      Bokeh.index[id].model.document.clear();\n",
       "      delete Bokeh.index[id];\n",
       "    }\n",
       "\n",
       "    if (server_id !== undefined) {\n",
       "      // Clean up Bokeh references\n",
       "      const cmd_clean = \"from bokeh.io.state import curstate; print(curstate().uuid_to_server['\" + server_id + \"'].get_sessions()[0].document.roots[0]._id)\";\n",
       "      cell.notebook.kernel.execute(cmd_clean, {\n",
       "        iopub: {\n",
       "          output: function(msg) {\n",
       "            const id = msg.content.text.trim();\n",
       "            if (id in Bokeh.index) {\n",
       "              Bokeh.index[id].model.document.clear();\n",
       "              delete Bokeh.index[id];\n",
       "            }\n",
       "          }\n",
       "        }\n",
       "      });\n",
       "      // Destroy server and session\n",
       "      const cmd_destroy = \"import bokeh.io.notebook as ion; ion.destroy_server('\" + server_id + \"')\";\n",
       "      cell.notebook.kernel.execute(cmd_destroy);\n",
       "    }\n",
       "  }\n",
       "\n",
       "  /**\n",
       "   * Handle when a new output is added\n",
       "   */\n",
       "  function handleAddOutput(event, handle) {\n",
       "    const output_area = handle.output_area;\n",
       "    const output = handle.output;\n",
       "\n",
       "    // limit handleAddOutput to display_data with EXEC_MIME_TYPE content only\n",
       "    if ((output.output_type != \"display_data\") || (!Object.prototype.hasOwnProperty.call(output.data, EXEC_MIME_TYPE))) {\n",
       "      return\n",
       "    }\n",
       "\n",
       "    const toinsert = output_area.element.find(\".\" + CLASS_NAME.split(' ')[0]);\n",
       "\n",
       "    if (output.metadata[EXEC_MIME_TYPE][\"id\"] !== undefined) {\n",
       "      toinsert[toinsert.length - 1].firstChild.textContent = output.data[JS_MIME_TYPE];\n",
       "      // store reference to embed id on output_area\n",
       "      output_area._bokeh_element_id = output.metadata[EXEC_MIME_TYPE][\"id\"];\n",
       "    }\n",
       "    if (output.metadata[EXEC_MIME_TYPE][\"server_id\"] !== undefined) {\n",
       "      const bk_div = document.createElement(\"div\");\n",
       "      bk_div.innerHTML = output.data[HTML_MIME_TYPE];\n",
       "      const script_attrs = bk_div.children[0].attributes;\n",
       "      for (let i = 0; i < script_attrs.length; i++) {\n",
       "        toinsert[toinsert.length - 1].firstChild.setAttribute(script_attrs[i].name, script_attrs[i].value);\n",
       "        toinsert[toinsert.length - 1].firstChild.textContent = bk_div.children[0].textContent\n",
       "      }\n",
       "      // store reference to server id on output_area\n",
       "      output_area._bokeh_server_id = output.metadata[EXEC_MIME_TYPE][\"server_id\"];\n",
       "    }\n",
       "  }\n",
       "\n",
       "  function register_renderer(events, OutputArea) {\n",
       "\n",
       "    function append_mime(data, metadata, element) {\n",
       "      // create a DOM node to render to\n",
       "      const toinsert = this.create_output_subarea(\n",
       "        metadata,\n",
       "        CLASS_NAME,\n",
       "        EXEC_MIME_TYPE\n",
       "      );\n",
       "      this.keyboard_manager.register_events(toinsert);\n",
       "      // Render to node\n",
       "      const props = {data: data, metadata: metadata[EXEC_MIME_TYPE]};\n",
       "      render(props, toinsert[toinsert.length - 1]);\n",
       "      element.append(toinsert);\n",
       "      return toinsert\n",
       "    }\n",
       "\n",
       "    /* Handle when an output is cleared or removed */\n",
       "    events.on('clear_output.CodeCell', handleClearOutput);\n",
       "    events.on('delete.Cell', handleClearOutput);\n",
       "\n",
       "    /* Handle when a new output is added */\n",
       "    events.on('output_added.OutputArea', handleAddOutput);\n",
       "\n",
       "    /**\n",
       "     * Register the mime type and append_mime function with output_area\n",
       "     */\n",
       "    OutputArea.prototype.register_mime_type(EXEC_MIME_TYPE, append_mime, {\n",
       "      /* Is output safe? */\n",
       "      safe: true,\n",
       "      /* Index of renderer in `output_area.display_order` */\n",
       "      index: 0\n",
       "    });\n",
       "  }\n",
       "\n",
       "  // register the mime type if in Jupyter Notebook environment and previously unregistered\n",
       "  if (root.Jupyter !== undefined) {\n",
       "    const events = require('base/js/events');\n",
       "    const OutputArea = require('notebook/js/outputarea').OutputArea;\n",
       "\n",
       "    if (OutputArea.prototype.mime_types().indexOf(EXEC_MIME_TYPE) == -1) {\n",
       "      register_renderer(events, OutputArea);\n",
       "    }\n",
       "  }\n",
       "\n",
       "  \n",
       "  if (typeof (root._bokeh_timeout) === \"undefined\" || force === true) {\n",
       "    root._bokeh_timeout = Date.now() + 5000;\n",
       "    root._bokeh_failed_load = false;\n",
       "  }\n",
       "\n",
       "  const NB_LOAD_WARNING = {'data': {'text/html':\n",
       "     \"<div style='background-color: #fdd'>\\n\"+\n",
       "     \"<p>\\n\"+\n",
       "     \"BokehJS does not appear to have successfully loaded. If loading BokehJS from CDN, this \\n\"+\n",
       "     \"may be due to a slow or bad network connection. Possible fixes:\\n\"+\n",
       "     \"</p>\\n\"+\n",
       "     \"<ul>\\n\"+\n",
       "     \"<li>re-rerun `output_notebook()` to attempt to load from CDN again, or</li>\\n\"+\n",
       "     \"<li>use INLINE resources instead, as so:</li>\\n\"+\n",
       "     \"</ul>\\n\"+\n",
       "     \"<code>\\n\"+\n",
       "     \"from bokeh.resources import INLINE\\n\"+\n",
       "     \"output_notebook(resources=INLINE)\\n\"+\n",
       "     \"</code>\\n\"+\n",
       "     \"</div>\"}};\n",
       "\n",
       "  function display_loaded() {\n",
       "    const el = document.getElementById(\"1002\");\n",
       "    if (el != null) {\n",
       "      el.textContent = \"BokehJS is loading...\";\n",
       "    }\n",
       "    if (root.Bokeh !== undefined) {\n",
       "      if (el != null) {\n",
       "        el.textContent = \"BokehJS \" + root.Bokeh.version + \" successfully loaded.\";\n",
       "      }\n",
       "    } else if (Date.now() < root._bokeh_timeout) {\n",
       "      setTimeout(display_loaded, 100)\n",
       "    }\n",
       "  }\n",
       "\n",
       "\n",
       "  function run_callbacks() {\n",
       "    try {\n",
       "      root._bokeh_onload_callbacks.forEach(function(callback) {\n",
       "        if (callback != null)\n",
       "          callback();\n",
       "      });\n",
       "    } finally {\n",
       "      delete root._bokeh_onload_callbacks\n",
       "    }\n",
       "    console.debug(\"Bokeh: all callbacks have finished\");\n",
       "  }\n",
       "\n",
       "  function load_libs(css_urls, js_urls, callback) {\n",
       "    if (css_urls == null) css_urls = [];\n",
       "    if (js_urls == null) js_urls = [];\n",
       "\n",
       "    root._bokeh_onload_callbacks.push(callback);\n",
       "    if (root._bokeh_is_loading > 0) {\n",
       "      console.debug(\"Bokeh: BokehJS is being loaded, scheduling callback at\", now());\n",
       "      return null;\n",
       "    }\n",
       "    if (js_urls == null || js_urls.length === 0) {\n",
       "      run_callbacks();\n",
       "      return null;\n",
       "    }\n",
       "    console.debug(\"Bokeh: BokehJS not loaded, scheduling load and callback at\", now());\n",
       "    root._bokeh_is_loading = css_urls.length + js_urls.length;\n",
       "\n",
       "    function on_load() {\n",
       "      root._bokeh_is_loading--;\n",
       "      if (root._bokeh_is_loading === 0) {\n",
       "        console.debug(\"Bokeh: all BokehJS libraries/stylesheets loaded\");\n",
       "        run_callbacks()\n",
       "      }\n",
       "    }\n",
       "\n",
       "    function on_error(url) {\n",
       "      console.error(\"failed to load \" + url);\n",
       "    }\n",
       "\n",
       "    for (let i = 0; i < css_urls.length; i++) {\n",
       "      const url = css_urls[i];\n",
       "      const element = document.createElement(\"link\");\n",
       "      element.onload = on_load;\n",
       "      element.onerror = on_error.bind(null, url);\n",
       "      element.rel = \"stylesheet\";\n",
       "      element.type = \"text/css\";\n",
       "      element.href = url;\n",
       "      console.debug(\"Bokeh: injecting link tag for BokehJS stylesheet: \", url);\n",
       "      document.body.appendChild(element);\n",
       "    }\n",
       "\n",
       "    for (let i = 0; i < js_urls.length; i++) {\n",
       "      const url = js_urls[i];\n",
       "      const element = document.createElement('script');\n",
       "      element.onload = on_load;\n",
       "      element.onerror = on_error.bind(null, url);\n",
       "      element.async = false;\n",
       "      element.src = url;\n",
       "      console.debug(\"Bokeh: injecting script tag for BokehJS library: \", url);\n",
       "      document.head.appendChild(element);\n",
       "    }\n",
       "  };\n",
       "\n",
       "  function inject_raw_css(css) {\n",
       "    const element = document.createElement(\"style\");\n",
       "    element.appendChild(document.createTextNode(css));\n",
       "    document.body.appendChild(element);\n",
       "  }\n",
       "\n",
       "  \n",
       "  const js_urls = [\"https://cdn.bokeh.org/bokeh/release/bokeh-2.4.2.min.js\", \"https://cdn.bokeh.org/bokeh/release/bokeh-gl-2.4.2.min.js\", \"https://cdn.bokeh.org/bokeh/release/bokeh-widgets-2.4.2.min.js\", \"https://cdn.bokeh.org/bokeh/release/bokeh-tables-2.4.2.min.js\", \"https://cdn.bokeh.org/bokeh/release/bokeh-mathjax-2.4.2.min.js\"];\n",
       "  const css_urls = [];\n",
       "  \n",
       "\n",
       "  const inline_js = [\n",
       "    function(Bokeh) {\n",
       "      Bokeh.set_log_level(\"info\");\n",
       "    },\n",
       "    function(Bokeh) {\n",
       "    \n",
       "    \n",
       "    }\n",
       "  ];\n",
       "\n",
       "  function run_inline_js() {\n",
       "    \n",
       "    if (root.Bokeh !== undefined || force === true) {\n",
       "      \n",
       "    for (let i = 0; i < inline_js.length; i++) {\n",
       "      inline_js[i].call(root, root.Bokeh);\n",
       "    }\n",
       "    if (force === true) {\n",
       "        display_loaded();\n",
       "      }} else if (Date.now() < root._bokeh_timeout) {\n",
       "      setTimeout(run_inline_js, 100);\n",
       "    } else if (!root._bokeh_failed_load) {\n",
       "      console.log(\"Bokeh: BokehJS failed to load within specified timeout.\");\n",
       "      root._bokeh_failed_load = true;\n",
       "    } else if (force !== true) {\n",
       "      const cell = $(document.getElementById(\"1002\")).parents('.cell').data().cell;\n",
       "      cell.output_area.append_execute_result(NB_LOAD_WARNING)\n",
       "    }\n",
       "\n",
       "  }\n",
       "\n",
       "  if (root._bokeh_is_loading === 0) {\n",
       "    console.debug(\"Bokeh: BokehJS loaded, going straight to plotting\");\n",
       "    run_inline_js();\n",
       "  } else {\n",
       "    load_libs(css_urls, js_urls, function() {\n",
       "      console.debug(\"Bokeh: BokehJS plotting callback run at\", now());\n",
       "      run_inline_js();\n",
       "    });\n",
       "  }\n",
       "}(window));"
      ],
      "application/vnd.bokehjs_load.v0+json": "\n(function(root) {\n  function now() {\n    return new Date();\n  }\n\n  const force = true;\n\n  if (typeof root._bokeh_onload_callbacks === \"undefined\" || force === true) {\n    root._bokeh_onload_callbacks = [];\n    root._bokeh_is_loading = undefined;\n  }\n\n  \n\n  \n  if (typeof (root._bokeh_timeout) === \"undefined\" || force === true) {\n    root._bokeh_timeout = Date.now() + 5000;\n    root._bokeh_failed_load = false;\n  }\n\n  const NB_LOAD_WARNING = {'data': {'text/html':\n     \"<div style='background-color: #fdd'>\\n\"+\n     \"<p>\\n\"+\n     \"BokehJS does not appear to have successfully loaded. If loading BokehJS from CDN, this \\n\"+\n     \"may be due to a slow or bad network connection. Possible fixes:\\n\"+\n     \"</p>\\n\"+\n     \"<ul>\\n\"+\n     \"<li>re-rerun `output_notebook()` to attempt to load from CDN again, or</li>\\n\"+\n     \"<li>use INLINE resources instead, as so:</li>\\n\"+\n     \"</ul>\\n\"+\n     \"<code>\\n\"+\n     \"from bokeh.resources import INLINE\\n\"+\n     \"output_notebook(resources=INLINE)\\n\"+\n     \"</code>\\n\"+\n     \"</div>\"}};\n\n  function display_loaded() {\n    const el = document.getElementById(\"1002\");\n    if (el != null) {\n      el.textContent = \"BokehJS is loading...\";\n    }\n    if (root.Bokeh !== undefined) {\n      if (el != null) {\n        el.textContent = \"BokehJS \" + root.Bokeh.version + \" successfully loaded.\";\n      }\n    } else if (Date.now() < root._bokeh_timeout) {\n      setTimeout(display_loaded, 100)\n    }\n  }\n\n\n  function run_callbacks() {\n    try {\n      root._bokeh_onload_callbacks.forEach(function(callback) {\n        if (callback != null)\n          callback();\n      });\n    } finally {\n      delete root._bokeh_onload_callbacks\n    }\n    console.debug(\"Bokeh: all callbacks have finished\");\n  }\n\n  function load_libs(css_urls, js_urls, callback) {\n    if (css_urls == null) css_urls = [];\n    if (js_urls == null) js_urls = [];\n\n    root._bokeh_onload_callbacks.push(callback);\n    if (root._bokeh_is_loading > 0) {\n      console.debug(\"Bokeh: BokehJS is being loaded, scheduling callback at\", now());\n      return null;\n    }\n    if (js_urls == null || js_urls.length === 0) {\n      run_callbacks();\n      return null;\n    }\n    console.debug(\"Bokeh: BokehJS not loaded, scheduling load and callback at\", now());\n    root._bokeh_is_loading = css_urls.length + js_urls.length;\n\n    function on_load() {\n      root._bokeh_is_loading--;\n      if (root._bokeh_is_loading === 0) {\n        console.debug(\"Bokeh: all BokehJS libraries/stylesheets loaded\");\n        run_callbacks()\n      }\n    }\n\n    function on_error(url) {\n      console.error(\"failed to load \" + url);\n    }\n\n    for (let i = 0; i < css_urls.length; i++) {\n      const url = css_urls[i];\n      const element = document.createElement(\"link\");\n      element.onload = on_load;\n      element.onerror = on_error.bind(null, url);\n      element.rel = \"stylesheet\";\n      element.type = \"text/css\";\n      element.href = url;\n      console.debug(\"Bokeh: injecting link tag for BokehJS stylesheet: \", url);\n      document.body.appendChild(element);\n    }\n\n    for (let i = 0; i < js_urls.length; i++) {\n      const url = js_urls[i];\n      const element = document.createElement('script');\n      element.onload = on_load;\n      element.onerror = on_error.bind(null, url);\n      element.async = false;\n      element.src = url;\n      console.debug(\"Bokeh: injecting script tag for BokehJS library: \", url);\n      document.head.appendChild(element);\n    }\n  };\n\n  function inject_raw_css(css) {\n    const element = document.createElement(\"style\");\n    element.appendChild(document.createTextNode(css));\n    document.body.appendChild(element);\n  }\n\n  \n  const js_urls = [\"https://cdn.bokeh.org/bokeh/release/bokeh-2.4.2.min.js\", \"https://cdn.bokeh.org/bokeh/release/bokeh-gl-2.4.2.min.js\", \"https://cdn.bokeh.org/bokeh/release/bokeh-widgets-2.4.2.min.js\", \"https://cdn.bokeh.org/bokeh/release/bokeh-tables-2.4.2.min.js\", \"https://cdn.bokeh.org/bokeh/release/bokeh-mathjax-2.4.2.min.js\"];\n  const css_urls = [];\n  \n\n  const inline_js = [\n    function(Bokeh) {\n      Bokeh.set_log_level(\"info\");\n    },\n    function(Bokeh) {\n    \n    \n    }\n  ];\n\n  function run_inline_js() {\n    \n    if (root.Bokeh !== undefined || force === true) {\n      \n    for (let i = 0; i < inline_js.length; i++) {\n      inline_js[i].call(root, root.Bokeh);\n    }\n    if (force === true) {\n        display_loaded();\n      }} else if (Date.now() < root._bokeh_timeout) {\n      setTimeout(run_inline_js, 100);\n    } else if (!root._bokeh_failed_load) {\n      console.log(\"Bokeh: BokehJS failed to load within specified timeout.\");\n      root._bokeh_failed_load = true;\n    } else if (force !== true) {\n      const cell = $(document.getElementById(\"1002\")).parents('.cell').data().cell;\n      cell.output_area.append_execute_result(NB_LOAD_WARNING)\n    }\n\n  }\n\n  if (root._bokeh_is_loading === 0) {\n    console.debug(\"Bokeh: BokehJS loaded, going straight to plotting\");\n    run_inline_js();\n  } else {\n    load_libs(css_urls, js_urls, function() {\n      console.debug(\"Bokeh: BokehJS plotting callback run at\", now());\n      run_inline_js();\n    });\n  }\n}(window));"
     },
     "metadata": {},
     "output_type": "display_data"
    }
   ],
   "source": [
    "from bokeh.plotting import figure, show\n",
    "from bokeh.io import output_notebook\n",
    "from bokeh.models import HoverTool\n",
    "from bokeh.models import ColumnDataSource, Legend\n",
    "\n",
    "output_notebook()"
   ]
  },
  {
   "cell_type": "code",
   "execution_count": 13,
   "metadata": {},
   "outputs": [
    {
     "data": {
      "text/html": [
       "\n",
       "\n",
       "\n",
       "\n",
       "\n",
       "\n",
       "  <div class=\"bk-root\" id=\"30c5a7bc-cc99-4cd3-8c52-5637101a56d3\" data-root-id=\"1005\"></div>\n"
      ]
     },
     "metadata": {},
     "output_type": "display_data"
    },
    {
     "data": {
      "application/javascript": [
       "(function(root) {\n",
       "  function embed_document(root) {\n",
       "    \n",
       "  const docs_json = {\"a73b3fec-02ca-4ae2-8b12-6baf51d17413\":{\"defs\":[],\"roots\":{\"references\":[{\"attributes\":{\"below\":[{\"id\":\"1016\"}],\"center\":[{\"id\":\"1019\"},{\"id\":\"1023\"}],\"left\":[{\"id\":\"1020\"}],\"renderers\":[{\"id\":\"1042\"},{\"id\":\"1048\"},{\"id\":\"1058\"}],\"right\":[{\"id\":\"1050\"}],\"title\":{\"id\":\"1006\"},\"toolbar\":{\"id\":\"1031\"},\"x_range\":{\"id\":\"1008\"},\"x_scale\":{\"id\":\"1012\"},\"y_range\":{\"id\":\"1010\"},\"y_scale\":{\"id\":\"1014\"}},\"id\":\"1005\",\"subtype\":\"Figure\",\"type\":\"Plot\"},{\"attributes\":{\"line_alpha\":0.2,\"line_color\":\"blue\",\"x\":{\"field\":\"FPR_AA\"},\"y\":{\"field\":\"TPR_AA\"}},\"id\":\"1041\",\"type\":\"Line\"},{\"attributes\":{\"fill_alpha\":{\"value\":0.2},\"fill_color\":{\"value\":\"grey\"},\"hatch_alpha\":{\"value\":0.2},\"line_alpha\":{\"value\":0.2},\"line_color\":{\"value\":\"#1f77b4\"},\"x\":{\"field\":\"x\"},\"y\":{\"field\":\"y\"}},\"id\":\"1057\",\"type\":\"Circle\"},{\"attributes\":{\"source\":{\"id\":\"1004\"}},\"id\":\"1043\",\"type\":\"CDSView\"},{\"attributes\":{},\"id\":\"1065\",\"type\":\"AllLabels\"},{\"attributes\":{\"tools\":[{\"id\":\"1024\"},{\"id\":\"1025\"},{\"id\":\"1026\"},{\"id\":\"1027\"},{\"id\":\"1028\"},{\"id\":\"1029\"},{\"id\":\"1060\"}]},\"id\":\"1031\",\"type\":\"Toolbar\"},{\"attributes\":{\"coordinates\":null,\"data_source\":{\"id\":\"1004\"},\"glyph\":{\"id\":\"1039\"},\"group\":null,\"hover_glyph\":null,\"muted_glyph\":{\"id\":\"1041\"},\"nonselection_glyph\":{\"id\":\"1040\"},\"view\":{\"id\":\"1043\"}},\"id\":\"1042\",\"type\":\"GlyphRenderer\"},{\"attributes\":{},\"id\":\"1068\",\"type\":\"AllLabels\"},{\"attributes\":{\"line_alpha\":0.1,\"line_color\":\"blue\",\"x\":{\"field\":\"FPR_AA\"},\"y\":{\"field\":\"TPR_AA\"}},\"id\":\"1040\",\"type\":\"Line\"},{\"attributes\":{\"fill_alpha\":{\"value\":0.1},\"fill_color\":{\"value\":\"grey\"},\"hatch_alpha\":{\"value\":0.1},\"line_alpha\":{\"value\":0.1},\"line_color\":{\"value\":\"#1f77b4\"},\"x\":{\"field\":\"x\"},\"y\":{\"field\":\"y\"}},\"id\":\"1055\",\"type\":\"Circle\"},{\"attributes\":{\"bottom_units\":\"screen\",\"coordinates\":null,\"fill_alpha\":0.5,\"fill_color\":\"lightgrey\",\"group\":null,\"left_units\":\"screen\",\"level\":\"overlay\",\"line_alpha\":1.0,\"line_color\":\"black\",\"line_dash\":[4,4],\"line_width\":2,\"right_units\":\"screen\",\"syncable\":false,\"top_units\":\"screen\"},\"id\":\"1030\",\"type\":\"BoxAnnotation\"},{\"attributes\":{},\"id\":\"1024\",\"type\":\"PanTool\"},{\"attributes\":{},\"id\":\"1067\",\"type\":\"BasicTickFormatter\"},{\"attributes\":{\"click_policy\":\"hide\",\"coordinates\":null,\"group\":null,\"items\":[{\"id\":\"1051\"},{\"id\":\"1052\"}],\"location\":\"top\"},\"id\":\"1050\",\"type\":\"Legend\"},{\"attributes\":{\"axis_label\":\"FPR\",\"coordinates\":null,\"formatter\":{\"id\":\"1067\"},\"group\":null,\"major_label_policy\":{\"id\":\"1068\"},\"ticker\":{\"id\":\"1017\"}},\"id\":\"1016\",\"type\":\"LinearAxis\"},{\"attributes\":{},\"id\":\"1028\",\"type\":\"ResetTool\"},{\"attributes\":{},\"id\":\"1025\",\"type\":\"WheelZoomTool\"},{\"attributes\":{},\"id\":\"1070\",\"type\":\"Selection\"},{\"attributes\":{\"line_alpha\":0.2,\"line_color\":\"red\",\"x\":{\"field\":\"FPR_CA\"},\"y\":{\"field\":\"TPR_CA\"}},\"id\":\"1047\",\"type\":\"Line\"},{\"attributes\":{\"overlay\":{\"id\":\"1030\"}},\"id\":\"1026\",\"type\":\"BoxZoomTool\"},{\"attributes\":{\"fill_color\":{\"value\":\"orange\"},\"line_color\":{\"value\":\"#1f77b4\"},\"x\":{\"field\":\"x\"},\"y\":{\"field\":\"y\"}},\"id\":\"1056\",\"type\":\"Circle\"},{\"attributes\":{},\"id\":\"1027\",\"type\":\"SaveTool\"},{\"attributes\":{\"fill_color\":{\"value\":\"grey\"},\"line_color\":{\"value\":\"#1f77b4\"},\"x\":{\"field\":\"x\"},\"y\":{\"field\":\"y\"}},\"id\":\"1054\",\"type\":\"Circle\"},{\"attributes\":{\"line_alpha\":0.1,\"line_color\":\"red\",\"x\":{\"field\":\"FPR_CA\"},\"y\":{\"field\":\"TPR_CA\"}},\"id\":\"1046\",\"type\":\"Line\"},{\"attributes\":{},\"id\":\"1064\",\"type\":\"BasicTickFormatter\"},{\"attributes\":{},\"id\":\"1008\",\"type\":\"DataRange1d\"},{\"attributes\":{\"source\":{\"id\":\"1004\"}},\"id\":\"1049\",\"type\":\"CDSView\"},{\"attributes\":{},\"id\":\"1029\",\"type\":\"HelpTool\"},{\"attributes\":{},\"id\":\"1072\",\"type\":\"Selection\"},{\"attributes\":{\"coordinates\":null,\"data_source\":{\"id\":\"1004\"},\"glyph\":{\"id\":\"1045\"},\"group\":null,\"hover_glyph\":null,\"muted_glyph\":{\"id\":\"1047\"},\"nonselection_glyph\":{\"id\":\"1046\"},\"view\":{\"id\":\"1049\"}},\"id\":\"1048\",\"type\":\"GlyphRenderer\"},{\"attributes\":{\"data\":{\"FPR_AA\":{\"__ndarray__\":\"Q3kN5TWU7z90S5z6PbfsP+iWOPV7buk/RtqxAmGk5T/zGsprKK/hP+BzS5z6Pdc/8xrKayiv0T/tWIEw0o7FPw3lNZTXUL4/RtqxAmGknT8=\",\"dtype\":\"float64\",\"order\":\"little\",\"shape\":[10]},\"FPR_CA\":{\"__ndarray__\":\"FFkv+3mY7j/5tuRdtWLrP/VxDpI2ROU/6iSuGSAo4j+yXvbzMH3cP5BzkLQhqtQ/fFvyrlqxzT/Mfh6mj3PAP/ayn4fp46w/2hBV6iSueT8=\",\"dtype\":\"float64\",\"order\":\"little\",\"shape\":[10]},\"TPR_AA\":{\"__ndarray__\":\"EHDrsxnf7z+kYDIHAbfuP2qhO3Y1LO0/isrTQnfs6j8lvNHU+bXnP11WDJTwRuM/xvdHCiZz4D9vNHV+7SHXP8b3Rwomc9A/sfQiTlSepj8=\",\"dtype\":\"float64\",\"order\":\"little\",\"shape\":[10]},\"TPR_CA\":{\"__ndarray__\":\"o/XFhyta7z8IyPmphIDsP6GDR10KOug/9FMJATk/5T80IlkmPSPiP33x4YrWF98/k54RyTLp2T/pGZEsk57RPz5c0friw8U/VAkBOT+VoD8=\",\"dtype\":\"float64\",\"order\":\"little\",\"shape\":[10]},\"index\":[0,1,2,3,4,5,6,7,8,9]},\"selected\":{\"id\":\"1070\"},\"selection_policy\":{\"id\":\"1069\"}},\"id\":\"1004\",\"type\":\"ColumnDataSource\"},{\"attributes\":{},\"id\":\"1069\",\"type\":\"UnionRenderers\"},{\"attributes\":{},\"id\":\"1014\",\"type\":\"LinearScale\"},{\"attributes\":{\"line_color\":\"red\",\"x\":{\"field\":\"FPR_CA\"},\"y\":{\"field\":\"TPR_CA\"}},\"id\":\"1045\",\"type\":\"Line\"},{\"attributes\":{},\"id\":\"1012\",\"type\":\"LinearScale\"},{\"attributes\":{},\"id\":\"1071\",\"type\":\"UnionRenderers\"},{\"attributes\":{\"axis_label\":\"TPR\",\"coordinates\":null,\"formatter\":{\"id\":\"1064\"},\"group\":null,\"major_label_policy\":{\"id\":\"1065\"},\"ticker\":{\"id\":\"1021\"}},\"id\":\"1020\",\"type\":\"LinearAxis\"},{\"attributes\":{\"axis\":{\"id\":\"1020\"},\"coordinates\":null,\"dimension\":1,\"group\":null,\"ticker\":null},\"id\":\"1023\",\"type\":\"Grid\"},{\"attributes\":{},\"id\":\"1010\",\"type\":\"DataRange1d\"},{\"attributes\":{\"callback\":null,\"renderers\":[{\"id\":\"1058\"}],\"tooltips\":[[\"Threshold\",\"@th\"]]},\"id\":\"1060\",\"type\":\"HoverTool\"},{\"attributes\":{\"axis\":{\"id\":\"1016\"},\"coordinates\":null,\"group\":null,\"ticker\":null},\"id\":\"1019\",\"type\":\"Grid\"},{\"attributes\":{\"label\":{\"value\":\"Caucasians\"},\"renderers\":[{\"id\":\"1048\"}]},\"id\":\"1052\",\"type\":\"LegendItem\"},{\"attributes\":{\"line_color\":\"blue\",\"x\":{\"field\":\"FPR_AA\"},\"y\":{\"field\":\"TPR_AA\"}},\"id\":\"1039\",\"type\":\"Line\"},{\"attributes\":{\"source\":{\"id\":\"1003\"}},\"id\":\"1059\",\"type\":\"CDSView\"},{\"attributes\":{},\"id\":\"1021\",\"type\":\"BasicTicker\"},{\"attributes\":{\"coordinates\":null,\"group\":null,\"text\":\"True positive and false positive rates for different thresholds\"},\"id\":\"1006\",\"type\":\"Title\"},{\"attributes\":{\"label\":{\"value\":\"African-Americans\"},\"renderers\":[{\"id\":\"1042\"}]},\"id\":\"1051\",\"type\":\"LegendItem\"},{\"attributes\":{},\"id\":\"1017\",\"type\":\"BasicTicker\"},{\"attributes\":{\"data\":{\"index\":[0,1,2,3,4,5,6,7,8,9,10,11,12,13,14,15,16,17,18,19],\"th\":{\"__ndarray__\":\"8WjjiLX45D754b6ZSXK8P2y+6Lb1ccw/7QV5UGNV1T+lrH3Fy3HcP64pQR0ax+E/CX3DV05V5T9l0EWSguPoP8EjyMy2cew/HXdKB+v/7z/xaOOItfjkPvnhvplJcrw/bL7otvVxzD/tBXlQY1XVP6WsfcXLcdw/rilBHRrH4T8JfcNXTlXlP2XQRZKC4+g/wSPIzLZx7D8dd0oH6//vPw==\",\"dtype\":\"float64\",\"order\":\"little\",\"shape\":[20]},\"x\":{\"__ndarray__\":\"Q3kN5TWU7z90S5z6PbfsP+iWOPV7buk/RtqxAmGk5T/zGsprKK/hP+BzS5z6Pdc/8xrKayiv0T/tWIEw0o7FPw3lNZTXUL4/RtqxAmGknT8UWS/7eZjuP/m25F21Yus/9XEOkjZE5T/qJK4ZICjiP7Je9vMwfdw/kHOQtCGq1D98W/KuWrHNP8x+HqaPc8A/9rKfh+njrD/aEFXqJK55Pw==\",\"dtype\":\"float64\",\"order\":\"little\",\"shape\":[20]},\"y\":{\"__ndarray__\":\"EHDrsxnf7z+kYDIHAbfuP2qhO3Y1LO0/isrTQnfs6j8lvNHU+bXnP11WDJTwRuM/xvdHCiZz4D9vNHV+7SHXP8b3Rwomc9A/sfQiTlSepj+j9cWHK1rvPwjI+amEgOw/oYNHXQo66D/0UwkBOT/lPzQiWSY9I+I/ffHhitYX3z+TnhHJMunZP+kZkSyTntE/PlzR+uLDxT9UCQE5P5WgPw==\",\"dtype\":\"float64\",\"order\":\"little\",\"shape\":[20]}},\"selected\":{\"id\":\"1072\"},\"selection_policy\":{\"id\":\"1071\"}},\"id\":\"1003\",\"type\":\"ColumnDataSource\"},{\"attributes\":{\"coordinates\":null,\"data_source\":{\"id\":\"1003\"},\"glyph\":{\"id\":\"1054\"},\"group\":null,\"hover_glyph\":{\"id\":\"1056\"},\"muted_glyph\":{\"id\":\"1057\"},\"nonselection_glyph\":{\"id\":\"1055\"},\"view\":{\"id\":\"1059\"}},\"id\":\"1058\",\"type\":\"GlyphRenderer\"}],\"root_ids\":[\"1005\"]},\"title\":\"Bokeh Application\",\"version\":\"2.4.2\"}};\n",
       "  const render_items = [{\"docid\":\"a73b3fec-02ca-4ae2-8b12-6baf51d17413\",\"root_ids\":[\"1005\"],\"roots\":{\"1005\":\"30c5a7bc-cc99-4cd3-8c52-5637101a56d3\"}}];\n",
       "  root.Bokeh.embed.embed_items_notebook(docs_json, render_items);\n",
       "\n",
       "  }\n",
       "  if (root.Bokeh !== undefined) {\n",
       "    embed_document(root);\n",
       "  } else {\n",
       "    let attempts = 0;\n",
       "    const timer = setInterval(function(root) {\n",
       "      if (root.Bokeh !== undefined) {\n",
       "        clearInterval(timer);\n",
       "        embed_document(root);\n",
       "      } else {\n",
       "        attempts++;\n",
       "        if (attempts > 100) {\n",
       "          clearInterval(timer);\n",
       "          console.log(\"Bokeh: ERROR: Unable to run BokehJS code because BokehJS library is missing\");\n",
       "        }\n",
       "      }\n",
       "    }, 10, root)\n",
       "  }\n",
       "})(window);"
      ],
      "application/vnd.bokehjs_exec.v0+json": ""
     },
     "metadata": {
      "application/vnd.bokehjs_exec.v0+json": {
       "id": "1005"
      }
     },
     "output_type": "display_data"
    }
   ],
   "source": [
    "column_list = [\"FPR_AA\", \"TPR_AA\", \"FPR_CA\", \"TPR_CA\"]\n",
    "rates_data = np.concatenate((roc_aa[:, 1:], roc_ca[:, 1:]), axis=1)\n",
    "df_roc = pd.DataFrame(rates_data, columns=column_list)\n",
    "\n",
    "x = np.concatenate((roc_aa[:, 1:2], roc_ca[:, 1:2]), axis=0)\n",
    "y = np.concatenate((roc_aa[:, 2:], roc_ca[:, 2:]), axis=0)\n",
    "th = np.concatenate((roc_aa[:, :1], roc_ca[:, :1]), axis=0)\n",
    "df_helper = pd.DataFrame(np.concatenate((x, y, th), axis=1), columns=[\"x\", \"y\", \"th\"])\n",
    "helper_source = ColumnDataSource(df_helper)\n",
    "\n",
    "source = ColumnDataSource(df_roc)\n",
    "p = figure(title=\"True positive and false positive rates for different thresholds\", x_axis_label=\"FPR\", y_axis_label=\"TPR\")\n",
    "\n",
    "l_aa = p.line(x=\"FPR_AA\",  y=\"TPR_AA\", source=source, color=\"blue\")\n",
    "l_ca = p.line(x=\"FPR_CA\",  y=\"TPR_CA\", source=source, color=\"red\")\n",
    "\n",
    "legend = Legend(items=[(\"African-Americans\", [l_aa]), (\"Caucasians\", [l_ca])], location=\"top\")\n",
    "p.add_layout(legend, 'right')\n",
    "#\n",
    "p.legend.click_policy=\"hide\"\n",
    "\n",
    "cr = p.circle('x','y', source=helper_source, fill_color='grey', hover_fill_color='orange')\n",
    "p.add_tools(HoverTool(tooltips=[('Threshold', '@th')], renderers=[cr]))\n",
    "show(p)"
   ]
  },
  {
   "cell_type": "markdown",
   "metadata": {},
   "source": [
    "<b>Choosing threshold:</b>"
   ]
  },
  {
   "cell_type": "code",
   "execution_count": 14,
   "metadata": {},
   "outputs": [],
   "source": [
    "th_aa = 0.889\n",
    "th_ca = 0.778\n",
    "y_hat_ca = predict_using_threshold(y_prob_ca, th_ca)\n",
    "y_hat_aa = predict_using_threshold(y_prob_aa, th_aa)"
   ]
  },
  {
   "cell_type": "code",
   "execution_count": 33,
   "metadata": {},
   "outputs": [
    {
     "name": "stdout",
     "output_type": "stream",
     "text": [
      "Threshold: 1e-05          DiffAA: 42.48      DiffCA: 53.00%\n",
      "Threshold: 0.111119       DiffAA: 36.56      DiffCA: 43.46%\n",
      "Threshold: 0.222228       DiffAA: 29.38      DiffCA: 26.86%\n",
      "Threshold: 0.333337       DiffAA: 20.27      DiffCA: 17.31%\n",
      "Threshold: 0.444446       DiffAA: 9.23       DiffCA: 6.18%\n",
      "Threshold: 0.555554       DiffAA: -6.83      DiffCA: -4.24%\n",
      "Threshold: 0.666663       DiffAA: -15.60     DiffCA: -12.90%\n",
      "Threshold: 0.777772       DiffAA: -28.93     DiffCA: -24.38%\n",
      "Threshold: 0.888881       DiffAA: -37.02     DiffCA: -33.04%\n",
      "Threshold: 0.99999        DiffAA: -52.96     DiffCA: -41.87%\n"
     ]
    }
   ],
   "source": [
    "for th in ths:\n",
    "    th_aa = th\n",
    "    th_ca = th\n",
    "    y_hat_aa = predict_using_threshold(y_prob_aa, th_aa)\n",
    "    y_hat_ca = predict_using_threshold(y_prob_ca, th_ca)    \n",
    "    eact_rec_rate_CA = np.count_nonzero(test_labels_ca == 1) / len(test_labels_ca)\n",
    "    act_rec_rate_AA = np.count_nonzero(test_labels_aa == 1) / len(test_labels_aa)\n",
    "\n",
    "    equal_odds_rec_rate_CA = np.count_nonzero(y_hat_ca == 1) / len(y_hat_ca)\n",
    "    equal_odds_rec_rate_AA = np.count_nonzero(y_hat_aa == 1) / len(y_hat_aa)\n",
    "    diffaa = (equal_odds_rec_rate_AA - act_rec_rate_AA) * 100\n",
    "    diffca = (equal_odds_rec_rate_CA - act_rec_rate_CA) * 100\n",
    "    print(f\"Threshold: {th:<15.6}DiffAA: {diffaa:<10.2f} DiffCA: {diffca:.2f}%\")"
   ]
  },
  {
   "cell_type": "code",
   "execution_count": 45,
   "metadata": {},
   "outputs": [
    {
     "data": {
      "image/png": "[encoded data removed]",
      "text/plain": [
       "<Figure size 864x288 with 2 Axes>"
      ]
     },
     "metadata": {
      "needs_background": "light"
     },
     "output_type": "display_data"
    }
   ],
   "source": [
    "equalOddsTableCA = compute_matrix(y_hat_ca, test_labels_ca)\n",
    "equalOddsTableAA = compute_matrix(y_hat_aa, test_labels_aa)\n",
    "fig, axs = plt.subplots(1, 2, figsize=(12, 4), constrained_layout=True)\n",
    "axs[0].set_title(\"Caucasian samples\")\n",
    "axs[1].set_title(\"African-American samples\")\n",
    "axs[0].axis('off')\n",
    "axs[1].axis('off')\n",
    "\n",
    "tableCA = axs[0].table(cellText=equalOddsTableCA, rowLabels=pred_labels, colLabels=ac_labels, loc=\"center\")\n",
    "tableAA = axs[1].table(cellText=equalOddsTableAA, rowLabels=pred_labels, colLabels=ac_labels, loc=\"center\")\n",
    "tableAA.scale(1, 4)\n",
    "tableCA.scale(1, 4)\n",
    "plt.show()\n",
    "\n",
    "act_rec_rate_CA = np.count_nonzero(test_labels_ca == 1) / len(test_labels_ca)\n",
    "act_rec_rate_AA = np.count_nonzero(test_labels_aa == 1) / len(test_labels_aa)\n",
    "\n",
    "equal_odds_rec_rate_CA = np.count_nonzero(y_hat_ca == 1) / len(y_hat_ca)\n",
    "equal_odds_rec_rate_AA = np.count_nonzero(y_hat_aa == 1) / len(y_hat_aa)"
   ]
  },
  {
   "cell_type": "code",
   "execution_count": 46,
   "metadata": {},
   "outputs": [],
   "source": [
    "def precision_str(metrics):\n",
    "    return [f\"{(m * 100):.0f}%\" for m in metrics]\n",
    "\n",
    "original_metrics_ca = precision_str(performance_metrics(np.round(y_prob_ca).astype(int), test_labels_ca))\n",
    "debiased_metrics_ca = precision_str(performance_metrics(y_hat_ca, test_labels_ca))\n",
    "metrics_ca = list(zip(original_metrics_ca, debiased_metrics_ca))\n",
    "\n",
    "original_metrics_aa = precision_str(performance_metrics(np.round(y_prob_aa).astype(int), test_labels_aa))\n",
    "debiased_metrics_aa = precision_str(performance_metrics(y_hat_aa, test_labels_aa))\n",
    "metrics_aa = list(zip(original_metrics_aa, debiased_metrics_aa))"
   ]
  },
  {
   "cell_type": "code",
   "execution_count": 47,
   "metadata": {},
   "outputs": [
    {
     "data": {
      "image/png": "[encoded data removed]",
      "text/plain": [
       "<Figure size 432x288 with 1 Axes>"
      ]
     },
     "metadata": {
      "needs_background": "light"
     },
     "output_type": "display_data"
    }
   ],
   "source": [
    "act_rec_rate_CA = np.count_nonzero(test_labels_ca == 1) / len(test_labels_ca)\n",
    "act_rec_rate_AA = np.count_nonzero(test_labels_aa == 1) / len(test_labels_aa)\n",
    "\n",
    "equal_odds_rec_rate_CA = np.count_nonzero(y_hat_ca == 1) / len(y_hat_ca)\n",
    "equal_odds_rec_rate_AA = np.count_nonzero(y_hat_aa == 1) / len(y_hat_aa)\n",
    "\n",
    "races = [\"African-Americans\", \"Caucasians\"]\n",
    "rates_l = [\"Actual recommit rates\", \"Predicted recommit rate\"]\n",
    "rates_data = [[ f\"{act_rec_rate_AA*100:.0f}%\", f\"{equal_odds_rec_rate_AA*100:.0f}%\"],\n",
    "              [f\"{act_rec_rate_CA*100:.0f}%\", f\"{equal_odds_rec_rate_CA*100:.0f}%\"]]\n",
    "\n",
    "fig, ax = plt.subplots()\n",
    "ax.set_title(\"Recidivism rates for the compared racial groups\")\n",
    "ax.axis('off')\n",
    "table_rates = ax.table(cellText=rates_data, rowLabels=races, colLabels=rates_l, loc=\"center\")\n",
    "table_rates.scale(1, 5)\n",
    "plt.show()"
   ]
  },
  {
   "cell_type": "code",
   "execution_count": 48,
   "metadata": {},
   "outputs": [
    {
     "data": {
      "image/png": "[encoded data removed]",
      "text/plain": [
       "<Figure size 864x288 with 2 Axes>"
      ]
     },
     "metadata": {
      "needs_background": "light"
     },
     "output_type": "display_data"
    }
   ],
   "source": [
    "metrics_l = [\"Accuracy\", \"Precision\", \"Recall\"]\n",
    "models_l = [\"Original model\", \"Debiased model\"]\n",
    "\n",
    "fig, axs = plt.subplots(1, 2, figsize=(12, 4), constrained_layout=True)\n",
    "axs[0].set_title(\"Caucasians\")\n",
    "axs[1].set_title(\"African-Americans\")\n",
    "axs[0].axis('off')\n",
    "axs[1].axis('off')\n",
    "table_metrics_ca = axs[0].table(cellText=metrics_ca, rowLabels=metrics_l, colLabels=models_l, loc=\"center\")\n",
    "table_metrics_aa = axs[1].table(cellText=metrics_aa, rowLabels=metrics_l, colLabels=models_l, loc=\"center\")\n",
    "table_metrics_ca.scale(1, 4)\n",
    "table_metrics_aa.scale(1, 4)\n",
    "plt.show()"
   ]
  },
  {
   "cell_type": "markdown",
   "metadata": {},
   "source": [
    "## Part 3: Communicate your story and results to others"
   ]
  },
  {
   "cell_type": "markdown",
   "metadata": {},
   "source": [
    "> *Exercise 3* Fill the article below with the title, subtitles, sections, visualizations and references!\n",
    "> \n",
    ">    * **Note 1** Please, have a look at Week 8 for instructions on how to complete the article and make the visualizations.\n",
    ">    * **Note 2** Make sure **you add the code** that generate your visualizations! This is really important.\n",
    ">    * **Note 3** You should have all the necessary inputs to make the visualizations from the exercises in Part 1 and Part 2."
   ]
  },
  {
   "cell_type": "markdown",
   "metadata": {},
   "source": [
    "# ADD YOUR TITLE HERE"
   ]
  },
  {
   "cell_type": "markdown",
   "metadata": {},
   "source": [
    "**Introduction.** Write your introduction here. Think about the audience. This is an article for the general public, so you should try to make it engaging, relatable, not too technical etc."
   ]
  },
  {
   "cell_type": "code",
   "execution_count": 17,
   "metadata": {},
   "outputs": [],
   "source": [
    "#First viz here: (Week 8 Visualization 1) Interactive visualization with Bokeh"
   ]
  },
  {
   "cell_type": "markdown",
   "metadata": {},
   "source": [
    "**Results from exploratory data analysis.** Write this section here. The aim is to show that the data is biased, which might have an impact on the model. Relate this part to the first visualization."
   ]
  },
  {
   "cell_type": "code",
   "execution_count": 18,
   "metadata": {},
   "outputs": [],
   "source": [
    "#Second viz here: (Week 8 Visualization 2) plot with 3 subplots (Feature importances, Confusion Matrix, Percentage difference)"
   ]
  },
  {
   "cell_type": "markdown",
   "metadata": {},
   "source": [
    "**Results from the classification task.** Write this section here. The aim is to show that the model is biased as it is learning from biased data. Relate this part to the second visualization."
   ]
  },
  {
   "cell_type": "code",
   "execution_count": 19,
   "metadata": {},
   "outputs": [],
   "source": [
    "#Third viz here: (Week 8 Visualization 3) plot with 2 subplots (ROC curve and selected threshold, TPR and FPR before and after debiasing)"
   ]
  },
  {
   "cell_type": "markdown",
   "metadata": {},
   "source": [
    "**Results from debiasing method.** Write this section here. The aim is to show that there are methods that can help to enhance fairness in cases as this one. Relate this part to the third visualization."
   ]
  },
  {
   "cell_type": "markdown",
   "metadata": {},
   "source": [
    "**Limitations and conclusions.** Write this part here. These are your main take aways, the end of your story, where you should also highlight possible implications/limitations of what you presented."
   ]
  },
  {
   "cell_type": "markdown",
   "metadata": {},
   "source": [
    "**References.** Any article need good sources! Whenever you make a statement, refer to data sources, previous studies, methods, etc. add a reference. \n",
    "\n",
    "1. reference 1\n",
    "2. reference 2\n",
    "3. reference 3\n",
    "4. etc."
   ]
  },
  {
   "cell_type": "markdown",
   "metadata": {},
   "source": [
    "**Assignment Contributions**:\n",
    "\n",
    "* id1\n",
    "* id2\n",
    "* id3"
   ]
  }
 ],
 "metadata": {
  "hide_input": false,
  "kernelspec": {
   "display_name": "Python 3 (ipykernel)",
   "language": "python",
   "name": "python3"
  },
  "language_info": {
   "codemirror_mode": {
    "name": "ipython",
    "version": 3
   },
   "file_extension": ".py",
   "mimetype": "text/x-python",
   "name": "python",
   "nbconvert_exporter": "python",
   "pygments_lexer": "ipython3",
   "version": "3.7.12"
  }
 },
 "nbformat": 4,
 "nbformat_minor": 4
}
