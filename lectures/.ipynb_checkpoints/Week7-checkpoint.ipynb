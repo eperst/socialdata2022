{
 "cells": [
  {
   "cell_type": "markdown",
   "metadata": {},
   "source": [
    "## Intro\n",
    "\n",
    "Last week you had an intro to classification tasks and decision trees. You worked on a model to predict criminal recidivism and made a few visualizations along the way. \n",
    "\n",
    "Some of you asked: why Machine Learning? And, even though modeling is part of analysing data and predictions are a huge part of how people use data nowadays, there is something more important to it: visualization are not only powerful to study data, they are also great to understand models. We needed that little extra Machine Learning to explore another way of using visualizations. \n",
    "\n",
    "Today, we will do exactly this! The purpose of today's class is threefold: \n",
    "\n",
    "1. To explore the data I gave you last week with **interactive visualizations**;\n",
    "2. To **visualize the results** on criminal recidivism of your machine learning model;\n",
    "3. To **debias** the results you obtained via two methods (and a bit of visualization along the way). "
   ]
  },
  {
   "cell_type": "markdown",
   "metadata": {},
   "source": [
    "## Part 1: Interactive visualizations with Bokeh\n",
    "\n",
    "Until today we have worked with static data visualization. However, exploratory data analysis means to be able to explore the multi-faceted nature of data and *interactive dataviz* is a handy tool to do it! It allows to play with the data: Toggle the view. Zoom. Drag. Show more details. All those things. Those are a key part of modern data visualization. \n",
    "\n",
    "To really master interactive visualizations, you should check out methods in JavaScript, especially [D3](https://d3js.org). Given that we only have 5ECTS for this class, we unfortunately don't have time for that. But luckily Python has some pretty good options for interactive visualizations. [Here](https://mode.com/blog/python-interactive-plot-libraries/), you can find some of them.\n",
    "\n",
    "Today, we'll explore [`Bokeh`](https://docs.bokeh.org/en/latest/), which provides lots of nice interactive funtionalities to Python. To work with Bokeh, we first need to do some preparation:\n",
    "1. If you haven't installed it yet please do so. You can simply follow [these steps](https://docs.bokeh.org/en/latest/docs/first_steps/installation.html)\n",
    "2. To include Bokeh in your notebooks you can follow the [Bokeh: Using with Jupyter](https://docs.bokeh.org/en/latest/docs/user_guide/jupyter.html#userguide-jupyter-notebook) guide. Come back to this one when you need it\n",
    "3. We aim to give you a gentle start with Bokeh and I am going to include more example codes than usual in the follwing. However, to get a sense of how things work, I suggest you surf the web, find a Bokeh tutorial and scan through it. Also click around a bit in [the official docs](https://docs.bokeh.org/en/latest/docs/user_guide.html#userguide).\n",
    "\n",
    "In the exercises below, we will use the data from [GitHub](https://raw.githubusercontent.com/suneman/socialdata2022/main/files/recidivism_dataset_sub.csv):\n",
    "1. Load the data and select the columns as in Week 6, Exercise 3.1\n",
    "2. Preprocess the data as in Week 6, Exercise 3.2.\n",
    "\n",
    "Ok, let's get started!"
   ]
  },
  {
   "cell_type": "code",
   "execution_count": 1,
   "metadata": {},
   "outputs": [
    {
     "data": {
      "text/html": [
       "<div>\n",
       "<style scoped>\n",
       "    .dataframe tbody tr th:only-of-type {\n",
       "        vertical-align: middle;\n",
       "    }\n",
       "\n",
       "    .dataframe tbody tr th {\n",
       "        vertical-align: top;\n",
       "    }\n",
       "\n",
       "    .dataframe thead th {\n",
       "        text-align: right;\n",
       "    }\n",
       "</style>\n",
       "<table border=\"1\" class=\"dataframe\">\n",
       "  <thead>\n",
       "    <tr style=\"text-align: right;\">\n",
       "      <th></th>\n",
       "      <th>sex</th>\n",
       "      <th>race</th>\n",
       "      <th>age</th>\n",
       "      <th>juv_fel_count</th>\n",
       "      <th>juv_misd_count</th>\n",
       "      <th>juv_other_count</th>\n",
       "      <th>priors_count</th>\n",
       "      <th>two_year_recid</th>\n",
       "    </tr>\n",
       "  </thead>\n",
       "  <tbody>\n",
       "    <tr>\n",
       "      <th>0</th>\n",
       "      <td>Male</td>\n",
       "      <td>Other</td>\n",
       "      <td>69</td>\n",
       "      <td>0</td>\n",
       "      <td>0</td>\n",
       "      <td>0</td>\n",
       "      <td>0</td>\n",
       "      <td>0</td>\n",
       "    </tr>\n",
       "    <tr>\n",
       "      <th>1</th>\n",
       "      <td>Male</td>\n",
       "      <td>African-American</td>\n",
       "      <td>34</td>\n",
       "      <td>0</td>\n",
       "      <td>0</td>\n",
       "      <td>0</td>\n",
       "      <td>0</td>\n",
       "      <td>1</td>\n",
       "    </tr>\n",
       "    <tr>\n",
       "      <th>2</th>\n",
       "      <td>Male</td>\n",
       "      <td>African-American</td>\n",
       "      <td>24</td>\n",
       "      <td>0</td>\n",
       "      <td>0</td>\n",
       "      <td>1</td>\n",
       "      <td>4</td>\n",
       "      <td>1</td>\n",
       "    </tr>\n",
       "    <tr>\n",
       "      <th>5</th>\n",
       "      <td>Male</td>\n",
       "      <td>Other</td>\n",
       "      <td>44</td>\n",
       "      <td>0</td>\n",
       "      <td>0</td>\n",
       "      <td>0</td>\n",
       "      <td>0</td>\n",
       "      <td>0</td>\n",
       "    </tr>\n",
       "    <tr>\n",
       "      <th>6</th>\n",
       "      <td>Male</td>\n",
       "      <td>Caucasian</td>\n",
       "      <td>41</td>\n",
       "      <td>0</td>\n",
       "      <td>0</td>\n",
       "      <td>0</td>\n",
       "      <td>14</td>\n",
       "      <td>1</td>\n",
       "    </tr>\n",
       "  </tbody>\n",
       "</table>\n",
       "</div>"
      ],
      "text/plain": [
       "    sex              race  age  juv_fel_count  juv_misd_count  \\\n",
       "0  Male             Other   69              0               0   \n",
       "1  Male  African-American   34              0               0   \n",
       "2  Male  African-American   24              0               0   \n",
       "5  Male             Other   44              0               0   \n",
       "6  Male         Caucasian   41              0               0   \n",
       "\n",
       "   juv_other_count  priors_count  two_year_recid  \n",
       "0                0             0               0  \n",
       "1                0             0               1  \n",
       "2                1             4               1  \n",
       "5                0             0               0  \n",
       "6                0            14               1  "
      ]
     },
     "execution_count": 1,
     "metadata": {},
     "output_type": "execute_result"
    }
   ],
   "source": [
    "import pandas as pd\n",
    "import matplotlib.pyplot as plt\n",
    "\n",
    "data = pd.read_csv(\"../files/recidivism_dataset_sub.csv\")\n",
    "features = data.filter([\"sex\", \"race\", \"age\", \"juv_fel_count\", \"juv_misd_count\", \"juv_other_count\", \"priors_count\", \"is_recid\", \"days_b_screening_arrest\", \"c_charge_degree\", \"two_year_recid\"])\n",
    "query_str = 'is_recid != -1 & c_charge_degree != \"O\" & days_b_screening_arrest >= -30 & days_b_screening_arrest <= 30'\n",
    "preprocessed = features.copy().query(query_str)\n",
    "preprocessed.drop([\"is_recid\", \"c_charge_degree\", \"days_b_screening_arrest\"], axis=1, inplace=True)\n",
    "preprocessed.head()"
   ]
  },
  {
   "cell_type": "markdown",
   "metadata": {},
   "source": [
    "> *Exercise 1.1:* Interactive data exploration. The aim of this exercise is to compare bar plots for different races. Each bar plot will have age on the x-axis and number of samples in the data on the y-axis. Follow the steps below for success:\n",
    ">\n",
    "> * Compute the number of samples by age for each race. You should end up with a dataframe that looks like [this](https://github.com/suneman/socialdata2022/blob/main/files/bokeh-df1.png).\n",
    "> * Convert your `DataFrame` to Bokeh `ColumnDataSource`.\n",
    "> * Create an empty figure, you can find the a guide to define a figure in Bokeh online. Here, a little help:\n",
    "> ```python\n",
    "p = figure(ADD_PARAMS_HERE) #p is a standard way to call figures in Bokeh\n",
    "#do not forget to add attributes to the figure, e.g. title, axis names, etc.\n",
    "> ```\n",
    "> * Add bars by using `p.vbar()` as follows:\n",
    "> ```python\n",
    "    bar ={} # to store vbars \n",
    "    # here we will do a for loop to create a bar for each race\n",
    "    for indx,i in enumerate(races):\n",
    "         bar[i] = p.vbar(x=ADD_AGE_COLUMN_NAME,  top=i, source= ADD_YOUR_DATA, legend_label=i, ..., muted = ...) \n",
    "> ```\n",
    "> * Make your legend interactive and display the figure:\n",
    "> ```python\n",
    "    p.legend.click_policy=\"mute\" #assigns the click policy (you can try to use ''hide')\n",
    "    show(p) #displays your plot\n",
    "> ```\n",
    "> * You will notice that the legend appears in the middle of the figure (and it ocludes some of the data). In order to fix this look into [this guide](https://stackoverflow.com/questions/26254619/position-of-the-legend-in-a-bokeh-plot) as a start. Below are some code snippets that you can use to deal with this problem (but read the guide first):\n",
    "> ```python\n",
    "    items = [] # for the custom legend // you need to figure out where to add it\n",
    "    items.append((i, [bar[i]])) # figure out where to add it\n",
    "    legend = Legend(items=..., location=.....) # figure out where to add it\n",
    "    p.add_layout(...., ...) # figure where to add it\n",
    "    # if you read the guide, it will make sense :)\n",
    "> ```\n",
    "> * And now you have it! You can play with colors and other parameters to make it as you like, but first describe your plot. What do you observe?"
   ]
  },
  {
   "cell_type": "code",
   "execution_count": 2,
   "metadata": {},
   "outputs": [
    {
     "data": {
      "text/html": [
       "<div>\n",
       "<style scoped>\n",
       "    .dataframe tbody tr th:only-of-type {\n",
       "        vertical-align: middle;\n",
       "    }\n",
       "\n",
       "    .dataframe tbody tr th {\n",
       "        vertical-align: top;\n",
       "    }\n",
       "\n",
       "    .dataframe thead th {\n",
       "        text-align: right;\n",
       "    }\n",
       "</style>\n",
       "<table border=\"1\" class=\"dataframe\">\n",
       "  <thead>\n",
       "    <tr style=\"text-align: right;\">\n",
       "      <th>race</th>\n",
       "      <th>African-American</th>\n",
       "      <th>Asian</th>\n",
       "      <th>Caucasian</th>\n",
       "      <th>Hispanic</th>\n",
       "      <th>Native American</th>\n",
       "      <th>Other</th>\n",
       "    </tr>\n",
       "    <tr>\n",
       "      <th>age</th>\n",
       "      <th></th>\n",
       "      <th></th>\n",
       "      <th></th>\n",
       "      <th></th>\n",
       "      <th></th>\n",
       "      <th></th>\n",
       "    </tr>\n",
       "  </thead>\n",
       "  <tbody>\n",
       "    <tr>\n",
       "      <th>18</th>\n",
       "      <td>1</td>\n",
       "      <td>0</td>\n",
       "      <td>0</td>\n",
       "      <td>0</td>\n",
       "      <td>0</td>\n",
       "      <td>0</td>\n",
       "    </tr>\n",
       "    <tr>\n",
       "      <th>19</th>\n",
       "      <td>16</td>\n",
       "      <td>0</td>\n",
       "      <td>7</td>\n",
       "      <td>2</td>\n",
       "      <td>0</td>\n",
       "      <td>1</td>\n",
       "    </tr>\n",
       "    <tr>\n",
       "      <th>20</th>\n",
       "      <td>95</td>\n",
       "      <td>1</td>\n",
       "      <td>39</td>\n",
       "      <td>10</td>\n",
       "      <td>1</td>\n",
       "      <td>16</td>\n",
       "    </tr>\n",
       "    <tr>\n",
       "      <th>21</th>\n",
       "      <td>172</td>\n",
       "      <td>1</td>\n",
       "      <td>70</td>\n",
       "      <td>27</td>\n",
       "      <td>1</td>\n",
       "      <td>15</td>\n",
       "    </tr>\n",
       "    <tr>\n",
       "      <th>22</th>\n",
       "      <td>166</td>\n",
       "      <td>1</td>\n",
       "      <td>75</td>\n",
       "      <td>22</td>\n",
       "      <td>0</td>\n",
       "      <td>8</td>\n",
       "    </tr>\n",
       "  </tbody>\n",
       "</table>\n",
       "</div>"
      ],
      "text/plain": [
       "race  African-American  Asian  Caucasian  Hispanic  Native American  Other\n",
       "age                                                                       \n",
       "18                   1      0          0         0                0      0\n",
       "19                  16      0          7         2                0      1\n",
       "20                  95      1         39        10                1     16\n",
       "21                 172      1         70        27                1     15\n",
       "22                 166      1         75        22                0      8"
      ]
     },
     "execution_count": 2,
     "metadata": {},
     "output_type": "execute_result"
    }
   ],
   "source": [
    "import numpy as np\n",
    "filtered = preprocessed[[\"race\", \"age\", \"two_year_recid\"]]\n",
    "byAgePerRace = pd.pivot_table(filtered, columns=\"race\", aggfunc='count', values=\"two_year_recid\", index=\"age\", fill_value=0)\n",
    "byAgePerRace.head()"
   ]
  },
  {
   "cell_type": "code",
   "execution_count": 3,
   "metadata": {},
   "outputs": [
    {
     "data": {
      "text/html": [
       "\n",
       "    <div class=\"bk-root\">\n",
       "        <a href=\"https://bokeh.org\" target=\"_blank\" class=\"bk-logo bk-logo-small bk-logo-notebook\"></a>\n",
       "        <span id=\"1002\">Loading BokehJS ...</span>\n",
       "    </div>"
      ]
     },
     "metadata": {},
     "output_type": "display_data"
    },
    {
     "data": {
      "application/javascript": [
       "\n",
       "(function(root) {\n",
       "  function now() {\n",
       "    return new Date();\n",
       "  }\n",
       "\n",
       "  const force = true;\n",
       "\n",
       "  if (typeof root._bokeh_onload_callbacks === \"undefined\" || force === true) {\n",
       "    root._bokeh_onload_callbacks = [];\n",
       "    root._bokeh_is_loading = undefined;\n",
       "  }\n",
       "\n",
       "  const JS_MIME_TYPE = 'application/javascript';\n",
       "  const HTML_MIME_TYPE = 'text/html';\n",
       "  const EXEC_MIME_TYPE = 'application/vnd.bokehjs_exec.v0+json';\n",
       "  const CLASS_NAME = 'output_bokeh rendered_html';\n",
       "\n",
       "  /**\n",
       "   * Render data to the DOM node\n",
       "   */\n",
       "  function render(props, node) {\n",
       "    const script = document.createElement(\"script\");\n",
       "    node.appendChild(script);\n",
       "  }\n",
       "\n",
       "  /**\n",
       "   * Handle when an output is cleared or removed\n",
       "   */\n",
       "  function handleClearOutput(event, handle) {\n",
       "    const cell = handle.cell;\n",
       "\n",
       "    const id = cell.output_area._bokeh_element_id;\n",
       "    const server_id = cell.output_area._bokeh_server_id;\n",
       "    // Clean up Bokeh references\n",
       "    if (id != null && id in Bokeh.index) {\n",
       "      Bokeh.index[id].model.document.clear();\n",
       "      delete Bokeh.index[id];\n",
       "    }\n",
       "\n",
       "    if (server_id !== undefined) {\n",
       "      // Clean up Bokeh references\n",
       "      const cmd_clean = \"from bokeh.io.state import curstate; print(curstate().uuid_to_server['\" + server_id + \"'].get_sessions()[0].document.roots[0]._id)\";\n",
       "      cell.notebook.kernel.execute(cmd_clean, {\n",
       "        iopub: {\n",
       "          output: function(msg) {\n",
       "            const id = msg.content.text.trim();\n",
       "            if (id in Bokeh.index) {\n",
       "              Bokeh.index[id].model.document.clear();\n",
       "              delete Bokeh.index[id];\n",
       "            }\n",
       "          }\n",
       "        }\n",
       "      });\n",
       "      // Destroy server and session\n",
       "      const cmd_destroy = \"import bokeh.io.notebook as ion; ion.destroy_server('\" + server_id + \"')\";\n",
       "      cell.notebook.kernel.execute(cmd_destroy);\n",
       "    }\n",
       "  }\n",
       "\n",
       "  /**\n",
       "   * Handle when a new output is added\n",
       "   */\n",
       "  function handleAddOutput(event, handle) {\n",
       "    const output_area = handle.output_area;\n",
       "    const output = handle.output;\n",
       "\n",
       "    // limit handleAddOutput to display_data with EXEC_MIME_TYPE content only\n",
       "    if ((output.output_type != \"display_data\") || (!Object.prototype.hasOwnProperty.call(output.data, EXEC_MIME_TYPE))) {\n",
       "      return\n",
       "    }\n",
       "\n",
       "    const toinsert = output_area.element.find(\".\" + CLASS_NAME.split(' ')[0]);\n",
       "\n",
       "    if (output.metadata[EXEC_MIME_TYPE][\"id\"] !== undefined) {\n",
       "      toinsert[toinsert.length - 1].firstChild.textContent = output.data[JS_MIME_TYPE];\n",
       "      // store reference to embed id on output_area\n",
       "      output_area._bokeh_element_id = output.metadata[EXEC_MIME_TYPE][\"id\"];\n",
       "    }\n",
       "    if (output.metadata[EXEC_MIME_TYPE][\"server_id\"] !== undefined) {\n",
       "      const bk_div = document.createElement(\"div\");\n",
       "      bk_div.innerHTML = output.data[HTML_MIME_TYPE];\n",
       "      const script_attrs = bk_div.children[0].attributes;\n",
       "      for (let i = 0; i < script_attrs.length; i++) {\n",
       "        toinsert[toinsert.length - 1].firstChild.setAttribute(script_attrs[i].name, script_attrs[i].value);\n",
       "        toinsert[toinsert.length - 1].firstChild.textContent = bk_div.children[0].textContent\n",
       "      }\n",
       "      // store reference to server id on output_area\n",
       "      output_area._bokeh_server_id = output.metadata[EXEC_MIME_TYPE][\"server_id\"];\n",
       "    }\n",
       "  }\n",
       "\n",
       "  function register_renderer(events, OutputArea) {\n",
       "\n",
       "    function append_mime(data, metadata, element) {\n",
       "      // create a DOM node to render to\n",
       "      const toinsert = this.create_output_subarea(\n",
       "        metadata,\n",
       "        CLASS_NAME,\n",
       "        EXEC_MIME_TYPE\n",
       "      );\n",
       "      this.keyboard_manager.register_events(toinsert);\n",
       "      // Render to node\n",
       "      const props = {data: data, metadata: metadata[EXEC_MIME_TYPE]};\n",
       "      render(props, toinsert[toinsert.length - 1]);\n",
       "      element.append(toinsert);\n",
       "      return toinsert\n",
       "    }\n",
       "\n",
       "    /* Handle when an output is cleared or removed */\n",
       "    events.on('clear_output.CodeCell', handleClearOutput);\n",
       "    events.on('delete.Cell', handleClearOutput);\n",
       "\n",
       "    /* Handle when a new output is added */\n",
       "    events.on('output_added.OutputArea', handleAddOutput);\n",
       "\n",
       "    /**\n",
       "     * Register the mime type and append_mime function with output_area\n",
       "     */\n",
       "    OutputArea.prototype.register_mime_type(EXEC_MIME_TYPE, append_mime, {\n",
       "      /* Is output safe? */\n",
       "      safe: true,\n",
       "      /* Index of renderer in `output_area.display_order` */\n",
       "      index: 0\n",
       "    });\n",
       "  }\n",
       "\n",
       "  // register the mime type if in Jupyter Notebook environment and previously unregistered\n",
       "  if (root.Jupyter !== undefined) {\n",
       "    const events = require('base/js/events');\n",
       "    const OutputArea = require('notebook/js/outputarea').OutputArea;\n",
       "\n",
       "    if (OutputArea.prototype.mime_types().indexOf(EXEC_MIME_TYPE) == -1) {\n",
       "      register_renderer(events, OutputArea);\n",
       "    }\n",
       "  }\n",
       "\n",
       "  \n",
       "  if (typeof (root._bokeh_timeout) === \"undefined\" || force === true) {\n",
       "    root._bokeh_timeout = Date.now() + 5000;\n",
       "    root._bokeh_failed_load = false;\n",
       "  }\n",
       "\n",
       "  const NB_LOAD_WARNING = {'data': {'text/html':\n",
       "     \"<div style='background-color: #fdd'>\\n\"+\n",
       "     \"<p>\\n\"+\n",
       "     \"BokehJS does not appear to have successfully loaded. If loading BokehJS from CDN, this \\n\"+\n",
       "     \"may be due to a slow or bad network connection. Possible fixes:\\n\"+\n",
       "     \"</p>\\n\"+\n",
       "     \"<ul>\\n\"+\n",
       "     \"<li>re-rerun `output_notebook()` to attempt to load from CDN again, or</li>\\n\"+\n",
       "     \"<li>use INLINE resources instead, as so:</li>\\n\"+\n",
       "     \"</ul>\\n\"+\n",
       "     \"<code>\\n\"+\n",
       "     \"from bokeh.resources import INLINE\\n\"+\n",
       "     \"output_notebook(resources=INLINE)\\n\"+\n",
       "     \"</code>\\n\"+\n",
       "     \"</div>\"}};\n",
       "\n",
       "  function display_loaded() {\n",
       "    const el = document.getElementById(\"1002\");\n",
       "    if (el != null) {\n",
       "      el.textContent = \"BokehJS is loading...\";\n",
       "    }\n",
       "    if (root.Bokeh !== undefined) {\n",
       "      if (el != null) {\n",
       "        el.textContent = \"BokehJS \" + root.Bokeh.version + \" successfully loaded.\";\n",
       "      }\n",
       "    } else if (Date.now() < root._bokeh_timeout) {\n",
       "      setTimeout(display_loaded, 100)\n",
       "    }\n",
       "  }\n",
       "\n",
       "\n",
       "  function run_callbacks() {\n",
       "    try {\n",
       "      root._bokeh_onload_callbacks.forEach(function(callback) {\n",
       "        if (callback != null)\n",
       "          callback();\n",
       "      });\n",
       "    } finally {\n",
       "      delete root._bokeh_onload_callbacks\n",
       "    }\n",
       "    console.debug(\"Bokeh: all callbacks have finished\");\n",
       "  }\n",
       "\n",
       "  function load_libs(css_urls, js_urls, callback) {\n",
       "    if (css_urls == null) css_urls = [];\n",
       "    if (js_urls == null) js_urls = [];\n",
       "\n",
       "    root._bokeh_onload_callbacks.push(callback);\n",
       "    if (root._bokeh_is_loading > 0) {\n",
       "      console.debug(\"Bokeh: BokehJS is being loaded, scheduling callback at\", now());\n",
       "      return null;\n",
       "    }\n",
       "    if (js_urls == null || js_urls.length === 0) {\n",
       "      run_callbacks();\n",
       "      return null;\n",
       "    }\n",
       "    console.debug(\"Bokeh: BokehJS not loaded, scheduling load and callback at\", now());\n",
       "    root._bokeh_is_loading = css_urls.length + js_urls.length;\n",
       "\n",
       "    function on_load() {\n",
       "      root._bokeh_is_loading--;\n",
       "      if (root._bokeh_is_loading === 0) {\n",
       "        console.debug(\"Bokeh: all BokehJS libraries/stylesheets loaded\");\n",
       "        run_callbacks()\n",
       "      }\n",
       "    }\n",
       "\n",
       "    function on_error(url) {\n",
       "      console.error(\"failed to load \" + url);\n",
       "    }\n",
       "\n",
       "    for (let i = 0; i < css_urls.length; i++) {\n",
       "      const url = css_urls[i];\n",
       "      const element = document.createElement(\"link\");\n",
       "      element.onload = on_load;\n",
       "      element.onerror = on_error.bind(null, url);\n",
       "      element.rel = \"stylesheet\";\n",
       "      element.type = \"text/css\";\n",
       "      element.href = url;\n",
       "      console.debug(\"Bokeh: injecting link tag for BokehJS stylesheet: \", url);\n",
       "      document.body.appendChild(element);\n",
       "    }\n",
       "\n",
       "    for (let i = 0; i < js_urls.length; i++) {\n",
       "      const url = js_urls[i];\n",
       "      const element = document.createElement('script');\n",
       "      element.onload = on_load;\n",
       "      element.onerror = on_error.bind(null, url);\n",
       "      element.async = false;\n",
       "      element.src = url;\n",
       "      console.debug(\"Bokeh: injecting script tag for BokehJS library: \", url);\n",
       "      document.head.appendChild(element);\n",
       "    }\n",
       "  };\n",
       "\n",
       "  function inject_raw_css(css) {\n",
       "    const element = document.createElement(\"style\");\n",
       "    element.appendChild(document.createTextNode(css));\n",
       "    document.body.appendChild(element);\n",
       "  }\n",
       "\n",
       "  \n",
       "  const js_urls = [\"https://cdn.bokeh.org/bokeh/release/bokeh-2.4.2.min.js\", \"https://cdn.bokeh.org/bokeh/release/bokeh-gl-2.4.2.min.js\", \"https://cdn.bokeh.org/bokeh/release/bokeh-widgets-2.4.2.min.js\", \"https://cdn.bokeh.org/bokeh/release/bokeh-tables-2.4.2.min.js\", \"https://cdn.bokeh.org/bokeh/release/bokeh-mathjax-2.4.2.min.js\"];\n",
       "  const css_urls = [];\n",
       "  \n",
       "\n",
       "  const inline_js = [\n",
       "    function(Bokeh) {\n",
       "      Bokeh.set_log_level(\"info\");\n",
       "    },\n",
       "    function(Bokeh) {\n",
       "    \n",
       "    \n",
       "    }\n",
       "  ];\n",
       "\n",
       "  function run_inline_js() {\n",
       "    \n",
       "    if (root.Bokeh !== undefined || force === true) {\n",
       "      \n",
       "    for (let i = 0; i < inline_js.length; i++) {\n",
       "      inline_js[i].call(root, root.Bokeh);\n",
       "    }\n",
       "    if (force === true) {\n",
       "        display_loaded();\n",
       "      }} else if (Date.now() < root._bokeh_timeout) {\n",
       "      setTimeout(run_inline_js, 100);\n",
       "    } else if (!root._bokeh_failed_load) {\n",
       "      console.log(\"Bokeh: BokehJS failed to load within specified timeout.\");\n",
       "      root._bokeh_failed_load = true;\n",
       "    } else if (force !== true) {\n",
       "      const cell = $(document.getElementById(\"1002\")).parents('.cell').data().cell;\n",
       "      cell.output_area.append_execute_result(NB_LOAD_WARNING)\n",
       "    }\n",
       "\n",
       "  }\n",
       "\n",
       "  if (root._bokeh_is_loading === 0) {\n",
       "    console.debug(\"Bokeh: BokehJS loaded, going straight to plotting\");\n",
       "    run_inline_js();\n",
       "  } else {\n",
       "    load_libs(css_urls, js_urls, function() {\n",
       "      console.debug(\"Bokeh: BokehJS plotting callback run at\", now());\n",
       "      run_inline_js();\n",
       "    });\n",
       "  }\n",
       "}(window));"
      ],
      "application/vnd.bokehjs_load.v0+json": "\n(function(root) {\n  function now() {\n    return new Date();\n  }\n\n  const force = true;\n\n  if (typeof root._bokeh_onload_callbacks === \"undefined\" || force === true) {\n    root._bokeh_onload_callbacks = [];\n    root._bokeh_is_loading = undefined;\n  }\n\n  \n\n  \n  if (typeof (root._bokeh_timeout) === \"undefined\" || force === true) {\n    root._bokeh_timeout = Date.now() + 5000;\n    root._bokeh_failed_load = false;\n  }\n\n  const NB_LOAD_WARNING = {'data': {'text/html':\n     \"<div style='background-color: #fdd'>\\n\"+\n     \"<p>\\n\"+\n     \"BokehJS does not appear to have successfully loaded. If loading BokehJS from CDN, this \\n\"+\n     \"may be due to a slow or bad network connection. Possible fixes:\\n\"+\n     \"</p>\\n\"+\n     \"<ul>\\n\"+\n     \"<li>re-rerun `output_notebook()` to attempt to load from CDN again, or</li>\\n\"+\n     \"<li>use INLINE resources instead, as so:</li>\\n\"+\n     \"</ul>\\n\"+\n     \"<code>\\n\"+\n     \"from bokeh.resources import INLINE\\n\"+\n     \"output_notebook(resources=INLINE)\\n\"+\n     \"</code>\\n\"+\n     \"</div>\"}};\n\n  function display_loaded() {\n    const el = document.getElementById(\"1002\");\n    if (el != null) {\n      el.textContent = \"BokehJS is loading...\";\n    }\n    if (root.Bokeh !== undefined) {\n      if (el != null) {\n        el.textContent = \"BokehJS \" + root.Bokeh.version + \" successfully loaded.\";\n      }\n    } else if (Date.now() < root._bokeh_timeout) {\n      setTimeout(display_loaded, 100)\n    }\n  }\n\n\n  function run_callbacks() {\n    try {\n      root._bokeh_onload_callbacks.forEach(function(callback) {\n        if (callback != null)\n          callback();\n      });\n    } finally {\n      delete root._bokeh_onload_callbacks\n    }\n    console.debug(\"Bokeh: all callbacks have finished\");\n  }\n\n  function load_libs(css_urls, js_urls, callback) {\n    if (css_urls == null) css_urls = [];\n    if (js_urls == null) js_urls = [];\n\n    root._bokeh_onload_callbacks.push(callback);\n    if (root._bokeh_is_loading > 0) {\n      console.debug(\"Bokeh: BokehJS is being loaded, scheduling callback at\", now());\n      return null;\n    }\n    if (js_urls == null || js_urls.length === 0) {\n      run_callbacks();\n      return null;\n    }\n    console.debug(\"Bokeh: BokehJS not loaded, scheduling load and callback at\", now());\n    root._bokeh_is_loading = css_urls.length + js_urls.length;\n\n    function on_load() {\n      root._bokeh_is_loading--;\n      if (root._bokeh_is_loading === 0) {\n        console.debug(\"Bokeh: all BokehJS libraries/stylesheets loaded\");\n        run_callbacks()\n      }\n    }\n\n    function on_error(url) {\n      console.error(\"failed to load \" + url);\n    }\n\n    for (let i = 0; i < css_urls.length; i++) {\n      const url = css_urls[i];\n      const element = document.createElement(\"link\");\n      element.onload = on_load;\n      element.onerror = on_error.bind(null, url);\n      element.rel = \"stylesheet\";\n      element.type = \"text/css\";\n      element.href = url;\n      console.debug(\"Bokeh: injecting link tag for BokehJS stylesheet: \", url);\n      document.body.appendChild(element);\n    }\n\n    for (let i = 0; i < js_urls.length; i++) {\n      const url = js_urls[i];\n      const element = document.createElement('script');\n      element.onload = on_load;\n      element.onerror = on_error.bind(null, url);\n      element.async = false;\n      element.src = url;\n      console.debug(\"Bokeh: injecting script tag for BokehJS library: \", url);\n      document.head.appendChild(element);\n    }\n  };\n\n  function inject_raw_css(css) {\n    const element = document.createElement(\"style\");\n    element.appendChild(document.createTextNode(css));\n    document.body.appendChild(element);\n  }\n\n  \n  const js_urls = [\"https://cdn.bokeh.org/bokeh/release/bokeh-2.4.2.min.js\", \"https://cdn.bokeh.org/bokeh/release/bokeh-gl-2.4.2.min.js\", \"https://cdn.bokeh.org/bokeh/release/bokeh-widgets-2.4.2.min.js\", \"https://cdn.bokeh.org/bokeh/release/bokeh-tables-2.4.2.min.js\", \"https://cdn.bokeh.org/bokeh/release/bokeh-mathjax-2.4.2.min.js\"];\n  const css_urls = [];\n  \n\n  const inline_js = [\n    function(Bokeh) {\n      Bokeh.set_log_level(\"info\");\n    },\n    function(Bokeh) {\n    \n    \n    }\n  ];\n\n  function run_inline_js() {\n    \n    if (root.Bokeh !== undefined || force === true) {\n      \n    for (let i = 0; i < inline_js.length; i++) {\n      inline_js[i].call(root, root.Bokeh);\n    }\n    if (force === true) {\n        display_loaded();\n      }} else if (Date.now() < root._bokeh_timeout) {\n      setTimeout(run_inline_js, 100);\n    } else if (!root._bokeh_failed_load) {\n      console.log(\"Bokeh: BokehJS failed to load within specified timeout.\");\n      root._bokeh_failed_load = true;\n    } else if (force !== true) {\n      const cell = $(document.getElementById(\"1002\")).parents('.cell').data().cell;\n      cell.output_area.append_execute_result(NB_LOAD_WARNING)\n    }\n\n  }\n\n  if (root._bokeh_is_loading === 0) {\n    console.debug(\"Bokeh: BokehJS loaded, going straight to plotting\");\n    run_inline_js();\n  } else {\n    load_libs(css_urls, js_urls, function() {\n      console.debug(\"Bokeh: BokehJS plotting callback run at\", now());\n      run_inline_js();\n    });\n  }\n}(window));"
     },
     "metadata": {},
     "output_type": "display_data"
    }
   ],
   "source": [
    "from bokeh.plotting import figure, show\n",
    "from bokeh.io import output_notebook\n",
    "\n",
    "output_notebook()"
   ]
  },
  {
   "cell_type": "code",
   "execution_count": 4,
   "metadata": {},
   "outputs": [
    {
     "data": {
      "text/html": [
       "\n",
       "\n",
       "\n",
       "\n",
       "\n",
       "\n",
       "  <div class=\"bk-root\" id=\"97127638-f392-4b97-a17b-555017738673\" data-root-id=\"1004\"></div>\n"
      ]
     },
     "metadata": {},
     "output_type": "display_data"
    },
    {
     "data": {
      "application/javascript": [
       "(function(root) {\n",
       "  function embed_document(root) {\n",
       "    \n",
       "  const docs_json = {\"da3faf75-ff02-4c45-ab48-9e5e14187abc\":{\"defs\":[],\"roots\":{\"references\":[{\"attributes\":{\"below\":[{\"id\":\"1015\"}],\"center\":[{\"id\":\"1018\"},{\"id\":\"1022\"}],\"left\":[{\"id\":\"1019\"}],\"renderers\":[{\"id\":\"1041\"},{\"id\":\"1047\"},{\"id\":\"1053\"},{\"id\":\"1059\"},{\"id\":\"1065\"},{\"id\":\"1071\"}],\"right\":[{\"id\":\"1073\"}],\"title\":{\"id\":\"1005\"},\"toolbar\":{\"id\":\"1030\"},\"x_range\":{\"id\":\"1007\"},\"x_scale\":{\"id\":\"1011\"},\"y_range\":{\"id\":\"1009\"},\"y_scale\":{\"id\":\"1013\"}},\"id\":\"1004\",\"subtype\":\"Figure\",\"type\":\"Plot\"},{\"attributes\":{},\"id\":\"1088\",\"type\":\"Selection\"},{\"attributes\":{\"tools\":[{\"id\":\"1023\"},{\"id\":\"1024\"},{\"id\":\"1025\"},{\"id\":\"1026\"},{\"id\":\"1027\"},{\"id\":\"1028\"}]},\"id\":\"1030\",\"type\":\"Toolbar\"},{\"attributes\":{\"click_policy\":\"hide\",\"coordinates\":null,\"group\":null,\"items\":[{\"id\":\"1074\"},{\"id\":\"1075\"},{\"id\":\"1076\"},{\"id\":\"1077\"},{\"id\":\"1078\"},{\"id\":\"1079\"}],\"location\":\"top\"},\"id\":\"1073\",\"type\":\"Legend\"},{\"attributes\":{\"fill_color\":{\"value\":\"#CBF7ED\"},\"hatch_color\":{\"value\":\"#CBF7ED\"},\"line_color\":{\"value\":\"#CBF7ED\"},\"top\":{\"field\":\"African-American\"},\"width\":{\"value\":0.5},\"x\":{\"field\":\"age\"}},\"id\":\"1044\",\"type\":\"VBar\"},{\"attributes\":{\"source\":{\"id\":\"1003\"}},\"id\":\"1060\",\"type\":\"CDSView\"},{\"attributes\":{\"coordinates\":null,\"data_source\":{\"id\":\"1003\"},\"glyph\":{\"id\":\"1056\"},\"group\":null,\"hover_glyph\":null,\"muted_glyph\":{\"id\":\"1058\"},\"nonselection_glyph\":{\"id\":\"1057\"},\"view\":{\"id\":\"1060\"}},\"id\":\"1059\",\"type\":\"GlyphRenderer\"},{\"attributes\":{\"label\":{\"value\":\"African-American\"},\"renderers\":[{\"id\":\"1047\"}]},\"id\":\"1075\",\"type\":\"LegendItem\"},{\"attributes\":{\"label\":{\"value\":\"Native American\"},\"renderers\":[{\"id\":\"1071\"}]},\"id\":\"1079\",\"type\":\"LegendItem\"},{\"attributes\":{\"bottom_units\":\"screen\",\"coordinates\":null,\"fill_alpha\":0.5,\"fill_color\":\"lightgrey\",\"group\":null,\"left_units\":\"screen\",\"level\":\"overlay\",\"line_alpha\":1.0,\"line_color\":\"black\",\"line_dash\":[4,4],\"line_width\":2,\"right_units\":\"screen\",\"syncable\":false,\"top_units\":\"screen\"},\"id\":\"1029\",\"type\":\"BoxAnnotation\"},{\"attributes\":{},\"id\":\"1007\",\"type\":\"DataRange1d\"},{\"attributes\":{\"fill_alpha\":{\"value\":0.2},\"fill_color\":{\"value\":\"#395B50\"},\"hatch_alpha\":{\"value\":0.2},\"hatch_color\":{\"value\":\"#395B50\"},\"line_alpha\":{\"value\":0.2},\"line_color\":{\"value\":\"#395B50\"},\"top\":{\"field\":\"Other\"},\"width\":{\"value\":0.5},\"x\":{\"field\":\"age\"}},\"id\":\"1040\",\"type\":\"VBar\"},{\"attributes\":{\"source\":{\"id\":\"1003\"}},\"id\":\"1072\",\"type\":\"CDSView\"},{\"attributes\":{},\"id\":\"1024\",\"type\":\"WheelZoomTool\"},{\"attributes\":{\"fill_alpha\":{\"value\":0.2},\"fill_color\":{\"value\":\"#547D9C\"},\"hatch_alpha\":{\"value\":0.2},\"hatch_color\":{\"value\":\"#547D9C\"},\"line_alpha\":{\"value\":0.2},\"line_color\":{\"value\":\"#547D9C\"},\"top\":{\"field\":\"Hispanic\"},\"width\":{\"value\":0.5},\"x\":{\"field\":\"age\"}},\"id\":\"1058\",\"type\":\"VBar\"},{\"attributes\":{\"fill_alpha\":{\"value\":0.1},\"fill_color\":{\"value\":\"#CBF7ED\"},\"hatch_alpha\":{\"value\":0.1},\"hatch_color\":{\"value\":\"#CBF7ED\"},\"line_alpha\":{\"value\":0.1},\"line_color\":{\"value\":\"#CBF7ED\"},\"top\":{\"field\":\"African-American\"},\"width\":{\"value\":0.5},\"x\":{\"field\":\"age\"}},\"id\":\"1045\",\"type\":\"VBar\"},{\"attributes\":{},\"id\":\"1083\",\"type\":\"AllLabels\"},{\"attributes\":{\"coordinates\":null,\"data_source\":{\"id\":\"1003\"},\"glyph\":{\"id\":\"1068\"},\"group\":null,\"hover_glyph\":null,\"muted_glyph\":{\"id\":\"1070\"},\"nonselection_glyph\":{\"id\":\"1069\"},\"view\":{\"id\":\"1072\"}},\"id\":\"1071\",\"type\":\"GlyphRenderer\"},{\"attributes\":{\"fill_alpha\":{\"value\":0.2},\"fill_color\":{\"value\":\"#CBF7ED\"},\"hatch_alpha\":{\"value\":0.2},\"hatch_color\":{\"value\":\"#CBF7ED\"},\"line_alpha\":{\"value\":0.2},\"line_color\":{\"value\":\"#CBF7ED\"},\"top\":{\"field\":\"African-American\"},\"width\":{\"value\":0.5},\"x\":{\"field\":\"age\"}},\"id\":\"1046\",\"type\":\"VBar\"},{\"attributes\":{},\"id\":\"1026\",\"type\":\"SaveTool\"},{\"attributes\":{},\"id\":\"1011\",\"type\":\"LinearScale\"},{\"attributes\":{},\"id\":\"1082\",\"type\":\"BasicTickFormatter\"},{\"attributes\":{\"fill_alpha\":{\"value\":0.1},\"fill_color\":{\"value\":\"#395B50\"},\"hatch_alpha\":{\"value\":0.1},\"hatch_color\":{\"value\":\"#395B50\"},\"line_alpha\":{\"value\":0.1},\"line_color\":{\"value\":\"#395B50\"},\"top\":{\"field\":\"Other\"},\"width\":{\"value\":0.5},\"x\":{\"field\":\"age\"}},\"id\":\"1039\",\"type\":\"VBar\"},{\"attributes\":{},\"id\":\"1087\",\"type\":\"UnionRenderers\"},{\"attributes\":{\"source\":{\"id\":\"1003\"}},\"id\":\"1054\",\"type\":\"CDSView\"},{\"attributes\":{},\"id\":\"1023\",\"type\":\"PanTool\"},{\"attributes\":{\"fill_color\":{\"value\":\"#161925\"},\"hatch_color\":{\"value\":\"#161925\"},\"line_color\":{\"value\":\"#161925\"},\"top\":{\"field\":\"Native American\"},\"width\":{\"value\":0.5},\"x\":{\"field\":\"age\"}},\"id\":\"1068\",\"type\":\"VBar\"},{\"attributes\":{\"coordinates\":null,\"data_source\":{\"id\":\"1003\"},\"glyph\":{\"id\":\"1050\"},\"group\":null,\"hover_glyph\":null,\"muted_glyph\":{\"id\":\"1052\"},\"nonselection_glyph\":{\"id\":\"1051\"},\"view\":{\"id\":\"1054\"}},\"id\":\"1053\",\"type\":\"GlyphRenderer\"},{\"attributes\":{},\"id\":\"1085\",\"type\":\"BasicTickFormatter\"},{\"attributes\":{},\"id\":\"1086\",\"type\":\"AllLabels\"},{\"attributes\":{},\"id\":\"1020\",\"type\":\"BasicTicker\"},{\"attributes\":{\"axis\":{\"id\":\"1015\"},\"coordinates\":null,\"group\":null,\"ticker\":null},\"id\":\"1018\",\"type\":\"Grid\"},{\"attributes\":{\"source\":{\"id\":\"1003\"}},\"id\":\"1066\",\"type\":\"CDSView\"},{\"attributes\":{\"fill_alpha\":{\"value\":0.1},\"fill_color\":{\"value\":\"#161925\"},\"hatch_alpha\":{\"value\":0.1},\"hatch_color\":{\"value\":\"#161925\"},\"line_alpha\":{\"value\":0.1},\"line_color\":{\"value\":\"#161925\"},\"top\":{\"field\":\"Native American\"},\"width\":{\"value\":0.5},\"x\":{\"field\":\"age\"}},\"id\":\"1069\",\"type\":\"VBar\"},{\"attributes\":{},\"id\":\"1027\",\"type\":\"ResetTool\"},{\"attributes\":{\"fill_alpha\":{\"value\":0.2},\"fill_color\":{\"value\":\"#161925\"},\"hatch_alpha\":{\"value\":0.2},\"hatch_color\":{\"value\":\"#161925\"},\"line_alpha\":{\"value\":0.2},\"line_color\":{\"value\":\"#161925\"},\"top\":{\"field\":\"Native American\"},\"width\":{\"value\":0.5},\"x\":{\"field\":\"age\"}},\"id\":\"1070\",\"type\":\"VBar\"},{\"attributes\":{\"coordinates\":null,\"data_source\":{\"id\":\"1003\"},\"glyph\":{\"id\":\"1062\"},\"group\":null,\"hover_glyph\":null,\"muted_glyph\":{\"id\":\"1064\"},\"nonselection_glyph\":{\"id\":\"1063\"},\"view\":{\"id\":\"1066\"}},\"id\":\"1065\",\"type\":\"GlyphRenderer\"},{\"attributes\":{\"axis_label\":\"Number of samples\",\"coordinates\":null,\"formatter\":{\"id\":\"1082\"},\"group\":null,\"major_label_policy\":{\"id\":\"1083\"},\"ticker\":{\"id\":\"1020\"}},\"id\":\"1019\",\"type\":\"LinearAxis\"},{\"attributes\":{\"fill_color\":{\"value\":\"#395B50\"},\"hatch_color\":{\"value\":\"#395B50\"},\"line_color\":{\"value\":\"#395B50\"},\"top\":{\"field\":\"Other\"},\"width\":{\"value\":0.5},\"x\":{\"field\":\"age\"}},\"id\":\"1038\",\"type\":\"VBar\"},{\"attributes\":{\"fill_color\":{\"value\":\"#C5D1EB\"},\"hatch_color\":{\"value\":\"#C5D1EB\"},\"line_color\":{\"value\":\"#C5D1EB\"},\"top\":{\"field\":\"Caucasian\"},\"width\":{\"value\":0.5},\"x\":{\"field\":\"age\"}},\"id\":\"1050\",\"type\":\"VBar\"},{\"attributes\":{},\"id\":\"1016\",\"type\":\"BasicTicker\"},{\"attributes\":{},\"id\":\"1013\",\"type\":\"LinearScale\"},{\"attributes\":{\"axis_label\":\"Ages\",\"coordinates\":null,\"formatter\":{\"id\":\"1085\"},\"group\":null,\"major_label_policy\":{\"id\":\"1086\"},\"ticker\":{\"id\":\"1016\"}},\"id\":\"1015\",\"type\":\"LinearAxis\"},{\"attributes\":{\"coordinates\":null,\"data_source\":{\"id\":\"1003\"},\"glyph\":{\"id\":\"1038\"},\"group\":null,\"hover_glyph\":null,\"muted_glyph\":{\"id\":\"1040\"},\"nonselection_glyph\":{\"id\":\"1039\"},\"view\":{\"id\":\"1042\"}},\"id\":\"1041\",\"type\":\"GlyphRenderer\"},{\"attributes\":{\"data\":{\"African-American\":[1,16,95,172,166,174,185,161,168,180,140,147,146,117,100,97,91,90,75,76,56,46,35,51,46,43,33,33,29,36,29,29,24,39,37,25,26,18,26,21,13,17,10,13,5,7,8,3,4,3,3,3,2,1,0,0,1,1,0,2,0,0,0,0,0],\"Asian\":[0,0,1,1,1,0,3,0,1,0,1,1,1,0,1,1,2,1,1,0,2,0,1,1,0,0,0,1,2,1,2,0,1,1,1,0,0,0,0,0,0,0,0,0,0,0,0,0,0,1,0,0,0,0,0,0,0,0,1,0,0,0,0,0,0],\"Caucasian\":[0,7,39,70,75,66,90,89,82,69,76,71,72,72,50,59,56,38,41,50,42,59,37,36,39,43,47,37,46,35,28,43,44,38,36,39,27,38,36,24,27,21,10,19,11,8,5,8,9,10,3,8,3,3,3,1,4,0,0,1,1,1,1,0,0],\"Hispanic\":[0,2,10,27,22,28,20,17,21,15,18,17,21,20,19,9,16,18,15,25,16,6,9,11,3,7,8,13,4,8,7,3,7,9,10,6,4,6,3,5,3,4,4,2,2,1,2,0,0,1,1,2,0,0,0,0,0,0,0,0,0,0,0,1,1],\"Native American\":[0,0,1,1,0,0,0,1,0,1,1,0,0,0,0,1,0,0,0,1,0,0,1,0,1,0,0,1,0,1,0,0,0,0,0,0,0,0,0,0,0,0,0,0,0,0,0,0,0,0,0,0,0,0,0,0,0,0,0,0,0,0,0,0,0],\"Other\":[0,1,16,15,8,17,17,17,9,13,6,12,20,14,11,13,8,4,11,13,10,8,9,3,5,5,3,7,5,5,10,5,1,3,4,3,6,2,4,4,3,2,3,1,1,1,1,0,1,0,0,2,1,0,0,0,0,0,0,0,0,0,0,0,0],\"age\":[18,19,20,21,22,23,24,25,26,27,28,29,30,31,32,33,34,35,36,37,38,39,40,41,42,43,44,45,46,47,48,49,50,51,52,53,54,55,56,57,58,59,60,61,62,63,64,65,66,67,68,69,70,71,72,73,74,75,76,77,78,79,80,83,96]},\"selected\":{\"id\":\"1088\"},\"selection_policy\":{\"id\":\"1087\"}},\"id\":\"1003\",\"type\":\"ColumnDataSource\"},{\"attributes\":{\"fill_alpha\":{\"value\":0.1},\"fill_color\":{\"value\":\"#C5D1EB\"},\"hatch_alpha\":{\"value\":0.1},\"hatch_color\":{\"value\":\"#C5D1EB\"},\"line_alpha\":{\"value\":0.1},\"line_color\":{\"value\":\"#C5D1EB\"},\"top\":{\"field\":\"Caucasian\"},\"width\":{\"value\":0.5},\"x\":{\"field\":\"age\"}},\"id\":\"1051\",\"type\":\"VBar\"},{\"attributes\":{\"label\":{\"value\":\"Other\"},\"renderers\":[{\"id\":\"1041\"}]},\"id\":\"1074\",\"type\":\"LegendItem\"},{\"attributes\":{\"source\":{\"id\":\"1003\"}},\"id\":\"1048\",\"type\":\"CDSView\"},{\"attributes\":{\"fill_alpha\":{\"value\":0.2},\"fill_color\":{\"value\":\"#C5D1EB\"},\"hatch_alpha\":{\"value\":0.2},\"hatch_color\":{\"value\":\"#C5D1EB\"},\"line_alpha\":{\"value\":0.2},\"line_color\":{\"value\":\"#C5D1EB\"},\"top\":{\"field\":\"Caucasian\"},\"width\":{\"value\":0.5},\"x\":{\"field\":\"age\"}},\"id\":\"1052\",\"type\":\"VBar\"},{\"attributes\":{\"fill_color\":{\"value\":\"#5A7684\"},\"hatch_color\":{\"value\":\"#5A7684\"},\"line_color\":{\"value\":\"#5A7684\"},\"top\":{\"field\":\"Asian\"},\"width\":{\"value\":0.5},\"x\":{\"field\":\"age\"}},\"id\":\"1062\",\"type\":\"VBar\"},{\"attributes\":{\"coordinates\":null,\"group\":null,\"text\":\"Number of samples by age for each race\"},\"id\":\"1005\",\"type\":\"Title\"},{\"attributes\":{\"axis\":{\"id\":\"1019\"},\"coordinates\":null,\"dimension\":1,\"group\":null,\"ticker\":null},\"id\":\"1022\",\"type\":\"Grid\"},{\"attributes\":{\"label\":{\"value\":\"Caucasian\"},\"renderers\":[{\"id\":\"1053\"}]},\"id\":\"1076\",\"type\":\"LegendItem\"},{\"attributes\":{},\"id\":\"1009\",\"type\":\"DataRange1d\"},{\"attributes\":{\"label\":{\"value\":\"Asian\"},\"renderers\":[{\"id\":\"1065\"}]},\"id\":\"1078\",\"type\":\"LegendItem\"},{\"attributes\":{\"coordinates\":null,\"data_source\":{\"id\":\"1003\"},\"glyph\":{\"id\":\"1044\"},\"group\":null,\"hover_glyph\":null,\"muted_glyph\":{\"id\":\"1046\"},\"nonselection_glyph\":{\"id\":\"1045\"},\"view\":{\"id\":\"1048\"}},\"id\":\"1047\",\"type\":\"GlyphRenderer\"},{\"attributes\":{\"fill_alpha\":{\"value\":0.1},\"fill_color\":{\"value\":\"#547D9C\"},\"hatch_alpha\":{\"value\":0.1},\"hatch_color\":{\"value\":\"#547D9C\"},\"line_alpha\":{\"value\":0.1},\"line_color\":{\"value\":\"#547D9C\"},\"top\":{\"field\":\"Hispanic\"},\"width\":{\"value\":0.5},\"x\":{\"field\":\"age\"}},\"id\":\"1057\",\"type\":\"VBar\"},{\"attributes\":{\"fill_alpha\":{\"value\":0.1},\"fill_color\":{\"value\":\"#5A7684\"},\"hatch_alpha\":{\"value\":0.1},\"hatch_color\":{\"value\":\"#5A7684\"},\"line_alpha\":{\"value\":0.1},\"line_color\":{\"value\":\"#5A7684\"},\"top\":{\"field\":\"Asian\"},\"width\":{\"value\":0.5},\"x\":{\"field\":\"age\"}},\"id\":\"1063\",\"type\":\"VBar\"},{\"attributes\":{\"source\":{\"id\":\"1003\"}},\"id\":\"1042\",\"type\":\"CDSView\"},{\"attributes\":{\"fill_color\":{\"value\":\"#547D9C\"},\"hatch_color\":{\"value\":\"#547D9C\"},\"line_color\":{\"value\":\"#547D9C\"},\"top\":{\"field\":\"Hispanic\"},\"width\":{\"value\":0.5},\"x\":{\"field\":\"age\"}},\"id\":\"1056\",\"type\":\"VBar\"},{\"attributes\":{\"fill_alpha\":{\"value\":0.2},\"fill_color\":{\"value\":\"#5A7684\"},\"hatch_alpha\":{\"value\":0.2},\"hatch_color\":{\"value\":\"#5A7684\"},\"line_alpha\":{\"value\":0.2},\"line_color\":{\"value\":\"#5A7684\"},\"top\":{\"field\":\"Asian\"},\"width\":{\"value\":0.5},\"x\":{\"field\":\"age\"}},\"id\":\"1064\",\"type\":\"VBar\"},{\"attributes\":{\"label\":{\"value\":\"Hispanic\"},\"renderers\":[{\"id\":\"1059\"}]},\"id\":\"1077\",\"type\":\"LegendItem\"},{\"attributes\":{\"overlay\":{\"id\":\"1029\"}},\"id\":\"1025\",\"type\":\"BoxZoomTool\"},{\"attributes\":{},\"id\":\"1028\",\"type\":\"HelpTool\"}],\"root_ids\":[\"1004\"]},\"title\":\"Bokeh Application\",\"version\":\"2.4.2\"}};\n",
       "  const render_items = [{\"docid\":\"da3faf75-ff02-4c45-ab48-9e5e14187abc\",\"root_ids\":[\"1004\"],\"roots\":{\"1004\":\"97127638-f392-4b97-a17b-555017738673\"}}];\n",
       "  root.Bokeh.embed.embed_items_notebook(docs_json, render_items);\n",
       "\n",
       "  }\n",
       "  if (root.Bokeh !== undefined) {\n",
       "    embed_document(root);\n",
       "  } else {\n",
       "    let attempts = 0;\n",
       "    const timer = setInterval(function(root) {\n",
       "      if (root.Bokeh !== undefined) {\n",
       "        clearInterval(timer);\n",
       "        embed_document(root);\n",
       "      } else {\n",
       "        attempts++;\n",
       "        if (attempts > 100) {\n",
       "          clearInterval(timer);\n",
       "          console.log(\"Bokeh: ERROR: Unable to run BokehJS code because BokehJS library is missing\");\n",
       "        }\n",
       "      }\n",
       "    }, 10, root)\n",
       "  }\n",
       "})(window);"
      ],
      "application/vnd.bokehjs_exec.v0+json": ""
     },
     "metadata": {
      "application/vnd.bokehjs_exec.v0+json": {
       "id": "1004"
      }
     },
     "output_type": "display_data"
    }
   ],
   "source": [
    "from bokeh.models import ColumnDataSource, Legend\n",
    "\n",
    "source = ColumnDataSource(byAgePerRace)\n",
    "p = figure(title=\"Number of samples by age for each race\", x_axis_label=\"Ages\", y_axis_label=\"Number of samples\")\n",
    "races = preprocessed.race.unique()\n",
    "bars =[] # to store vbars\n",
    "colors = [\"#395B50\", \"#CBF7ED\", \"#C5D1EB\", \"#547D9C\", \"#5A7684\", \"#161925\"]\n",
    "# here we will do a for loop to create a bar for each race\n",
    "for idx, i in enumerate(races):\n",
    "    heights = byAgePerRace[i].values\n",
    "    b = p.vbar(x=\"age\",  top=i, source=source, width=.5, color=colors[idx])\n",
    "    bars.append((i, [b]))\n",
    "legend = Legend(items=bars, location=\"top\")\n",
    "p.add_layout(legend, 'right')\n",
    "p.legend.click_policy=\"hide\" #assigns the click policy (you can try to use ''hide')\n",
    "show(p) #displays your plot\n"
   ]
  },
  {
   "cell_type": "markdown",
   "metadata": {},
   "source": [
    "<mark>What do you observe?</mark><br/>\n",
    "From every group, people between the ages of 20 and 40 committed the crimes most often. This phenomenon is the most pronounced in the African-American community, which also has the highest number of arrests overall."
   ]
  },
  {
   "cell_type": "markdown",
   "metadata": {},
   "source": [
    "During Week 6 I asked you to visualize a bar plot with the fraction of recommitted crimes over total number of records per race, e.g. the number of recommitted crimes of African-Americans over the total number of crimes of African-Americans, etc. You should have obtained something like [this](https://github.com/suneman/socialdata2022/blob/main/files/frac_recommit_race.png). If we look at this plot we observe that all races but Asian have fraction of recommitted crimes above $30\\%$, and African-Americans have the highest fraction, i.e. above $50\\%$. However, is this the whole story? Let's have a look at this data from a different angle!\n",
    "\n",
    "> *Exercise 1.2:* fraction of crimes - a different perspective. In this exercise, we are going to create an interactive scatter plot, where each point is a race, with position given by the number of total samples in the race category on the x-axis and the number of recommitted crimes in the race category on the y-axis. Moreover, each point will have a size given by the fraction computed in Week 6. Follow these steps for success:\n",
    "> * Create a `DataFrame` with `race` as index and the following columns: \n",
    ">     * `n_samples`, i.e. number of samples for each race,\n",
    ">     * `n_rec_crimes`, i.e. number of recommitted crimes for each race,\n",
    ">     * `frac_crimes`, i.e. `n_rec_crimes/n_samples`.\n",
    "> * Convert the dataframe into a `ColumnDataSource` and create an empty figure.\n",
    "> * Add points in your figure by using \n",
    "> ```python\n",
    ">   p.circle(ADD_X_COLUMN,ADD_Y_COLUMN, size=..., source=..., ...)\n",
    "> ```\n",
    "> * Add a `HoverTool()` so that when hovering over a circle both race and size are displayed.\n",
    "> * You can change colors of the data points by passing an additional color column to `p.circle()`.\n",
    "> * And now a couple of questions: Explain what you observe. What does this plot shows that the fraction of crimes alone didn't? Do you think the data we are using is representative? What could be some possible issues with this data? \n",
    "\n",
    "Once answered the questions above, **take a minute and discuss** your thoughts with your neighbour or one of your group members."
   ]
  },
  {
   "cell_type": "code",
   "execution_count": 5,
   "metadata": {},
   "outputs": [
    {
     "data": {
      "text/html": [
       "<div>\n",
       "<style scoped>\n",
       "    .dataframe tbody tr th:only-of-type {\n",
       "        vertical-align: middle;\n",
       "    }\n",
       "\n",
       "    .dataframe tbody tr th {\n",
       "        vertical-align: top;\n",
       "    }\n",
       "\n",
       "    .dataframe thead th {\n",
       "        text-align: right;\n",
       "    }\n",
       "</style>\n",
       "<table border=\"1\" class=\"dataframe\">\n",
       "  <thead>\n",
       "    <tr style=\"text-align: right;\">\n",
       "      <th></th>\n",
       "      <th>n_samples</th>\n",
       "      <th>n_rec_crimes</th>\n",
       "      <th>frac_crimes</th>\n",
       "    </tr>\n",
       "  </thead>\n",
       "  <tbody>\n",
       "    <tr>\n",
       "      <th>African-American</th>\n",
       "      <td>3175</td>\n",
       "      <td>1661</td>\n",
       "      <td>0.523150</td>\n",
       "    </tr>\n",
       "    <tr>\n",
       "      <th>Asian</th>\n",
       "      <td>31</td>\n",
       "      <td>8</td>\n",
       "      <td>0.258065</td>\n",
       "    </tr>\n",
       "    <tr>\n",
       "      <th>Caucasian</th>\n",
       "      <td>2103</td>\n",
       "      <td>822</td>\n",
       "      <td>0.390870</td>\n",
       "    </tr>\n",
       "    <tr>\n",
       "      <th>Hispanic</th>\n",
       "      <td>509</td>\n",
       "      <td>189</td>\n",
       "      <td>0.371316</td>\n",
       "    </tr>\n",
       "    <tr>\n",
       "      <th>Native American</th>\n",
       "      <td>11</td>\n",
       "      <td>5</td>\n",
       "      <td>0.454545</td>\n",
       "    </tr>\n",
       "    <tr>\n",
       "      <th>Other</th>\n",
       "      <td>343</td>\n",
       "      <td>124</td>\n",
       "      <td>0.361516</td>\n",
       "    </tr>\n",
       "  </tbody>\n",
       "</table>\n",
       "</div>"
      ],
      "text/plain": [
       "                  n_samples  n_rec_crimes  frac_crimes\n",
       "African-American       3175          1661     0.523150\n",
       "Asian                    31             8     0.258065\n",
       "Caucasian              2103           822     0.390870\n",
       "Hispanic                509           189     0.371316\n",
       "Native American          11             5     0.454545\n",
       "Other                   343           124     0.361516"
      ]
     },
     "execution_count": 5,
     "metadata": {},
     "output_type": "execute_result"
    }
   ],
   "source": [
    "races = preprocessed.race.unique()\n",
    "n_samples = preprocessed.race.value_counts()\n",
    "n_rec_crimes = preprocessed.groupby(\"race\").two_year_recid.sum()\n",
    "frac_crimes = n_rec_crimes / n_samples\n",
    "df = pd.DataFrame({'n_samples': n_samples, 'n_rec_crimes': n_rec_crimes, 'frac_crimes': frac_crimes})\n",
    "df"
   ]
  },
  {
   "cell_type": "code",
   "execution_count": 6,
   "metadata": {},
   "outputs": [
    {
     "data": {
      "text/html": [
       "\n",
       "\n",
       "\n",
       "\n",
       "\n",
       "\n",
       "  <div class=\"bk-root\" id=\"1b55cf3b-5b03-4cc8-87ac-2c2a1bc9aa67\" data-root-id=\"1141\"></div>\n"
      ]
     },
     "metadata": {},
     "output_type": "display_data"
    },
    {
     "data": {
      "application/javascript": [
       "(function(root) {\n",
       "  function embed_document(root) {\n",
       "    \n",
       "  const docs_json = {\"2a0c1761-0844-46fb-893e-60412b140d66\":{\"defs\":[],\"roots\":{\"references\":[{\"attributes\":{\"below\":[{\"id\":\"1152\"}],\"center\":[{\"id\":\"1155\"},{\"id\":\"1159\"}],\"left\":[{\"id\":\"1156\"}],\"renderers\":[{\"id\":\"1180\"}],\"title\":{\"id\":\"1142\"},\"toolbar\":{\"id\":\"1168\"},\"x_range\":{\"id\":\"1144\"},\"x_scale\":{\"id\":\"1148\"},\"y_range\":{\"id\":\"1146\"},\"y_scale\":{\"id\":\"1150\"}},\"id\":\"1141\",\"subtype\":\"Figure\",\"type\":\"Plot\"},{\"attributes\":{},\"id\":\"1200\",\"type\":\"Selection\"},{\"attributes\":{},\"id\":\"1199\",\"type\":\"UnionRenderers\"},{\"attributes\":{},\"id\":\"1153\",\"type\":\"BasicTicker\"},{\"attributes\":{},\"id\":\"1150\",\"type\":\"LinearScale\"},{\"attributes\":{\"data\":{\"frac_crimes\":{\"__ndarray__\":\"dw0/PqS94D+EEEIIIYTQP/ch32EEBNk/dk40eKXD1z8XXXTRRRfdP6R8zyYUI9c/\",\"dtype\":\"float64\",\"order\":\"little\",\"shape\":[6]},\"index\":[\"African-American\",\"Asian\",\"Caucasian\",\"Hispanic\",\"Native American\",\"Other\"],\"n_rec_crimes\":[1661,8,822,189,5,124],\"n_samples\":[3175,31,2103,509,11,343],\"sizes\":{\"__ndarray__\":\"CoVCoVAoOkDOOeecc84pQIlSdmwjizNATN3oRdmQMkC66KKLLro2QGAZUr5nEzJA\",\"dtype\":\"float64\",\"order\":\"little\",\"shape\":[6]}},\"selected\":{\"id\":\"1200\"},\"selection_policy\":{\"id\":\"1199\"}},\"id\":\"1140\",\"type\":\"ColumnDataSource\"},{\"attributes\":{},\"id\":\"1144\",\"type\":\"DataRange1d\"},{\"attributes\":{},\"id\":\"1148\",\"type\":\"LinearScale\"},{\"attributes\":{\"coordinates\":null,\"group\":null,\"text\":\"Number of recommitted crimes and total samples for each race\"},\"id\":\"1142\",\"type\":\"Title\"},{\"attributes\":{\"axis_label\":\"Number of total samples\",\"coordinates\":null,\"formatter\":{\"id\":\"1197\"},\"group\":null,\"major_label_policy\":{\"id\":\"1198\"},\"ticker\":{\"id\":\"1153\"}},\"id\":\"1152\",\"type\":\"LinearAxis\"},{\"attributes\":{\"bottom_units\":\"screen\",\"coordinates\":null,\"fill_alpha\":0.5,\"fill_color\":\"lightgrey\",\"group\":null,\"left_units\":\"screen\",\"level\":\"overlay\",\"line_alpha\":1.0,\"line_color\":\"black\",\"line_dash\":[4,4],\"line_width\":2,\"right_units\":\"screen\",\"syncable\":false,\"top_units\":\"screen\"},\"id\":\"1166\",\"type\":\"BoxAnnotation\"},{\"attributes\":{},\"id\":\"1146\",\"type\":\"DataRange1d\"},{\"attributes\":{},\"id\":\"1161\",\"type\":\"WheelZoomTool\"},{\"attributes\":{\"axis\":{\"id\":\"1156\"},\"coordinates\":null,\"dimension\":1,\"group\":null,\"ticker\":null},\"id\":\"1159\",\"type\":\"Grid\"},{\"attributes\":{\"source\":{\"id\":\"1140\"}},\"id\":\"1181\",\"type\":\"CDSView\"},{\"attributes\":{\"callback\":null,\"tooltips\":[[\"Race\",\"@index\"],[\"Fraction\",\"@frac_crimes\"]]},\"id\":\"1167\",\"type\":\"HoverTool\"},{\"attributes\":{\"coordinates\":null,\"data_source\":{\"id\":\"1140\"},\"glyph\":{\"id\":\"1177\"},\"group\":null,\"hover_glyph\":null,\"muted\":true,\"muted_glyph\":{\"id\":\"1179\"},\"nonselection_glyph\":{\"id\":\"1178\"},\"view\":{\"id\":\"1181\"}},\"id\":\"1180\",\"type\":\"GlyphRenderer\"},{\"attributes\":{},\"id\":\"1165\",\"type\":\"HelpTool\"},{\"attributes\":{\"axis\":{\"id\":\"1152\"},\"coordinates\":null,\"group\":null,\"ticker\":null},\"id\":\"1155\",\"type\":\"Grid\"},{\"attributes\":{\"fill_alpha\":{\"value\":0.1},\"fill_color\":{\"value\":\"blue\"},\"hatch_alpha\":{\"value\":0.1},\"line_alpha\":{\"value\":0.1},\"line_color\":{\"value\":\"blue\"},\"size\":{\"field\":\"sizes\"},\"x\":{\"field\":\"n_samples\"},\"y\":{\"field\":\"n_rec_crimes\"}},\"id\":\"1178\",\"type\":\"Circle\"},{\"attributes\":{\"fill_color\":{\"value\":\"blue\"},\"line_color\":{\"value\":\"blue\"},\"size\":{\"field\":\"sizes\"},\"x\":{\"field\":\"n_samples\"},\"y\":{\"field\":\"n_rec_crimes\"}},\"id\":\"1177\",\"type\":\"Circle\"},{\"attributes\":{\"fill_alpha\":{\"value\":0.2},\"fill_color\":{\"value\":\"blue\"},\"hatch_alpha\":{\"value\":0.2},\"line_alpha\":{\"value\":0.2},\"line_color\":{\"value\":\"blue\"},\"size\":{\"field\":\"sizes\"},\"x\":{\"field\":\"n_samples\"},\"y\":{\"field\":\"n_rec_crimes\"}},\"id\":\"1179\",\"type\":\"Circle\"},{\"attributes\":{\"overlay\":{\"id\":\"1166\"}},\"id\":\"1162\",\"type\":\"BoxZoomTool\"},{\"attributes\":{\"tools\":[{\"id\":\"1160\"},{\"id\":\"1161\"},{\"id\":\"1162\"},{\"id\":\"1163\"},{\"id\":\"1164\"},{\"id\":\"1165\"},{\"id\":\"1167\"}]},\"id\":\"1168\",\"type\":\"Toolbar\"},{\"attributes\":{},\"id\":\"1195\",\"type\":\"AllLabels\"},{\"attributes\":{},\"id\":\"1160\",\"type\":\"PanTool\"},{\"attributes\":{},\"id\":\"1163\",\"type\":\"SaveTool\"},{\"attributes\":{},\"id\":\"1164\",\"type\":\"ResetTool\"},{\"attributes\":{},\"id\":\"1198\",\"type\":\"AllLabels\"},{\"attributes\":{},\"id\":\"1194\",\"type\":\"BasicTickFormatter\"},{\"attributes\":{},\"id\":\"1157\",\"type\":\"BasicTicker\"},{\"attributes\":{\"axis_label\":\"Number of recommitted crimes\",\"coordinates\":null,\"formatter\":{\"id\":\"1194\"},\"group\":null,\"major_label_policy\":{\"id\":\"1195\"},\"ticker\":{\"id\":\"1157\"}},\"id\":\"1156\",\"type\":\"LinearAxis\"},{\"attributes\":{},\"id\":\"1197\",\"type\":\"BasicTickFormatter\"}],\"root_ids\":[\"1141\"]},\"title\":\"Bokeh Application\",\"version\":\"2.4.2\"}};\n",
       "  const render_items = [{\"docid\":\"2a0c1761-0844-46fb-893e-60412b140d66\",\"root_ids\":[\"1141\"],\"roots\":{\"1141\":\"1b55cf3b-5b03-4cc8-87ac-2c2a1bc9aa67\"}}];\n",
       "  root.Bokeh.embed.embed_items_notebook(docs_json, render_items);\n",
       "\n",
       "  }\n",
       "  if (root.Bokeh !== undefined) {\n",
       "    embed_document(root);\n",
       "  } else {\n",
       "    let attempts = 0;\n",
       "    const timer = setInterval(function(root) {\n",
       "      if (root.Bokeh !== undefined) {\n",
       "        clearInterval(timer);\n",
       "        embed_document(root);\n",
       "      } else {\n",
       "        attempts++;\n",
       "        if (attempts > 100) {\n",
       "          clearInterval(timer);\n",
       "          console.log(\"Bokeh: ERROR: Unable to run BokehJS code because BokehJS library is missing\");\n",
       "        }\n",
       "      }\n",
       "    }, 10, root)\n",
       "  }\n",
       "})(window);"
      ],
      "application/vnd.bokehjs_exec.v0+json": ""
     },
     "metadata": {
      "application/vnd.bokehjs_exec.v0+json": {
       "id": "1141"
      }
     },
     "output_type": "display_data"
    }
   ],
   "source": [
    "import math\n",
    "\n",
    "df[\"sizes\"] = df.frac_crimes * 50\n",
    "source = ColumnDataSource(df)\n",
    "# add data to be shown in hover tooltip\n",
    "HOVER = [\n",
    "    (\"Race\", \"@index\"),\n",
    "    (\"Fraction\", \"@frac_crimes\")\n",
    "]\n",
    "p = figure(title=\"Number of recommitted crimes and total samples for each race\", x_axis_label=\"Number of total samples\",\n",
    "           y_axis_label=\"Number of recommitted crimes\", tooltips=HOVER)\n",
    "p.circle(\"n_samples\", \"n_rec_crimes\", size=\"sizes\", source=source, muted=True, line_color=\"blue\", fill_color=\"blue\")\n",
    "show(p)"
   ]
  },
  {
   "cell_type": "markdown",
   "metadata": {},
   "source": [
    "The above interactive plot shows that the racial groups with the highest ratio of recommitted crimes is also the one with the highest number of samples. This means that other groups' results could be skewed because their small sample sizes.\n",
    "The data about Native Americans is an example where the small number of records potentially overrepresents recommitted crimes.\n",
    "The inverse can be observed in the case of the Asian group: the small number of samples potentially underrepresent recommitted crimes.\n",
    "In conclusion, this data is not representative."
   ]
  },
  {
   "cell_type": "markdown",
   "metadata": {},
   "source": [
    "<details>\n",
    "    <summary>Ok, it is now time to uncover where this data is coming from. <b>Only click on this cell to open it after you have completed the exercise above</b></summary>\n",
    "    The data we are using is related to:\n",
    "    <ul>\n",
    "        <li> <b>COMPAS</b> (Correctional Offender Management Profiling for Alternative Sanctions), a <a href=https://towardsdatascience.com/compas-case-study-fairness-of-a-machine-learning-model-f0f804108751>popular commercial algorithm</a> used by judges and parole officers for scoring criminal defendant’s likelihood of reoffending (recidivism).  </li>\n",
    "        <li> Multiple works have shown that the algorithm is biased towards non-caucasian people. <b>ProPublica</b> has published an <a href=https://www.propublica.org/article/how-we-analyzed-the-compas-recidivism-algorithm>extensive work</a> on the topic. </li>\n",
    "    </ul>\n",
    "</details>"
   ]
  },
  {
   "cell_type": "markdown",
   "metadata": {},
   "source": [
    "## Part 2: Visualize the results of a Machine Learning model"
   ]
  },
  {
   "cell_type": "markdown",
   "metadata": {},
   "source": [
    "Above, we had a deeper look at the recidivism dataset and the visualizations we created highlighted some possible issues/imbalances with the data and especially with race. \n",
    "\n",
    "If you had a look at the hidden information cell above, now you know what the problems are with this dataset and with using it to predict recidivism. During Week 6, you trained a classification model to predict criminal recidivism on this data. Now, a question might rise... Is your model biased? If yes, can you do anything about it?\n",
    "\n",
    "You will now use visualization to better understand the results of your model. This is one of the reasons why visualization is so powerful. Not only it allows us to explore data and create an understanding of the different aspects of it, but it also allows us to understand ML models and their performance!\n",
    "\n",
    "In the next exercise, use the model you have trained/tested in Week 6 by using only the columns selected in Week 6, Exercise 3.1 and by preprocessing as in Exercise 3.2."
   ]
  },
  {
   "cell_type": "code",
   "execution_count": 7,
   "metadata": {},
   "outputs": [
    {
     "data": {
      "text/html": [
       "<div>\n",
       "<style scoped>\n",
       "    .dataframe tbody tr th:only-of-type {\n",
       "        vertical-align: middle;\n",
       "    }\n",
       "\n",
       "    .dataframe tbody tr th {\n",
       "        vertical-align: top;\n",
       "    }\n",
       "\n",
       "    .dataframe thead th {\n",
       "        text-align: right;\n",
       "    }\n",
       "</style>\n",
       "<table border=\"1\" class=\"dataframe\">\n",
       "  <thead>\n",
       "    <tr style=\"text-align: right;\">\n",
       "      <th></th>\n",
       "      <th>sex</th>\n",
       "      <th>race</th>\n",
       "      <th>age</th>\n",
       "      <th>juv_fel_count</th>\n",
       "      <th>juv_misd_count</th>\n",
       "      <th>juv_other_count</th>\n",
       "      <th>priors_count</th>\n",
       "      <th>two_year_recid</th>\n",
       "    </tr>\n",
       "  </thead>\n",
       "  <tbody>\n",
       "    <tr>\n",
       "      <th>1</th>\n",
       "      <td>Male</td>\n",
       "      <td>African-American</td>\n",
       "      <td>34</td>\n",
       "      <td>0</td>\n",
       "      <td>0</td>\n",
       "      <td>0</td>\n",
       "      <td>0</td>\n",
       "      <td>1</td>\n",
       "    </tr>\n",
       "    <tr>\n",
       "      <th>2</th>\n",
       "      <td>Male</td>\n",
       "      <td>African-American</td>\n",
       "      <td>24</td>\n",
       "      <td>0</td>\n",
       "      <td>0</td>\n",
       "      <td>1</td>\n",
       "      <td>4</td>\n",
       "      <td>1</td>\n",
       "    </tr>\n",
       "    <tr>\n",
       "      <th>6</th>\n",
       "      <td>Male</td>\n",
       "      <td>Caucasian</td>\n",
       "      <td>41</td>\n",
       "      <td>0</td>\n",
       "      <td>0</td>\n",
       "      <td>0</td>\n",
       "      <td>14</td>\n",
       "      <td>1</td>\n",
       "    </tr>\n",
       "    <tr>\n",
       "      <th>11</th>\n",
       "      <td>Male</td>\n",
       "      <td>African-American</td>\n",
       "      <td>23</td>\n",
       "      <td>0</td>\n",
       "      <td>0</td>\n",
       "      <td>0</td>\n",
       "      <td>3</td>\n",
       "      <td>1</td>\n",
       "    </tr>\n",
       "    <tr>\n",
       "      <th>14</th>\n",
       "      <td>Female</td>\n",
       "      <td>Caucasian</td>\n",
       "      <td>47</td>\n",
       "      <td>0</td>\n",
       "      <td>0</td>\n",
       "      <td>0</td>\n",
       "      <td>1</td>\n",
       "      <td>1</td>\n",
       "    </tr>\n",
       "  </tbody>\n",
       "</table>\n",
       "</div>"
      ],
      "text/plain": [
       "       sex              race  age  juv_fel_count  juv_misd_count  \\\n",
       "1     Male  African-American   34              0               0   \n",
       "2     Male  African-American   24              0               0   \n",
       "6     Male         Caucasian   41              0               0   \n",
       "11    Male  African-American   23              0               0   \n",
       "14  Female         Caucasian   47              0               0   \n",
       "\n",
       "    juv_other_count  priors_count  two_year_recid  \n",
       "1                 0             0               1  \n",
       "2                 1             4               1  \n",
       "6                 0            14               1  \n",
       "11                0             3               1  \n",
       "14                0             1               1  "
      ]
     },
     "execution_count": 7,
     "metadata": {},
     "output_type": "execute_result"
    }
   ],
   "source": [
    "recommitted_values = preprocessed.two_year_recid.value_counts()\n",
    "target_category_size = recommitted_values.min()\n",
    "recommitted = preprocessed.query(f\"two_year_recid == 1\")[:target_category_size]\n",
    "no_recommitted = preprocessed.query(f\"two_year_recid == 0\")[:target_category_size]\n",
    "balanced = pd.concat([recommitted, no_recommitted], axis=0)\n",
    "balanced.head()"
   ]
  },
  {
   "cell_type": "code",
   "execution_count": 8,
   "metadata": {},
   "outputs": [],
   "source": [
    "from sklearn.preprocessing import OneHotEncoder\n",
    "\n",
    "sex = ['Female', 'Male']\n",
    "race = ['African-American', 'Caucasian', 'Hispanic', 'Asian', 'Native American', 'Other']\n",
    "\n",
    "def prep_features_and_targets(dataset):\n",
    "    y = dataset[\"two_year_recid\"]\n",
    "    enc = OneHotEncoder(categories=[sex, race], handle_unknown='ignore')\n",
    "    X_1 = dataset[[\"sex\", \"race\"]]\n",
    "    X_2 = dataset.loc[:, 'age':'priors_count']\n",
    "    enc.fit(X_1)\n",
    "    category_data = enc.transform(X_1).toarray()\n",
    "    X = np.concatenate([category_data, X_2.to_numpy()], axis=1)\n",
    "    return (X, y)"
   ]
  },
  {
   "cell_type": "markdown",
   "metadata": {},
   "source": [
    "> *Exercise 2:* Evaluating the quality of predictions. One of the simplest ways to get a glimpse into the performance of an classification model is to look at the [Confustion Matrix](https://towardsdatascience.com/understanding-confusion-matrix-a9ad42dcfd62).\n",
    ">\n",
    "> * Create a confusion matrix that evaluates the performance of your model. What do you observe?\n",
    "> * Now, create a confusion matrix for specific groups:\n",
    ">    * Take targets and predictions only for *Caucasians*,\n",
    ">    * Take targets and predictions only for *African-Americans*.\n",
    ">    * Create a confusion matrix for each group. What do you see when you compare the two confusion matrices? Explain in your own words how this might affect the overall fairness of your model.\n",
    "\n",
    "Again, after giving an answer to the questions above, **take a minute and discuss** your thoughts with your neighbour or one of your group members."
   ]
  },
  {
   "cell_type": "code",
   "execution_count": 9,
   "metadata": {},
   "outputs": [],
   "source": [
    "def compute_matrix(predictions, test_labels):\n",
    "    # only 1 & 1 = 1\n",
    "    true_positive = np.bitwise_and(predictions, test_labels).sum()\n",
    "    # only ~(0 | 0) = 1\n",
    "    true_negative = np.count_nonzero(np.bitwise_or(predictions, test_labels) == 0)\n",
    "\n",
    "    diff = (predictions - test_labels).value_counts()\n",
    "    # pred 0 - actual 1 is -1\n",
    "    false_negative = diff[-1] if -1 in diff.index else 0\n",
    "    \n",
    "    # pred 1 - actual 0 is 1\n",
    "    false_positive = diff[1] if 1 in diff.index else 0\n",
    "    return [[true_positive, false_positive], [true_negative, false_negative]]"
   ]
  },
  {
   "cell_type": "code",
   "execution_count": 10,
   "metadata": {},
   "outputs": [],
   "source": [
    "def performance_string(predictions, test_labels):\n",
    "    [true_positive, false_positive], [true_negative, false_negative] = compute_matrix(predictions, test_labels)\n",
    "    diff = (predictions - test_labels).value_counts()\n",
    "    accuracy = diff[0] / len(predictions)\n",
    "    precision = true_positive / (true_positive + false_positive)\n",
    "    recall = true_positive / (true_positive + false_negative)\n",
    "\n",
    "    return f\"\"\"Accuracy: {accuracy:.2}\\nPrecision: {precision:.2}\\nRecall: {recall:.2}\"\"\""
   ]
  },
  {
   "cell_type": "code",
   "execution_count": 11,
   "metadata": {},
   "outputs": [],
   "source": [
    "from sklearn.model_selection import train_test_split\n",
    "from sklearn.ensemble import RandomForestRegressor\n",
    "\n",
    "rf = RandomForestRegressor(n_estimators=100, random_state=42)\n",
    "def test_rf_regression(dataset):\n",
    "    X, y = prep_features_and_targets(dataset)\n",
    "    train_features, test_features, train_labels, test_labels = train_test_split(X, y, train_size=0.7, test_size=0.3, shuffle=True, random_state=42)\n",
    "    rf.fit(train_features, train_labels)\n",
    "    probs = rf.predict(test_features)\n",
    "    return (probs, test_labels)"
   ]
  },
  {
   "cell_type": "code",
   "execution_count": 12,
   "metadata": {},
   "outputs": [
    {
     "data": {
      "image/png": "[encoded data removed]",
      "text/plain": [
       "<Figure size 432x288 with 1 Axes>"
      ]
     },
     "metadata": {
      "needs_background": "light"
     },
     "output_type": "display_data"
    },
    {
     "name": "stdout",
     "output_type": "stream",
     "text": [
      "Accuracy: 0.63\n",
      "Precision: 0.65\n",
      "Recall: 0.61\n"
     ]
    }
   ],
   "source": [
    "probs, test_labels = test_rf_regression(balanced)\n",
    "predictions = np.array(np.round(probs), dtype=np.int64)\n",
    "\n",
    "fig, ax = plt.subplots()\n",
    "ax.axis('off')\n",
    "tableDataAll = compute_matrix(predictions, test_labels)\n",
    "pred_labels = [\"Predicted Positive\", \"Predicted Negative\"]\n",
    "ac_labels = [\"Actual Positive\", \"Actual Negative\"]\n",
    "table = ax.table(cellText=tableDataAll, rowLabels=pred_labels, colLabels=ac_labels, loc=\"center\")\n",
    "table.scale(1, 5)\n",
    "\n",
    "plt.show()\n",
    "print(performance_string(predictions, test_labels))"
   ]
  },
  {
   "cell_type": "code",
   "execution_count": 13,
   "metadata": {},
   "outputs": [
    {
     "data": {
      "image/png": "[encoded data removed]",
      "text/plain": [
       "<Figure size 864x288 with 2 Axes>"
      ]
     },
     "metadata": {
      "needs_background": "light"
     },
     "output_type": "display_data"
    },
    {
     "name": "stdout",
     "output_type": "stream",
     "text": [
      "Caucasians:\n",
      "Accuracy: 0.6\n",
      "Precision: 0.55\n",
      "Recall: 0.48\n",
      "\n",
      "African-Americans:\n",
      "Accuracy: 0.62\n",
      "Precision: 0.67\n",
      "Recall: 0.67\n"
     ]
    }
   ],
   "source": [
    "pCA = balanced.loc[balanced.race == \"Caucasian\"]\n",
    "pAA = balanced.loc[balanced.race == \"African-American\"]\n",
    "\n",
    "probsCA, test_labelsCA = test_rf_regression(pCA)\n",
    "predictionsCA = np.array(np.round(probsCA), dtype=np.int64)\n",
    "tableDataCA = compute_matrix(predictionsCA, test_labelsCA)\n",
    "\n",
    "probsAA, test_labelsAA = test_rf_regression(pAA)\n",
    "predictionsAA = np.array(np.round(probsAA), dtype=np.int64)\n",
    "tableDataAA = compute_matrix(predictionsAA, test_labelsAA)\n",
    "\n",
    "fig, axs = plt.subplots(1, 2, figsize=(12, 4), constrained_layout=True)\n",
    "axs[0].set_title(\"Caucasians\")\n",
    "axs[1].set_title(\"African-Americans\")\n",
    "axs[0].axis('off')\n",
    "axs[1].axis('off')\n",
    "\n",
    "tableCA = axs[0].table(cellText=tableDataCA, rowLabels=pred_labels, colLabels=ac_labels, loc=\"center\")\n",
    "tableAA = axs[1].table(cellText=tableDataAA, rowLabels=pred_labels, colLabels=ac_labels, loc=\"center\")\n",
    "tableAA.scale(1, 4)\n",
    "tableCA.scale(1, 4)\n",
    "plt.show()\n",
    "\n",
    "print(\"Caucasians:\")\n",
    "print(performance_string(predictionsCA, test_labelsCA))\n",
    "print()\n",
    "print(\"African-Americans:\")\n",
    "print(performance_string(predictionsAA, test_labelsAA))"
   ]
  },
  {
   "cell_type": "markdown",
   "metadata": {},
   "source": [
    "There are considerably more records with data from African-Americans than from Caucasians. We can see from the confusion matrix that a record from Caucasians also has a lower chance of being a recommitted crime.\n",
    "The recall value is also lower for Caucasians than it is for African-Americans. \n",
    "\n",
    "$Recall = \\frac{True Positive}{True Positive + False Negative}$\n",
    "\n",
    "This shows that most of the predictions concerning Caucasians were false negatives. "
   ]
  },
  {
   "cell_type": "markdown",
   "metadata": {},
   "source": [
    "<details>\n",
    "    <summary> Exercise 2 interpretation hint <b>(Only open after you have completed the exercise above)</b></summary>\n",
    "    <ul>\n",
    "        <li>It seems that our model has higher number of <b>False-Positives</b> or <b>False-Negatives</b> for different groups of people. Go back to Exercise 2 if you did not spot this difference and think at the related implication. </li>\n",
    "      <li>Several researchers also noticed this issue. The following essay by Ellora Thadaney Israni describes the potential issues with the algorithm and data: <a href = https://www.nytimes.com/2017/10/26/opinion/algorithm-compas-sentencing-bias.html> When an Algorithm Helps Send You to Prison </a> (If you don't have access to it you can find the article on DTU Learn -> Course Content -> Content -> Lecture 7 reading)</li>\n",
    "    </ul>\n",
    "</details>"
   ]
  },
  {
   "cell_type": "markdown",
   "metadata": {},
   "source": [
    "## Part 3: Fairness and bias in Machine Learning"
   ]
  },
  {
   "cell_type": "markdown",
   "metadata": {},
   "source": [
    "Before we try to fix our model, let's understand bias better and get some intuition about it. In the video below I summarize different types of bias. \n",
    "\n",
    "[![IMAGE ALT TEXT HERE](https://img.youtube.com/vi/tcz800ZXclA/0.jpg)](https://www.youtube.com/watch?v=tcz800ZXclA)"
   ]
  },
  {
   "cell_type": "markdown",
   "metadata": {},
   "source": [
    ">*Exercise 3.1:* Have you watched the video? A few questions to make sure you did.\n",
    "> * What does **data bias** mean?\n",
    "> * What are the most common types of data bias? \n",
    "> * Choose two types of data bias and explain them by also providing some examples.\n",
    "> * How can data bias be identified? \n",
    "> * At what step of the process can we correct for bias?\n",
    "> * What do you think are the potential bias sources in our case-study (i.e. recidivism)?"
   ]
  },
  {
   "cell_type": "markdown",
   "metadata": {},
   "source": [
    "<mark>What does data bias mean?</mark>\n",
    ">Data bias is data that is not representative of the population or phenomenon to study: for example it is missing variables or has noise/bias introduced by humans.\n",
    "\n",
    "<mark>What are the most common types of data bias?</mark><br>\n",
    ">- Response / Activity Bias\n",
    ">- Selection bias due to feedback loops\n",
    ">- Bias due to system drift\n",
    ">- Omitted variable bias\n",
    ">- Societal bias\n",
    "\n",
    "<mark>Choose two types of data bias and explain them by also providing some examples.</mark>\n",
    ">**Response bias**: our data comes from few data sources and doesn't represent the whole population.\n",
    ">Example: Reviews and social media posts are not representative of all users, as most are posted by a small group.\n",
    "\n",
    ">**Societal bias**: our data is made by humans and inherently contains bias. This way, the predictions will also be biased.\n",
    ">Example: The Amazon employee evaluation model discriminated against women because of its training data: the model reinforced the idea that only men should work in leading/technical roles.\n",
    "\n",
    "<mark>How can data bias be identified?</mark>\n",
    "> We need to understand how the data was generated and we also need to perform a comprehensive exploratory data analysis before training a model. This process can reveal anomalies and bias present in the data.\n",
    "\n",
    "<mark>At what step of the process can we correct for bias?</mark><br>\n",
    ">We can correct at 3 different steps for bias:\n",
    ">- pre-processing: by using different input data\n",
    ">- in-processing: by correcting the prediction algorithm\n",
    ">- post-processing: by correcting the predictions\n",
    "\n",
    "<mark>What do you think are the potential bias sources in our case-study (i.e. recidivism)?</mark>\n",
    "> Our data may reflect the discrimination against African-Americans in the criminal justice system. This is an example of societal bias.\n",
    ">\n",
    "> The dataset is also not representative of all demographic groups (low number of records asociated with Asians and Native-Americans). This is a case of activity bias."
   ]
  },
  {
   "cell_type": "markdown",
   "metadata": {},
   "source": [
    "Alright, now we know a bit more about bias... but how do we correct it in practice? There are many ways, and you are going to test a couple of methods to correct the predictions on recidivism to enhance the fairness of your model.\n",
    "\n",
    "Germans and I had a nice chat about it and recorded a video to introduce you with two methods: *Demographic Pairity* and *Equal Odds*!\n",
    "\n",
    "[![IMAGE ALT TEXT HERE](https://img.youtube.com/vi/DHz1xDKT4xw/0.jpg)](https://www.youtube.com/watch?v=DHz1xDKT4xw)"
   ]
  },
  {
   "cell_type": "markdown",
   "metadata": {},
   "source": [
    "In the following exercises we are going to focus only on the *African-American* and *Caucasian* groups as they have more data samples in our data (however, you can repeat the steps for other demographics too!)."
   ]
  },
  {
   "cell_type": "markdown",
   "metadata": {},
   "source": [
    "> *Exercise 3.2:* Demographic Parity. In this exercise, we are going to implement the function for Demographic Parity and apply it to the results of your ML model (i.e. on the predictions of the Test set).\n",
    ">\n",
    "> * Compute the probability of predicting recidivism ($\\hat{y}=1$) for the two populations, i.e. $P_{AA}$ for African-American and $P_{CA}$ for Caucasian. What do you observe?\n",
    "> * To debias the output you need to:\n",
    ">    * Compute the threshold as $th = 1 - \\frac{P_{CA}}{P_{AA}}$;\n",
    ">    * randomly flip positive prediction to negative (1s to 0s), i.e. pick a random number $n\\in\\left[0,1\\right)$ from a uniform distribution and flip a positive prediction if $n < th$.\n",
    "> * Recompute the probabilities $P_{CA}$ and $P_{AA}$ (only now they are corrected). What do you observe?\n",
    "> * Plot the confusion matrices with the corrected values. What do you observe?\n",
    "> * Explain what could be the issue with this method. We have discussed it in the video 😉"
   ]
  },
  {
   "cell_type": "code",
   "execution_count": 14,
   "metadata": {},
   "outputs": [
    {
     "name": "stdout",
     "output_type": "stream",
     "text": [
      "Predicted recommit rate:\n",
      "Caucasians: 0.38\n",
      "African-Americans: 0.58\n"
     ]
    }
   ],
   "source": [
    "pred_rec_rate_CA = np.count_nonzero(predictionsCA == 1) / len(predictionsCA)\n",
    "pred_rec_rate_AA = np.count_nonzero(predictionsAA == 1) / len(predictionsAA)\n",
    "\n",
    "print(f\"Predicted recommit rate:\\nCaucasians: {pred_rec_rate_CA:.2}\\nAfrican-Americans: {pred_rec_rate_AA:.2}\")"
   ]
  },
  {
   "cell_type": "markdown",
   "metadata": {},
   "source": [
    "The model will predict that a Caucasian person is 21% less likely to recommit a crime than an African-American person. In reality these probabilities are closer to each other:"
   ]
  },
  {
   "cell_type": "code",
   "execution_count": 15,
   "metadata": {},
   "outputs": [
    {
     "name": "stdout",
     "output_type": "stream",
     "text": [
      "Actual recommit rate:\n",
      "Caucasians: 0.44\n",
      "African-Americans: 0.57\n"
     ]
    }
   ],
   "source": [
    "act_rec_rate_CA = np.count_nonzero(test_labelsCA == 1) / len(test_labelsCA)\n",
    "act_rec_rate_AA = np.count_nonzero(test_labelsAA == 1) / len(test_labelsAA)\n",
    "print(f\"Actual recommit rate:\\nCaucasians: {act_rec_rate_CA:.2}\\nAfrican-Americans: {act_rec_rate_AA:.2}\")"
   ]
  },
  {
   "cell_type": "markdown",
   "metadata": {},
   "source": [
    "This shows that our model is biased and has a different margin of error for different races."
   ]
  },
  {
   "cell_type": "code",
   "execution_count": 16,
   "metadata": {},
   "outputs": [],
   "source": [
    "def debias_by_element(pred, n, threshold):\n",
    "    if round(pred) == 1 and n < threshold:\n",
    "        return 1 - pred\n",
    "    return pred\n",
    "\n",
    "debias = np.vectorize(debias_by_element)"
   ]
  },
  {
   "cell_type": "code",
   "execution_count": 17,
   "metadata": {},
   "outputs": [
    {
     "name": "stdout",
     "output_type": "stream",
     "text": [
      "Predicted recommit rate:\n",
      "Caucasians: 0.38\n",
      "African-Americans: 0.39\n",
      "\n",
      "Actual recommit rate:\n",
      "Caucasians: 0.44\n",
      "African-Americans: 0.57\n"
     ]
    }
   ],
   "source": [
    "pCA = balanced.loc[balanced.race == \"Caucasian\"]\n",
    "pAA = balanced.loc[balanced.race == \"African-American\"]\n",
    "\n",
    "th = 1 - pred_rec_rate_CA / pred_rec_rate_AA\n",
    "\n",
    "probsAA, test_labelsAA = test_rf_regression(pAA)\n",
    "nAA = np.random.rand(len(probsAA))\n",
    "debiasedAA = debias(probsAA, nAA, th)\n",
    "debiased_pred_AA = np.array(np.round(debiasedAA), dtype=np.int64)\n",
    "debiasedTableAA = compute_matrix(debiased_pred_AA, test_labelsAA)\n",
    "\n",
    "debiased_rec_rate_AA = np.count_nonzero(debiased_pred_AA == 1) / len(debiased_pred_AA)\n",
    "\n",
    "print(f\"Predicted recommit rate:\\nCaucasians: {pred_rec_rate_CA:.2}\\nAfrican-Americans: {debiased_rec_rate_AA:.2}\\n\")\n",
    "print(f\"Actual recommit rate:\\nCaucasians: {act_rec_rate_CA:.2}\\nAfrican-Americans: {act_rec_rate_AA:.2}\")"
   ]
  },
  {
   "cell_type": "markdown",
   "metadata": {},
   "source": [
    "<mark>What do you observe?</mark>\n",
    ">The predicted recommit rate for the Caucasian group stayed the same, while the recommit rate for the African-American community dropped drastically. Like this the predicted recommit rates are almost the same, which means we removed the bias."
   ]
  },
  {
   "cell_type": "code",
   "execution_count": 18,
   "metadata": {},
   "outputs": [
    {
     "data": {
      "image/png": "[encoded data removed]",
      "text/plain": [
       "<Figure size 864x288 with 2 Axes>"
      ]
     },
     "metadata": {
      "needs_background": "light"
     },
     "output_type": "display_data"
    },
    {
     "name": "stdout",
     "output_type": "stream",
     "text": [
      "Original model\n",
      "\n",
      "Caucasians:\n",
      "Accuracy: 0.6\n",
      "Precision: 0.55\n",
      "Recall: 0.48\n",
      "\n",
      "African-Americans:\n",
      "Accuracy: 0.62\n",
      "Precision: 0.67\n",
      "Recall: 0.67\n",
      "\n",
      "Debiased model\n",
      "\n",
      "Caucasians:\n",
      "Accuracy: 0.6\n",
      "Precision: 0.55\n",
      "Recall: 0.48\n",
      "\n",
      "African-Americans:\n",
      "Accuracy: 0.54\n",
      "Precision: 0.64\n",
      "Recall: 0.44\n"
     ]
    }
   ],
   "source": [
    "fig, axs = plt.subplots(1, 2, figsize=(12, 4), constrained_layout=True)\n",
    "axs[0].set_title(\"Caucasians\")\n",
    "axs[1].set_title(\"African-Americans\")\n",
    "axs[0].axis('off')\n",
    "axs[1].axis('off')\n",
    "\n",
    "tableCA = axs[0].table(cellText=tableDataCA, rowLabels=pred_labels, colLabels=ac_labels, loc=\"center\")\n",
    "tableAA = axs[1].table(cellText=debiasedTableAA, rowLabels=pred_labels, colLabels=ac_labels, loc=\"center\")\n",
    "tableAA.scale(1, 4)\n",
    "tableCA.scale(1, 4)\n",
    "plt.show()\n",
    "\n",
    "print(f\"Original model\\n\\nCaucasians:\\n{performance_string(predictionsCA, test_labelsCA)}\\n\\nAfrican-Americans:\\n{performance_string(predictionsAA, test_labelsAA)}\\n\")\n",
    "print(f\"Debiased model\\n\\nCaucasians:\\n{performance_string(predictionsCA, test_labelsCA)}\\n\\nAfrican-Americans:\\n{performance_string(debiased_pred_AA, test_labelsAA)}\")"
   ]
  },
  {
   "cell_type": "markdown",
   "metadata": {},
   "source": [
    "<mark>What do you observe?</mark>\n",
    ">The confusion matrix and the model's performance for the Caucasian group stayed the same. The performance for the African-American group however deteriorated: the accuracy and the recall dropped significantly."
   ]
  },
  {
   "cell_type": "markdown",
   "metadata": {},
   "source": [
    "<mark>Explain what could be the issue with this method.</mark>\n",
    ">With the above method, while we remove the bias, we endanger the accuracy of our model. This is a huge problem, as wrong predicitions can have dangerous consequences, especially in the case of criminal recidivism: for example sending someone to jail wrongfully, or overlooking criminal activity."
   ]
  },
  {
   "cell_type": "markdown",
   "metadata": {},
   "source": [
    "You are almost there! In the following you will use the Equal Odds method to correct your predictions. It seems long, but don't worry it is because I added a bit more code, steps, hints for this one."
   ]
  },
  {
   "cell_type": "markdown",
   "metadata": {},
   "source": [
    "> *Exercise 3.3:* Equal Odds. As in the exercise above we are going to use the results of you ML model on the test set.\n",
    "> * This method takes into account the predictions of your model $\\hat{y}$ for different thresholds $th$:\n",
    ">    * Get the probabilities out of your model by using `y_prob = model.predict_proba(X_test)` (here, `model` is your model).\n",
    ">    * Define the thresholds as `ths = np.linspace(1e-5,1-1e-5, 10)` (you can edit this one to have different thresholds). Now, you can find $\\hat{y}$ as:\n",
    ">\n",
    ">\n",
    ">$$\\begin{cases}\\hat{y}=1, \\mbox{ if } y_{prob} > th \\\\ \\hat{y}=0, \\mbox{ otherwhise}\\end{cases}$$\n",
    ">\n",
    ">\n",
    "> * Implement a function that takes as an input $y$ (i.e the target labels), $\\hat{y}$, and `ths` and returns the true-positive rate $TPR$ and the false-positive rate $FPR$ (definitions in the video above).\n",
    "> * Now, you need to find the thresholds that lead to the closest points for the two groups on the [ROC curve](https://en.wikipedia.org/wiki/Receiver_operating_characteristic). The first way is by using the functions below in your code to find the thresholds that lead to the smaller distance (**but suitable FPR and TPR**):\n",
    "> ```python\n",
    "    #This function takes as an input y, y_probs, thr \n",
    "    #and returns the points to plot the ROC curve and their threshold\n",
    "    def roc_curve(y, y_probs, ths):\n",
    "        #initialize roc as an empty np.array\n",
    "        roc = np.array([])\n",
    "        #loop over thresholds\n",
    "        for th in ths:\n",
    "          #convert y_prob in y_hat\n",
    "          y_hat = ADD_YOUR_FUNCTION_HERE(y_prob,th)\n",
    "          #compute TPR and FPR\n",
    "          TPR, FPR = ADD_YOUR_FUNCTION_HERE(y, y_hat)\n",
    "          #add threshold and point to roc array\n",
    "          roc = np.append(roc, [th, FPR, TPR])\n",
    "       #return roc\n",
    "       return roc.reshape(-1, 3)\n",
    "> ```\n",
    "> ```python\n",
    "    #This function takes as an input the points from one roc (first group) and the other (second group) and order the points by their distance in ascending order \n",
    "    def closest_points(points1, points2):\n",
    "        #initialize result\n",
    "        res = list()\n",
    "        #loop over points in group 1\n",
    "        for pi in points1:\n",
    "          #loop over points in group 2\n",
    "          for pj in points2:\n",
    "            #add points and their distance to res\n",
    "            res.append(((pi, pj), np.linalg.norm(pi[1:] - pj[1:])))\n",
    "        #return sorted result\n",
    "        return sorted(res, key = lambda x: x[1])\n",
    "> ```\n",
    "> * The second way is by visualizing the ROC curves. Let's do it with Bokeh:\n",
    ">     * Get the two ROC curves with the function `roc_curve` above and call them `roc_aa` (for African-Americans) and `roc_ca` (for Caucasian).\n",
    ">     * Create a `DataFrame` called `df_roc` with columns `FPR_AA`, `TPR_AA`, `FPR_CA`, `TPR_CA`, with the FPR and TPR values for both groups. Convert the dataframe into a Bokeh `ColumnDataSource`.\n",
    ">     * Create an empty bokeh figure and add labels and title (we will have FPR on the x-axis and TPR on the y-axis)\n",
    ">     * Add two `p.line()` by passing the values from your dataframe for one group and then the other. You should now see the plot with both lines. Use colors and other parameters to customize it as you like\n",
    ">     * Finally, we need to add one last thing: interactive points that will show the thresholds. The easiest way I found to do this was to create a second `DataFrame` with columns `x`, `y`, `th` where x is the combined list of `FPR_AA` and `FPR_CA`, y is the combined list of `TPR_AA` and `TPR_CA`, and th is the threshold list repeated twice. Convert this dataframe into a Bokeh `ColumnDataSource` as usual and add the points to the plot with \n",
    "> ```python\n",
    "> cr = p.circle('x','y',source=..., fill_color=..., hover_fill_color=...) \n",
    "> ````\n",
    "> you can make them interactive by adding the following line of code:\n",
    "> ```python \n",
    ">    p.add_tools(HoverTool(tooltips=[('Threshold', '@th')], renderers=[cr]))\n",
    "> ```\n",
    "> * Use the two methods above to find a threshold for each group. What threshold did you find?\n",
    "> * Debias the output by computing $\\hat{y}$ for the two groups with the thresholds you found. Now plot the confusion matrices for African-Americans and Caucasian again. What do you observe? \n",
    "> * We ended the video by saying that there might be still a problem with the methods we have used to de-bias data. What do you think the problem is? **Hint**: it is related to the [following article](https://en.wikipedia.org/wiki/Protected_group). Skim through it to get an idea!"
   ]
  },
  {
   "cell_type": "code",
   "execution_count": 19,
   "metadata": {},
   "outputs": [],
   "source": [
    "def predict_using_th_elementwise(probability, th):\n",
    "    if probability > th:\n",
    "        return 1\n",
    "    return 0\n",
    "predict_using_th = np.vectorize(predict_using_th_elementwise)"
   ]
  },
  {
   "cell_type": "code",
   "execution_count": 20,
   "metadata": {},
   "outputs": [],
   "source": [
    "def compute_rates(test_labels, probs):\n",
    "    [true_positive, false_positive], [true_negative, false_negative] = compute_matrix(probs, test_labels)\n",
    "    true_positive_rate = true_positive / (true_positive + false_negative)\n",
    "    false_positive_rate = false_positive / (false_positive + true_negative)\n",
    "    return (true_positive_rate, false_positive_rate)"
   ]
  },
  {
   "cell_type": "code",
   "execution_count": 21,
   "metadata": {},
   "outputs": [],
   "source": [
    "#This function takes as an input y, y_probs, thr \n",
    "#and returns the points to plot the ROC curve and their threshold\n",
    "def roc_curve(y, y_probs, ths):\n",
    "    #initialize roc as an empty np.array\n",
    "    roc = np.array([])\n",
    "    #loop over thresholds\n",
    "    for th in ths:\n",
    "        #convert y_prob in y_hat\n",
    "        y_hat = predict_using_th(y_probs, th)\n",
    "        #compute TPR and FPR\n",
    "        TPR, FPR = compute_rates(y, y_hat)\n",
    "        #add threshold and point to roc array\n",
    "        roc = np.append(roc, [th, FPR, TPR])\n",
    "    #return roc\n",
    "    return roc.reshape(-1, 3)"
   ]
  },
  {
   "cell_type": "code",
   "execution_count": 22,
   "metadata": {},
   "outputs": [],
   "source": [
    "#This function takes as an input the points from one roc (first group) and the other (second group) and order the points by their distance in ascending order \n",
    "def closest_points(points1, points2):\n",
    "    #initialize result\n",
    "    res = list()\n",
    "    #loop over points in group 1\n",
    "    for pi in points1:\n",
    "        #loop over points in group 2\n",
    "        for pj in points2:\n",
    "            #add points and their distance to res\n",
    "            res.append(((pi, pj), np.linalg.norm(pi[1:] - pj[1:])))\n",
    "    #return sorted result\n",
    "    return sorted(res, key = lambda x: x[1])"
   ]
  },
  {
   "cell_type": "code",
   "execution_count": 23,
   "metadata": {},
   "outputs": [
    {
     "name": "stdout",
     "output_type": "stream",
     "text": [
      "Chosen treshold from the first way: 1e-05\n"
     ]
    }
   ],
   "source": [
    "ths = np.linspace(1e-5,1-1e-5, 10)\n",
    "y_probCA, test_labelsCA = test_rf_regression(pCA)\n",
    "roc_ca = roc_curve(test_labelsCA, y_probCA, ths)\n",
    "\n",
    "y_probAA, test_labelsAA = test_rf_regression(pAA)\n",
    "roc_aa = roc_curve(test_labelsAA, y_probAA, ths)\n",
    "\n",
    "point_pairs, distances = zip(*closest_points(roc_ca, roc_aa))\n",
    "points_CA, points_AA = zip(*point_pairs)\n",
    "sorted_tresholds, _, _ = zip(*points_CA)\n",
    "sorted_tresholds\n",
    "chosen_treshold = sorted_tresholds[0]\n",
    "print(f\"Chosen treshold from the first way: {chosen_treshold}\")"
   ]
  },
  {
   "cell_type": "code",
   "execution_count": 24,
   "metadata": {},
   "outputs": [
    {
     "data": {
      "text/html": [
       "<div>\n",
       "<style scoped>\n",
       "    .dataframe tbody tr th:only-of-type {\n",
       "        vertical-align: middle;\n",
       "    }\n",
       "\n",
       "    .dataframe tbody tr th {\n",
       "        vertical-align: top;\n",
       "    }\n",
       "\n",
       "    .dataframe thead th {\n",
       "        text-align: right;\n",
       "    }\n",
       "</style>\n",
       "<table border=\"1\" class=\"dataframe\">\n",
       "  <thead>\n",
       "    <tr style=\"text-align: right;\">\n",
       "      <th></th>\n",
       "      <th>FPR_AA</th>\n",
       "      <th>TPR_AA</th>\n",
       "      <th>FPR_CA</th>\n",
       "      <th>TPR_CA</th>\n",
       "    </tr>\n",
       "  </thead>\n",
       "  <tbody>\n",
       "    <tr>\n",
       "      <th>0</th>\n",
       "      <td>0.983957</td>\n",
       "      <td>0.996032</td>\n",
       "      <td>0.965517</td>\n",
       "      <td>0.983806</td>\n",
       "    </tr>\n",
       "    <tr>\n",
       "      <th>1</th>\n",
       "      <td>0.852941</td>\n",
       "      <td>0.944444</td>\n",
       "      <td>0.852665</td>\n",
       "      <td>0.919028</td>\n",
       "    </tr>\n",
       "    <tr>\n",
       "      <th>2</th>\n",
       "      <td>0.772727</td>\n",
       "      <td>0.896825</td>\n",
       "      <td>0.667712</td>\n",
       "      <td>0.785425</td>\n",
       "    </tr>\n",
       "    <tr>\n",
       "      <th>3</th>\n",
       "      <td>0.628342</td>\n",
       "      <td>0.813492</td>\n",
       "      <td>0.570533</td>\n",
       "      <td>0.676113</td>\n",
       "    </tr>\n",
       "    <tr>\n",
       "      <th>4</th>\n",
       "      <td>0.505348</td>\n",
       "      <td>0.718254</td>\n",
       "      <td>0.401254</td>\n",
       "      <td>0.538462</td>\n",
       "    </tr>\n",
       "  </tbody>\n",
       "</table>\n",
       "</div>"
      ],
      "text/plain": [
       "     FPR_AA    TPR_AA    FPR_CA    TPR_CA\n",
       "0  0.983957  0.996032  0.965517  0.983806\n",
       "1  0.852941  0.944444  0.852665  0.919028\n",
       "2  0.772727  0.896825  0.667712  0.785425\n",
       "3  0.628342  0.813492  0.570533  0.676113\n",
       "4  0.505348  0.718254  0.401254  0.538462"
      ]
     },
     "execution_count": 24,
     "metadata": {},
     "output_type": "execute_result"
    }
   ],
   "source": [
    "column_list = [\"FPR_AA\", \"TPR_AA\", \"FPR_CA\", \"TPR_CA\"]\n",
    "rates_data = np.concatenate((roc_aa[:, 1:], roc_ca[:, 1:]), axis=1)\n",
    "df_roc = pd.DataFrame(rates_data, columns=column_list)\n",
    "df_roc.head()"
   ]
  },
  {
   "cell_type": "code",
   "execution_count": 25,
   "metadata": {},
   "outputs": [
    {
     "data": {
      "text/html": [
       "\n",
       "\n",
       "\n",
       "\n",
       "\n",
       "\n",
       "  <div class=\"bk-root\" id=\"a5a196a0-f8f9-4379-9446-09660c951b51\" data-root-id=\"1253\"></div>\n"
      ]
     },
     "metadata": {},
     "output_type": "display_data"
    },
    {
     "data": {
      "application/javascript": [
       "(function(root) {\n",
       "  function embed_document(root) {\n",
       "    \n",
       "  const docs_json = {\"dffa366f-cf8b-47a0-9130-67de30b15329\":{\"defs\":[],\"roots\":{\"references\":[{\"attributes\":{\"below\":[{\"id\":\"1264\"}],\"center\":[{\"id\":\"1267\"},{\"id\":\"1271\"}],\"left\":[{\"id\":\"1268\"}],\"renderers\":[{\"id\":\"1290\"},{\"id\":\"1296\"}],\"right\":[{\"id\":\"1298\"}],\"title\":{\"id\":\"1254\"},\"toolbar\":{\"id\":\"1279\"},\"x_range\":{\"id\":\"1256\"},\"x_scale\":{\"id\":\"1260\"},\"y_range\":{\"id\":\"1258\"},\"y_scale\":{\"id\":\"1262\"}},\"id\":\"1253\",\"subtype\":\"Figure\",\"type\":\"Plot\"},{\"attributes\":{\"line_color\":\"red\",\"x\":{\"field\":\"FPR_CA\"},\"y\":{\"field\":\"TPR_CA\"}},\"id\":\"1293\",\"type\":\"Line\"},{\"attributes\":{\"axis_label\":\"TPR\",\"coordinates\":null,\"formatter\":{\"id\":\"1323\"},\"group\":null,\"major_label_policy\":{\"id\":\"1324\"},\"ticker\":{\"id\":\"1269\"}},\"id\":\"1268\",\"type\":\"LinearAxis\"},{\"attributes\":{},\"id\":\"1275\",\"type\":\"SaveTool\"},{\"attributes\":{},\"id\":\"1276\",\"type\":\"ResetTool\"},{\"attributes\":{\"line_alpha\":0.2,\"line_color\":\"red\",\"x\":{\"field\":\"FPR_CA\"},\"y\":{\"field\":\"TPR_CA\"}},\"id\":\"1295\",\"type\":\"Line\"},{\"attributes\":{\"overlay\":{\"id\":\"1278\"}},\"id\":\"1274\",\"type\":\"BoxZoomTool\"},{\"attributes\":{},\"id\":\"1277\",\"type\":\"HelpTool\"},{\"attributes\":{\"tools\":[{\"id\":\"1272\"},{\"id\":\"1273\"},{\"id\":\"1274\"},{\"id\":\"1275\"},{\"id\":\"1276\"},{\"id\":\"1277\"}]},\"id\":\"1279\",\"type\":\"Toolbar\"},{\"attributes\":{},\"id\":\"1327\",\"type\":\"AllLabels\"},{\"attributes\":{},\"id\":\"1273\",\"type\":\"WheelZoomTool\"},{\"attributes\":{},\"id\":\"1329\",\"type\":\"Selection\"},{\"attributes\":{\"bottom_units\":\"screen\",\"coordinates\":null,\"fill_alpha\":0.5,\"fill_color\":\"lightgrey\",\"group\":null,\"left_units\":\"screen\",\"level\":\"overlay\",\"line_alpha\":1.0,\"line_color\":\"black\",\"line_dash\":[4,4],\"line_width\":2,\"right_units\":\"screen\",\"syncable\":false,\"top_units\":\"screen\"},\"id\":\"1278\",\"type\":\"BoxAnnotation\"},{\"attributes\":{\"data\":{\"FPR_AA\":{\"__ndarray__\":\"fR+r2ZN87z9LS0tLS0vrP7rooosuuug/GwSnMmEb5D8soHG3zivgPxp367wCGtc/q9mTfB+ryT/T0tLS0tLCPyoTtkFwKrM/5xXQuFvnhT8=\",\"dtype\":\"float64\",\"order\":\"little\",\"shape\":[10]},\"FPR_CA\":{\"__ndarray__\":\"R1juaYTl7j/oYfo4B0nrPwbH+LbkXeU/+3mYPs5B4j/aEFXqJK7ZP4gqdRLXDNA/2hBV6iSuyT+KrJf9PEy/P4gqdRLXDLA/AAAAAAAAAAA=\",\"dtype\":\"float64\",\"order\":\"little\",\"shape\":[10]},\"TPR_AA\":{\"__ndarray__\":\"+H3f933f7z+O4ziO4zjuPy3LsizLsuw/giAIgiAI6j+/7/u+7/vmP/D7vu/7vuM/r+u6ruu63j8hCIIgCILYPymKoiiKotA/13Vd13Vdpz8=\",\"dtype\":\"float64\",\"order\":\"little\",\"shape\":[10]},\"TPR_CA\":{\"__ndarray__\":\"tfc3BlZ77z+L1hcfrmjtPyOSZdIzIuk/LFpffLii5T+xEzuxEzvhP0mWSc+IZNk/GVjt/Y2B1T/I+amEgJzPP15DeQ3lNcQ/VAkBOT+VcD8=\",\"dtype\":\"float64\",\"order\":\"little\",\"shape\":[10]},\"index\":[0,1,2,3,4,5,6,7,8,9]},\"selected\":{\"id\":\"1329\"},\"selection_policy\":{\"id\":\"1328\"}},\"id\":\"1252\",\"type\":\"ColumnDataSource\"},{\"attributes\":{\"line_alpha\":0.2,\"line_color\":\"blue\",\"x\":{\"field\":\"FPR_AA\"},\"y\":{\"field\":\"TPR_AA\"}},\"id\":\"1289\",\"type\":\"Line\"},{\"attributes\":{},\"id\":\"1256\",\"type\":\"DataRange1d\"},{\"attributes\":{},\"id\":\"1272\",\"type\":\"PanTool\"},{\"attributes\":{\"source\":{\"id\":\"1252\"}},\"id\":\"1291\",\"type\":\"CDSView\"},{\"attributes\":{\"source\":{\"id\":\"1252\"}},\"id\":\"1297\",\"type\":\"CDSView\"},{\"attributes\":{\"coordinates\":null,\"data_source\":{\"id\":\"1252\"},\"glyph\":{\"id\":\"1293\"},\"group\":null,\"hover_glyph\":null,\"muted_glyph\":{\"id\":\"1295\"},\"nonselection_glyph\":{\"id\":\"1294\"},\"view\":{\"id\":\"1297\"}},\"id\":\"1296\",\"type\":\"GlyphRenderer\"},{\"attributes\":{\"label\":{\"value\":\"Caucasians\"},\"renderers\":[{\"id\":\"1296\"}]},\"id\":\"1300\",\"type\":\"LegendItem\"},{\"attributes\":{\"coordinates\":null,\"data_source\":{\"id\":\"1252\"},\"glyph\":{\"id\":\"1287\"},\"group\":null,\"hover_glyph\":null,\"muted_glyph\":{\"id\":\"1289\"},\"nonselection_glyph\":{\"id\":\"1288\"},\"view\":{\"id\":\"1291\"}},\"id\":\"1290\",\"type\":\"GlyphRenderer\"},{\"attributes\":{\"coordinates\":null,\"group\":null,\"text\":\"True positive and false positive rates for different thresholds\"},\"id\":\"1254\",\"type\":\"Title\"},{\"attributes\":{\"line_color\":\"blue\",\"x\":{\"field\":\"FPR_AA\"},\"y\":{\"field\":\"TPR_AA\"}},\"id\":\"1287\",\"type\":\"Line\"},{\"attributes\":{},\"id\":\"1326\",\"type\":\"BasicTickFormatter\"},{\"attributes\":{},\"id\":\"1324\",\"type\":\"AllLabels\"},{\"attributes\":{\"axis\":{\"id\":\"1264\"},\"coordinates\":null,\"group\":null,\"ticker\":null},\"id\":\"1267\",\"type\":\"Grid\"},{\"attributes\":{\"line_alpha\":0.1,\"line_color\":\"blue\",\"x\":{\"field\":\"FPR_AA\"},\"y\":{\"field\":\"TPR_AA\"}},\"id\":\"1288\",\"type\":\"Line\"},{\"attributes\":{},\"id\":\"1328\",\"type\":\"UnionRenderers\"},{\"attributes\":{\"axis_label\":\"FPR\",\"coordinates\":null,\"formatter\":{\"id\":\"1326\"},\"group\":null,\"major_label_policy\":{\"id\":\"1327\"},\"ticker\":{\"id\":\"1265\"}},\"id\":\"1264\",\"type\":\"LinearAxis\"},{\"attributes\":{},\"id\":\"1258\",\"type\":\"DataRange1d\"},{\"attributes\":{\"label\":{\"value\":\"African-Americans\"},\"renderers\":[{\"id\":\"1290\"}]},\"id\":\"1299\",\"type\":\"LegendItem\"},{\"attributes\":{\"axis\":{\"id\":\"1268\"},\"coordinates\":null,\"dimension\":1,\"group\":null,\"ticker\":null},\"id\":\"1271\",\"type\":\"Grid\"},{\"attributes\":{\"line_alpha\":0.1,\"line_color\":\"red\",\"x\":{\"field\":\"FPR_CA\"},\"y\":{\"field\":\"TPR_CA\"}},\"id\":\"1294\",\"type\":\"Line\"},{\"attributes\":{},\"id\":\"1262\",\"type\":\"LinearScale\"},{\"attributes\":{},\"id\":\"1265\",\"type\":\"BasicTicker\"},{\"attributes\":{},\"id\":\"1323\",\"type\":\"BasicTickFormatter\"},{\"attributes\":{},\"id\":\"1260\",\"type\":\"LinearScale\"},{\"attributes\":{},\"id\":\"1269\",\"type\":\"BasicTicker\"},{\"attributes\":{\"click_policy\":\"hide\",\"coordinates\":null,\"group\":null,\"items\":[{\"id\":\"1299\"},{\"id\":\"1300\"}],\"location\":\"top\"},\"id\":\"1298\",\"type\":\"Legend\"}],\"root_ids\":[\"1253\"]},\"title\":\"Bokeh Application\",\"version\":\"2.4.2\"}};\n",
       "  const render_items = [{\"docid\":\"dffa366f-cf8b-47a0-9130-67de30b15329\",\"root_ids\":[\"1253\"],\"roots\":{\"1253\":\"a5a196a0-f8f9-4379-9446-09660c951b51\"}}];\n",
       "  root.Bokeh.embed.embed_items_notebook(docs_json, render_items);\n",
       "\n",
       "  }\n",
       "  if (root.Bokeh !== undefined) {\n",
       "    embed_document(root);\n",
       "  } else {\n",
       "    let attempts = 0;\n",
       "    const timer = setInterval(function(root) {\n",
       "      if (root.Bokeh !== undefined) {\n",
       "        clearInterval(timer);\n",
       "        embed_document(root);\n",
       "      } else {\n",
       "        attempts++;\n",
       "        if (attempts > 100) {\n",
       "          clearInterval(timer);\n",
       "          console.log(\"Bokeh: ERROR: Unable to run BokehJS code because BokehJS library is missing\");\n",
       "        }\n",
       "      }\n",
       "    }, 10, root)\n",
       "  }\n",
       "})(window);"
      ],
      "application/vnd.bokehjs_exec.v0+json": ""
     },
     "metadata": {
      "application/vnd.bokehjs_exec.v0+json": {
       "id": "1253"
      }
     },
     "output_type": "display_data"
    }
   ],
   "source": [
    "source = ColumnDataSource(df_roc)\n",
    "p = figure(title=\"True positive and false positive rates for different thresholds\", x_axis_label=\"FPR\", y_axis_label=\"TPR\")\n",
    "\n",
    "l_aa = p.line(x=\"FPR_AA\",  y=\"TPR_AA\", source=source, color=\"blue\")\n",
    "l_ca = p.line(x=\"FPR_CA\",  y=\"TPR_CA\", source=source, color=\"red\")\n",
    "\n",
    "legend = Legend(items=[(\"African-Americans\", [l_aa]), (\"Caucasians\", [l_ca])], location=\"top\")\n",
    "p.add_layout(legend, 'right')\n",
    "p.legend.click_policy=\"hide\" #assigns the click policy (you can try to use ''hide')\n",
    "show(p) #displays your plot\n"
   ]
  },
  {
   "cell_type": "code",
   "execution_count": 26,
   "metadata": {},
   "outputs": [
    {
     "data": {
      "text/html": [
       "\n",
       "\n",
       "\n",
       "\n",
       "\n",
       "\n",
       "  <div class=\"bk-root\" id=\"52f8ccf4-1f39-4a20-aa16-282391fd8e3f\" data-root-id=\"1253\"></div>\n"
      ]
     },
     "metadata": {},
     "output_type": "display_data"
    },
    {
     "data": {
      "application/javascript": [
       "(function(root) {\n",
       "  function embed_document(root) {\n",
       "    \n",
       "  const docs_json = {\"52e4839a-5bb4-406a-9edf-da8e08a0876b\":{\"defs\":[],\"roots\":{\"references\":[{\"attributes\":{\"below\":[{\"id\":\"1264\"}],\"center\":[{\"id\":\"1267\"},{\"id\":\"1271\"}],\"left\":[{\"id\":\"1268\"}],\"renderers\":[{\"id\":\"1290\"},{\"id\":\"1296\"},{\"id\":\"1387\"}],\"right\":[{\"id\":\"1298\"}],\"title\":{\"id\":\"1254\"},\"toolbar\":{\"id\":\"1279\"},\"x_range\":{\"id\":\"1256\"},\"x_scale\":{\"id\":\"1260\"},\"y_range\":{\"id\":\"1258\"},\"y_scale\":{\"id\":\"1262\"}},\"id\":\"1253\",\"subtype\":\"Figure\",\"type\":\"Plot\"},{\"attributes\":{\"line_color\":\"red\",\"x\":{\"field\":\"FPR_CA\"},\"y\":{\"field\":\"TPR_CA\"}},\"id\":\"1293\",\"type\":\"Line\"},{\"attributes\":{\"axis_label\":\"TPR\",\"coordinates\":null,\"formatter\":{\"id\":\"1323\"},\"group\":null,\"major_label_policy\":{\"id\":\"1324\"},\"ticker\":{\"id\":\"1269\"}},\"id\":\"1268\",\"type\":\"LinearAxis\"},{\"attributes\":{},\"id\":\"1275\",\"type\":\"SaveTool\"},{\"attributes\":{},\"id\":\"1276\",\"type\":\"ResetTool\"},{\"attributes\":{\"line_alpha\":0.2,\"line_color\":\"red\",\"x\":{\"field\":\"FPR_CA\"},\"y\":{\"field\":\"TPR_CA\"}},\"id\":\"1295\",\"type\":\"Line\"},{\"attributes\":{\"overlay\":{\"id\":\"1278\"}},\"id\":\"1274\",\"type\":\"BoxZoomTool\"},{\"attributes\":{},\"id\":\"1277\",\"type\":\"HelpTool\"},{\"attributes\":{\"source\":{\"id\":\"1381\"}},\"id\":\"1388\",\"type\":\"CDSView\"},{\"attributes\":{},\"id\":\"1419\",\"type\":\"Selection\"},{\"attributes\":{\"tools\":[{\"id\":\"1272\"},{\"id\":\"1273\"},{\"id\":\"1274\"},{\"id\":\"1275\"},{\"id\":\"1276\"},{\"id\":\"1277\"},{\"id\":\"1421\"}]},\"id\":\"1279\",\"type\":\"Toolbar\"},{\"attributes\":{\"data\":{\"index\":[0,1,2,3,4,5,6,7,8,9,10,11,12,13,14,15,16,17,18,19],\"th\":{\"__ndarray__\":\"8WjjiLX45D754b6ZSXK8P2y+6Lb1ccw/7QV5UGNV1T+lrH3Fy3HcP64pQR0ax+E/CX3DV05V5T9l0EWSguPoP8EjyMy2cew/HXdKB+v/7z/xaOOItfjkPvnhvplJcrw/bL7otvVxzD/tBXlQY1XVP6WsfcXLcdw/rilBHRrH4T8JfcNXTlXlP2XQRZKC4+g/wSPIzLZx7D8dd0oH6//vPw==\",\"dtype\":\"float64\",\"order\":\"little\",\"shape\":[20]},\"x\":{\"__ndarray__\":\"fR+r2ZN87z9LS0tLS0vrP7rooosuuug/GwSnMmEb5D8soHG3zivgPxp367wCGtc/q9mTfB+ryT/T0tLS0tLCPyoTtkFwKrM/5xXQuFvnhT9HWO5phOXuP+hh+jgHSes/Bsf4tuRd5T/7eZg+zkHiP9oQVeokrtk/iCp1EtcM0D/aEFXqJK7JP4qsl/08TL8/iCp1EtcMsD8AAAAAAAAAAA==\",\"dtype\":\"float64\",\"order\":\"little\",\"shape\":[20]},\"y\":{\"__ndarray__\":\"+H3f933f7z+O4ziO4zjuPy3LsizLsuw/giAIgiAI6j+/7/u+7/vmP/D7vu/7vuM/r+u6ruu63j8hCIIgCILYPymKoiiKotA/13Vd13Vdpz+19zcGVnvvP4vWFx+uaO0/I5Jl0jMi6T8sWl98uKLlP7ETO7ETO+E/SZZJz4hk2T8ZWO39jYHVP8j5qYSAnM8/XkN5DeU1xD9UCQE5P5VwPw==\",\"dtype\":\"float64\",\"order\":\"little\",\"shape\":[20]}},\"selected\":{\"id\":\"1419\"},\"selection_policy\":{\"id\":\"1418\"}},\"id\":\"1381\",\"type\":\"ColumnDataSource\"},{\"attributes\":{\"fill_color\":{\"value\":\"orange\"},\"line_color\":{\"value\":\"#1f77b4\"},\"x\":{\"field\":\"x\"},\"y\":{\"field\":\"y\"}},\"id\":\"1385\",\"type\":\"Circle\"},{\"attributes\":{},\"id\":\"1327\",\"type\":\"AllLabels\"},{\"attributes\":{},\"id\":\"1273\",\"type\":\"WheelZoomTool\"},{\"attributes\":{},\"id\":\"1329\",\"type\":\"Selection\"},{\"attributes\":{\"bottom_units\":\"screen\",\"coordinates\":null,\"fill_alpha\":0.5,\"fill_color\":\"lightgrey\",\"group\":null,\"left_units\":\"screen\",\"level\":\"overlay\",\"line_alpha\":1.0,\"line_color\":\"black\",\"line_dash\":[4,4],\"line_width\":2,\"right_units\":\"screen\",\"syncable\":false,\"top_units\":\"screen\"},\"id\":\"1278\",\"type\":\"BoxAnnotation\"},{\"attributes\":{\"data\":{\"FPR_AA\":{\"__ndarray__\":\"fR+r2ZN87z9LS0tLS0vrP7rooosuuug/GwSnMmEb5D8soHG3zivgPxp367wCGtc/q9mTfB+ryT/T0tLS0tLCPyoTtkFwKrM/5xXQuFvnhT8=\",\"dtype\":\"float64\",\"order\":\"little\",\"shape\":[10]},\"FPR_CA\":{\"__ndarray__\":\"R1juaYTl7j/oYfo4B0nrPwbH+LbkXeU/+3mYPs5B4j/aEFXqJK7ZP4gqdRLXDNA/2hBV6iSuyT+KrJf9PEy/P4gqdRLXDLA/AAAAAAAAAAA=\",\"dtype\":\"float64\",\"order\":\"little\",\"shape\":[10]},\"TPR_AA\":{\"__ndarray__\":\"+H3f933f7z+O4ziO4zjuPy3LsizLsuw/giAIgiAI6j+/7/u+7/vmP/D7vu/7vuM/r+u6ruu63j8hCIIgCILYPymKoiiKotA/13Vd13Vdpz8=\",\"dtype\":\"float64\",\"order\":\"little\",\"shape\":[10]},\"TPR_CA\":{\"__ndarray__\":\"tfc3BlZ77z+L1hcfrmjtPyOSZdIzIuk/LFpffLii5T+xEzuxEzvhP0mWSc+IZNk/GVjt/Y2B1T/I+amEgJzPP15DeQ3lNcQ/VAkBOT+VcD8=\",\"dtype\":\"float64\",\"order\":\"little\",\"shape\":[10]},\"index\":[0,1,2,3,4,5,6,7,8,9]},\"selected\":{\"id\":\"1329\"},\"selection_policy\":{\"id\":\"1328\"}},\"id\":\"1252\",\"type\":\"ColumnDataSource\"},{\"attributes\":{\"line_alpha\":0.2,\"line_color\":\"blue\",\"x\":{\"field\":\"FPR_AA\"},\"y\":{\"field\":\"TPR_AA\"}},\"id\":\"1289\",\"type\":\"Line\"},{\"attributes\":{},\"id\":\"1256\",\"type\":\"DataRange1d\"},{\"attributes\":{},\"id\":\"1272\",\"type\":\"PanTool\"},{\"attributes\":{\"source\":{\"id\":\"1252\"}},\"id\":\"1291\",\"type\":\"CDSView\"},{\"attributes\":{\"source\":{\"id\":\"1252\"}},\"id\":\"1297\",\"type\":\"CDSView\"},{\"attributes\":{\"fill_alpha\":{\"value\":0.2},\"fill_color\":{\"value\":\"grey\"},\"hatch_alpha\":{\"value\":0.2},\"line_alpha\":{\"value\":0.2},\"line_color\":{\"value\":\"#1f77b4\"},\"x\":{\"field\":\"x\"},\"y\":{\"field\":\"y\"}},\"id\":\"1386\",\"type\":\"Circle\"},{\"attributes\":{\"coordinates\":null,\"data_source\":{\"id\":\"1252\"},\"glyph\":{\"id\":\"1293\"},\"group\":null,\"hover_glyph\":null,\"muted_glyph\":{\"id\":\"1295\"},\"nonselection_glyph\":{\"id\":\"1294\"},\"view\":{\"id\":\"1297\"}},\"id\":\"1296\",\"type\":\"GlyphRenderer\"},{\"attributes\":{\"fill_color\":{\"value\":\"grey\"},\"line_color\":{\"value\":\"#1f77b4\"},\"x\":{\"field\":\"x\"},\"y\":{\"field\":\"y\"}},\"id\":\"1383\",\"type\":\"Circle\"},{\"attributes\":{\"label\":{\"value\":\"Caucasians\"},\"renderers\":[{\"id\":\"1296\"}]},\"id\":\"1300\",\"type\":\"LegendItem\"},{\"attributes\":{\"coordinates\":null,\"data_source\":{\"id\":\"1381\"},\"glyph\":{\"id\":\"1383\"},\"group\":null,\"hover_glyph\":{\"id\":\"1385\"},\"muted_glyph\":{\"id\":\"1386\"},\"nonselection_glyph\":{\"id\":\"1384\"},\"view\":{\"id\":\"1388\"}},\"id\":\"1387\",\"type\":\"GlyphRenderer\"},{\"attributes\":{\"coordinates\":null,\"data_source\":{\"id\":\"1252\"},\"glyph\":{\"id\":\"1287\"},\"group\":null,\"hover_glyph\":null,\"muted_glyph\":{\"id\":\"1289\"},\"nonselection_glyph\":{\"id\":\"1288\"},\"view\":{\"id\":\"1291\"}},\"id\":\"1290\",\"type\":\"GlyphRenderer\"},{\"attributes\":{\"coordinates\":null,\"group\":null,\"text\":\"True positive and false positive rates for different thresholds\"},\"id\":\"1254\",\"type\":\"Title\"},{\"attributes\":{\"line_color\":\"blue\",\"x\":{\"field\":\"FPR_AA\"},\"y\":{\"field\":\"TPR_AA\"}},\"id\":\"1287\",\"type\":\"Line\"},{\"attributes\":{},\"id\":\"1326\",\"type\":\"BasicTickFormatter\"},{\"attributes\":{},\"id\":\"1324\",\"type\":\"AllLabels\"},{\"attributes\":{\"axis\":{\"id\":\"1264\"},\"coordinates\":null,\"group\":null,\"ticker\":null},\"id\":\"1267\",\"type\":\"Grid\"},{\"attributes\":{\"line_alpha\":0.1,\"line_color\":\"blue\",\"x\":{\"field\":\"FPR_AA\"},\"y\":{\"field\":\"TPR_AA\"}},\"id\":\"1288\",\"type\":\"Line\"},{\"attributes\":{},\"id\":\"1328\",\"type\":\"UnionRenderers\"},{\"attributes\":{\"callback\":null,\"renderers\":[{\"id\":\"1387\"}],\"tooltips\":[[\"Threshold\",\"@th\"]]},\"id\":\"1421\",\"type\":\"HoverTool\"},{\"attributes\":{\"axis_label\":\"FPR\",\"coordinates\":null,\"formatter\":{\"id\":\"1326\"},\"group\":null,\"major_label_policy\":{\"id\":\"1327\"},\"ticker\":{\"id\":\"1265\"}},\"id\":\"1264\",\"type\":\"LinearAxis\"},{\"attributes\":{},\"id\":\"1258\",\"type\":\"DataRange1d\"},{\"attributes\":{\"label\":{\"value\":\"African-Americans\"},\"renderers\":[{\"id\":\"1290\"}]},\"id\":\"1299\",\"type\":\"LegendItem\"},{\"attributes\":{\"axis\":{\"id\":\"1268\"},\"coordinates\":null,\"dimension\":1,\"group\":null,\"ticker\":null},\"id\":\"1271\",\"type\":\"Grid\"},{\"attributes\":{\"line_alpha\":0.1,\"line_color\":\"red\",\"x\":{\"field\":\"FPR_CA\"},\"y\":{\"field\":\"TPR_CA\"}},\"id\":\"1294\",\"type\":\"Line\"},{\"attributes\":{},\"id\":\"1269\",\"type\":\"BasicTicker\"},{\"attributes\":{},\"id\":\"1262\",\"type\":\"LinearScale\"},{\"attributes\":{},\"id\":\"1265\",\"type\":\"BasicTicker\"},{\"attributes\":{},\"id\":\"1323\",\"type\":\"BasicTickFormatter\"},{\"attributes\":{},\"id\":\"1418\",\"type\":\"UnionRenderers\"},{\"attributes\":{},\"id\":\"1260\",\"type\":\"LinearScale\"},{\"attributes\":{\"fill_alpha\":{\"value\":0.1},\"fill_color\":{\"value\":\"grey\"},\"hatch_alpha\":{\"value\":0.1},\"line_alpha\":{\"value\":0.1},\"line_color\":{\"value\":\"#1f77b4\"},\"x\":{\"field\":\"x\"},\"y\":{\"field\":\"y\"}},\"id\":\"1384\",\"type\":\"Circle\"},{\"attributes\":{\"click_policy\":\"hide\",\"coordinates\":null,\"group\":null,\"items\":[{\"id\":\"1299\"},{\"id\":\"1300\"}],\"location\":\"top\"},\"id\":\"1298\",\"type\":\"Legend\"}],\"root_ids\":[\"1253\"]},\"title\":\"Bokeh Application\",\"version\":\"2.4.2\"}};\n",
       "  const render_items = [{\"docid\":\"52e4839a-5bb4-406a-9edf-da8e08a0876b\",\"root_ids\":[\"1253\"],\"roots\":{\"1253\":\"52f8ccf4-1f39-4a20-aa16-282391fd8e3f\"}}];\n",
       "  root.Bokeh.embed.embed_items_notebook(docs_json, render_items);\n",
       "\n",
       "  }\n",
       "  if (root.Bokeh !== undefined) {\n",
       "    embed_document(root);\n",
       "  } else {\n",
       "    let attempts = 0;\n",
       "    const timer = setInterval(function(root) {\n",
       "      if (root.Bokeh !== undefined) {\n",
       "        clearInterval(timer);\n",
       "        embed_document(root);\n",
       "      } else {\n",
       "        attempts++;\n",
       "        if (attempts > 100) {\n",
       "          clearInterval(timer);\n",
       "          console.log(\"Bokeh: ERROR: Unable to run BokehJS code because BokehJS library is missing\");\n",
       "        }\n",
       "      }\n",
       "    }, 10, root)\n",
       "  }\n",
       "})(window);"
      ],
      "application/vnd.bokehjs_exec.v0+json": ""
     },
     "metadata": {
      "application/vnd.bokehjs_exec.v0+json": {
       "id": "1253"
      }
     },
     "output_type": "display_data"
    }
   ],
   "source": [
    "from bokeh.models import HoverTool\n",
    "x = np.concatenate((roc_aa[:, 1:2], roc_ca[:, 1:2]), axis=0)\n",
    "y = np.concatenate((roc_aa[:, 2:], roc_ca[:, 2:]), axis=0)\n",
    "th = np.concatenate((roc_aa[:, :1], roc_ca[:, :1]), axis=0)\n",
    "df_helper = pd.DataFrame(np.concatenate((x, y, th), axis=1), columns=[\"x\", \"y\", \"th\"])\n",
    "helper_source = ColumnDataSource(df_helper)\n",
    "\n",
    "cr = p.circle('x','y', source=helper_source, fill_color='grey', hover_fill_color='orange')\n",
    "p.add_tools(HoverTool(tooltips=[('Threshold', '@th')], renderers=[cr]))\n",
    "show(p)"
   ]
  },
  {
   "cell_type": "markdown",
   "metadata": {},
   "source": [
    "The chosen threshold here is 0.889 for the African-Americans and 0.778 for the Caucasians."
   ]
  },
  {
   "cell_type": "code",
   "execution_count": 29,
   "metadata": {},
   "outputs": [
    {
     "data": {
      "image/png": "[encoded data removed]",
      "text/plain": [
       "<Figure size 864x288 with 2 Axes>"
      ]
     },
     "metadata": {
      "needs_background": "light"
     },
     "output_type": "display_data"
    },
    {
     "name": "stdout",
     "output_type": "stream",
     "text": [
      "Predicted recommit rate:\n",
      "Caucasians: 0.17\n",
      "African-Americans: 0.18\n",
      "\n",
      "Actual recommit rate:\n",
      "Caucasians: 0.44\n",
      "African-Americans: 0.57\n",
      "\n",
      "Original model\n",
      "\n",
      "Caucasians:\n",
      "Accuracy: 0.6\n",
      "Precision: 0.55\n",
      "Recall: 0.48\n",
      "\n",
      "African-Americans:\n",
      "Accuracy: 0.62\n",
      "Precision: 0.67\n",
      "Recall: 0.67\n",
      "\n",
      "Debiased model\n",
      "\n",
      "Caucasians:\n",
      "Accuracy: 0.6\n",
      "Precision: 0.61\n",
      "Recall: 0.24\n",
      "\n",
      "African-Americans:\n",
      "Accuracy: 0.54\n",
      "Precision: 0.82\n",
      "Recall: 0.26\n"
     ]
    }
   ],
   "source": [
    "th_aa = 0.889\n",
    "th_ca = 0.778\n",
    "y_hat_ca = predict_using_th(y_probCA, th_ca)\n",
    "y_hat_aa = predict_using_th(y_probAA, th_aa)\n",
    "equalOddsTableCA = compute_matrix(y_hat_ca, test_labelsCA)\n",
    "equalOddsTableAA = compute_matrix(y_hat_aa, test_labelsAA)\n",
    "\n",
    "fig, axs = plt.subplots(1, 2, figsize=(12, 4), constrained_layout=True)\n",
    "axs[0].set_title(\"Caucasians\")\n",
    "axs[1].set_title(\"African-Americans\")\n",
    "axs[0].axis('off')\n",
    "axs[1].axis('off')\n",
    "\n",
    "tableCA = axs[0].table(cellText=equalOddsTableCA, rowLabels=pred_labels, colLabels=ac_labels, loc=\"center\")\n",
    "tableAA = axs[1].table(cellText=equalOddsTableAA, rowLabels=pred_labels, colLabels=ac_labels, loc=\"center\")\n",
    "tableAA.scale(1, 4)\n",
    "tableCA.scale(1, 4)\n",
    "plt.show()\n",
    "\n",
    "equal_odds_rec_rate_CA = np.count_nonzero(y_hat_ca == 1) / len(y_hat_ca)\n",
    "equal_odds_rec_rate_AA = np.count_nonzero(y_hat_aa == 1) / len(y_hat_aa)\n",
    "\n",
    "\n",
    "print(f\"Predicted recommit rate:\\nCaucasians: {equal_odds_rec_rate_CA:.2}\\nAfrican-Americans: {equal_odds_rec_rate_AA:.2}\\n\")\n",
    "print(f\"Actual recommit rate:\\nCaucasians: {act_rec_rate_CA:.2}\\nAfrican-Americans: {act_rec_rate_AA:.2}\")\n",
    "print()\n",
    "print(f\"Original model\\n\\nCaucasians:\\n{performance_string(predictionsCA, test_labelsCA)}\\n\\nAfrican-Americans:\\n{performance_string(predictionsAA, test_labelsAA)}\\n\")\n",
    "print(f\"Debiased model\\n\\nCaucasians:\\n{performance_string(y_hat_ca, test_labelsCA)}\\n\\nAfrican-Americans:\\n{performance_string(y_hat_aa, test_labelsAA)}\")"
   ]
  },
  {
   "cell_type": "markdown",
   "metadata": {},
   "source": [
    "Well done! It is now time for you to have a break, relax and be proud of the awesome work you have done!! But before you go, please <mark> take a minute of your time (it is really one minute) to fill this [form](https://forms.gle/fbUXFxmJ283cKGvy6). Thank you so much! </mark>"
   ]
  }
 ],
 "metadata": {
  "kernelspec": {
   "display_name": "Python 3 (ipykernel)",
   "language": "python",
   "name": "python3"
  },
  "language_info": {
   "codemirror_mode": {
    "name": "ipython",
    "version": 3
   },
   "file_extension": ".py",
   "mimetype": "text/x-python",
   "name": "python",
   "nbconvert_exporter": "python",
   "pygments_lexer": "ipython3",
   "version": "3.7.12"
  }
 },
 "nbformat": 4,
 "nbformat_minor": 4
}
